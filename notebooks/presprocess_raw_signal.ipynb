{
 "cells": [
  {
   "cell_type": "markdown",
   "metadata": {},
   "source": [
    "[![Open in Colab](https://colab.research.google.com/assets/colab-badge.svg)](https://colab.research.google.com/github/repos-especializacion-UdeA/data-raw/blob/main/notebooks/merge_databases.ipynb)"
   ]
  },
  {
   "cell_type": "markdown",
   "metadata": {
    "id": "pcTBB7Xloswp"
   },
   "source": [
    "# Combinación de todas las bases de datos\n",
    "\n",
    "El siguiente notebook explora de manera sencilla un archivo de matlab donde se guarda la información de un sensor."
   ]
  },
  {
   "cell_type": "code",
   "execution_count": 7,
   "metadata": {},
   "outputs": [
    {
     "name": "stdout",
     "output_type": "stream",
     "text": [
      "Requirement already satisfied: ydata_profiling in c:\\users\\usuario\\anaconda3\\lib\\site-packages (4.12.0)\n",
      "Requirement already satisfied: tqdm<5,>=4.48.2 in c:\\users\\usuario\\anaconda3\\lib\\site-packages (from ydata_profiling) (4.64.1)\n",
      "Requirement already satisfied: pydantic>=2 in c:\\users\\usuario\\anaconda3\\lib\\site-packages (from ydata_profiling) (2.5.2)\n",
      "Requirement already satisfied: visions[type_image_path]<0.7.7,>=0.7.5 in c:\\users\\usuario\\anaconda3\\lib\\site-packages (from ydata_profiling) (0.7.6)\n",
      "Requirement already satisfied: PyYAML<6.1,>=5.0.0 in c:\\users\\usuario\\anaconda3\\lib\\site-packages (from ydata_profiling) (6.0)\n",
      "Requirement already satisfied: seaborn<0.14,>=0.10.1 in c:\\users\\usuario\\anaconda3\\lib\\site-packages (from ydata_profiling) (0.12.1)\n",
      "Requirement already satisfied: multimethod<2,>=1.4 in c:\\users\\usuario\\anaconda3\\lib\\site-packages (from ydata_profiling) (1.12)\n",
      "Requirement already satisfied: wordcloud>=1.9.3 in c:\\users\\usuario\\anaconda3\\lib\\site-packages (from ydata_profiling) (1.9.3)\n",
      "Requirement already satisfied: phik<0.13,>=0.11.1 in c:\\users\\usuario\\anaconda3\\lib\\site-packages (from ydata_profiling) (0.12.4)\n",
      "Requirement already satisfied: jinja2<3.2,>=2.11.1 in c:\\users\\usuario\\anaconda3\\lib\\site-packages (from ydata_profiling) (3.1.2)\n",
      "Requirement already satisfied: matplotlib<3.10,>=3.5 in c:\\users\\usuario\\anaconda3\\lib\\site-packages (from ydata_profiling) (3.6.2)\n",
      "Requirement already satisfied: requests<3,>=2.24.0 in c:\\users\\usuario\\anaconda3\\lib\\site-packages (from ydata_profiling) (2.28.1)\n",
      "Requirement already satisfied: htmlmin==0.1.12 in c:\\users\\usuario\\anaconda3\\lib\\site-packages (from ydata_profiling) (0.1.12)\n",
      "Requirement already satisfied: imagehash==4.3.1 in c:\\users\\usuario\\anaconda3\\lib\\site-packages (from ydata_profiling) (4.3.1)\n",
      "Requirement already satisfied: pandas!=1.4.0,<3,>1.1 in c:\\users\\usuario\\anaconda3\\lib\\site-packages (from ydata_profiling) (2.2.3)\n",
      "Requirement already satisfied: scipy<1.14,>=1.4.1 in c:\\users\\usuario\\anaconda3\\lib\\site-packages (from ydata_profiling) (1.9.3)\n",
      "Requirement already satisfied: numba<1,>=0.56.0 in c:\\users\\usuario\\anaconda3\\lib\\site-packages (from ydata_profiling) (0.56.4)\n",
      "Requirement already satisfied: statsmodels<1,>=0.13.2 in c:\\users\\usuario\\anaconda3\\lib\\site-packages (from ydata_profiling) (0.13.2)\n",
      "Requirement already satisfied: numpy<2.2,>=1.16.0 in c:\\users\\usuario\\anaconda3\\lib\\site-packages (from ydata_profiling) (1.23.5)\n",
      "Requirement already satisfied: dacite>=1.8 in c:\\users\\usuario\\anaconda3\\lib\\site-packages (from ydata_profiling) (1.8.1)\n",
      "Requirement already satisfied: typeguard<5,>=3 in c:\\users\\usuario\\anaconda3\\lib\\site-packages (from ydata_profiling) (4.4.1)\n",
      "Requirement already satisfied: PyWavelets in c:\\users\\usuario\\anaconda3\\lib\\site-packages (from imagehash==4.3.1->ydata_profiling) (1.4.1)\n",
      "Requirement already satisfied: pillow in c:\\users\\usuario\\anaconda3\\lib\\site-packages (from imagehash==4.3.1->ydata_profiling) (9.3.0)\n",
      "Requirement already satisfied: MarkupSafe>=2.0 in c:\\users\\usuario\\anaconda3\\lib\\site-packages (from jinja2<3.2,>=2.11.1->ydata_profiling) (2.1.3)\n",
      "Requirement already satisfied: contourpy>=1.0.1 in c:\\users\\usuario\\anaconda3\\lib\\site-packages (from matplotlib<3.10,>=3.5->ydata_profiling) (1.0.5)\n",
      "Requirement already satisfied: fonttools>=4.22.0 in c:\\users\\usuario\\anaconda3\\lib\\site-packages (from matplotlib<3.10,>=3.5->ydata_profiling) (4.25.0)\n",
      "Requirement already satisfied: packaging>=20.0 in c:\\users\\usuario\\anaconda3\\lib\\site-packages (from matplotlib<3.10,>=3.5->ydata_profiling) (22.0)\n",
      "Requirement already satisfied: cycler>=0.10 in c:\\users\\usuario\\anaconda3\\lib\\site-packages (from matplotlib<3.10,>=3.5->ydata_profiling) (0.11.0)\n",
      "Requirement already satisfied: kiwisolver>=1.0.1 in c:\\users\\usuario\\anaconda3\\lib\\site-packages (from matplotlib<3.10,>=3.5->ydata_profiling) (1.4.4)\n",
      "Requirement already satisfied: python-dateutil>=2.7 in c:\\users\\usuario\\anaconda3\\lib\\site-packages (from matplotlib<3.10,>=3.5->ydata_profiling) (2.8.2)\n",
      "Requirement already satisfied: pyparsing>=2.2.1 in c:\\users\\usuario\\anaconda3\\lib\\site-packages (from matplotlib<3.10,>=3.5->ydata_profiling) (3.0.9)\n",
      "Requirement already satisfied: llvmlite<0.40,>=0.39.0dev0 in c:\\users\\usuario\\anaconda3\\lib\\site-packages (from numba<1,>=0.56.0->ydata_profiling) (0.39.1)\n",
      "Requirement already satisfied: setuptools in c:\\users\\usuario\\anaconda3\\lib\\site-packages (from numba<1,>=0.56.0->ydata_profiling) (65.6.3)\n",
      "Requirement already satisfied: tzdata>=2022.7 in c:\\users\\usuario\\anaconda3\\lib\\site-packages (from pandas!=1.4.0,<3,>1.1->ydata_profiling) (2023.3)\n",
      "Requirement already satisfied: pytz>=2020.1 in c:\\users\\usuario\\anaconda3\\lib\\site-packages (from pandas!=1.4.0,<3,>1.1->ydata_profiling) (2022.7)\n",
      "Requirement already satisfied: joblib>=0.14.1 in c:\\users\\usuario\\anaconda3\\lib\\site-packages (from phik<0.13,>=0.11.1->ydata_profiling) (1.1.1)\n",
      "Requirement already satisfied: pydantic-core==2.14.5 in c:\\users\\usuario\\anaconda3\\lib\\site-packages (from pydantic>=2->ydata_profiling) (2.14.5)\n",
      "Requirement already satisfied: annotated-types>=0.4.0 in c:\\users\\usuario\\anaconda3\\lib\\site-packages (from pydantic>=2->ydata_profiling) (0.6.0)\n",
      "Requirement already satisfied: typing-extensions>=4.6.1 in c:\\users\\usuario\\anaconda3\\lib\\site-packages (from pydantic>=2->ydata_profiling) (4.12.2)\n",
      "Requirement already satisfied: idna<4,>=2.5 in c:\\users\\usuario\\anaconda3\\lib\\site-packages (from requests<3,>=2.24.0->ydata_profiling) (3.4)\n",
      "Requirement already satisfied: charset-normalizer<3,>=2 in c:\\users\\usuario\\anaconda3\\lib\\site-packages (from requests<3,>=2.24.0->ydata_profiling) (2.0.4)\n",
      "Requirement already satisfied: certifi>=2017.4.17 in c:\\users\\usuario\\anaconda3\\lib\\site-packages (from requests<3,>=2.24.0->ydata_profiling) (2023.11.17)\n",
      "Requirement already satisfied: urllib3<1.27,>=1.21.1 in c:\\users\\usuario\\anaconda3\\lib\\site-packages (from requests<3,>=2.24.0->ydata_profiling) (1.26.13)\n",
      "Requirement already satisfied: patsy>=0.5.2 in c:\\users\\usuario\\anaconda3\\lib\\site-packages (from statsmodels<1,>=0.13.2->ydata_profiling) (0.5.2)\n",
      "Requirement already satisfied: colorama in c:\\users\\usuario\\anaconda3\\lib\\site-packages (from tqdm<5,>=4.48.2->ydata_profiling) (0.4.6)\n",
      "Requirement already satisfied: importlib-metadata>=3.6 in c:\\users\\usuario\\anaconda3\\lib\\site-packages (from typeguard<5,>=3->ydata_profiling) (4.11.3)\n",
      "Requirement already satisfied: attrs>=19.3.0 in c:\\users\\usuario\\anaconda3\\lib\\site-packages (from visions[type_image_path]<0.7.7,>=0.7.5->ydata_profiling) (21.4.0)\n",
      "Requirement already satisfied: networkx>=2.4 in c:\\users\\usuario\\anaconda3\\lib\\site-packages (from visions[type_image_path]<0.7.7,>=0.7.5->ydata_profiling) (2.8.4)\n",
      "Requirement already satisfied: zipp>=0.5 in c:\\users\\usuario\\anaconda3\\lib\\site-packages (from importlib-metadata>=3.6->typeguard<5,>=3->ydata_profiling) (3.11.0)\n",
      "Requirement already satisfied: six in c:\\users\\usuario\\anaconda3\\lib\\site-packages (from patsy>=0.5.2->statsmodels<1,>=0.13.2->ydata_profiling) (1.16.0)\n"
     ]
    }
   ],
   "source": [
    "try:\n",
    "    import scipy.io\n",
    "except ImportError:\n",
    "    !pip install scipy\n",
    "\n",
    "try:\n",
    "    from ydata_profiling import ProfileReport\n",
    "except ImportError:\n",
    "    !pip install ydata_profiling"
   ]
  },
  {
   "cell_type": "markdown",
   "metadata": {},
   "source": [
    "## 1. Librerias y configuraciones previas"
   ]
  },
  {
   "cell_type": "code",
   "execution_count": 8,
   "metadata": {},
   "outputs": [
    {
     "ename": "ImportError",
     "evalue": "C extension: None not built. If you want to import pandas from the source directory, you may need to run 'python setup.py build_ext' to build the C extensions first.",
     "output_type": "error",
     "traceback": [
      "\u001b[1;31m---------------------------------------------------------------------------\u001b[0m",
      "\u001b[1;31mImportError\u001b[0m                               Traceback (most recent call last)",
      "\u001b[1;32mc:\\Users\\Usuario\\anaconda3\\lib\\site-packages\\pandas\\__init__.py\u001b[0m in \u001b[0;36m<module>\u001b[1;34m\u001b[0m\n\u001b[0;32m     56\u001b[0m     \u001b[1;31m# numpy compat\u001b[0m\u001b[1;33m\u001b[0m\u001b[1;33m\u001b[0m\u001b[0m\n\u001b[1;32m---> 57\u001b[1;33m     from pandas.compat import (\n\u001b[0m\u001b[0;32m     58\u001b[0m         \u001b[0mis_numpy_dev\u001b[0m \u001b[1;32mas\u001b[0m \u001b[0m_is_numpy_dev\u001b[0m\u001b[1;33m,\u001b[0m  \u001b[1;31m# pyright: ignore[reportUnusedImport] # noqa: F401\u001b[0m\u001b[1;33m\u001b[0m\u001b[1;33m\u001b[0m\u001b[0m\n",
      "\u001b[1;32mc:\\Users\\Usuario\\anaconda3\\lib\\site-packages\\pandas\\compat\\__init__.py\u001b[0m in \u001b[0;36m<module>\u001b[1;34m\u001b[0m\n\u001b[0;32m     25\u001b[0m \u001b[1;32mimport\u001b[0m \u001b[0mpandas\u001b[0m\u001b[1;33m.\u001b[0m\u001b[0mcompat\u001b[0m\u001b[1;33m.\u001b[0m\u001b[0mcompressors\u001b[0m\u001b[1;33m\u001b[0m\u001b[1;33m\u001b[0m\u001b[0m\n\u001b[1;32m---> 26\u001b[1;33m \u001b[1;32mfrom\u001b[0m \u001b[0mpandas\u001b[0m\u001b[1;33m.\u001b[0m\u001b[0mcompat\u001b[0m\u001b[1;33m.\u001b[0m\u001b[0mnumpy\u001b[0m \u001b[1;32mimport\u001b[0m \u001b[0mis_numpy_dev\u001b[0m\u001b[1;33m\u001b[0m\u001b[1;33m\u001b[0m\u001b[0m\n\u001b[0m\u001b[0;32m     27\u001b[0m from pandas.compat.pyarrow import (\n",
      "\u001b[1;32mc:\\Users\\Usuario\\anaconda3\\lib\\site-packages\\pandas\\compat\\numpy\\__init__.py\u001b[0m in \u001b[0;36m<module>\u001b[1;34m\u001b[0m\n\u001b[0;32m     20\u001b[0m \u001b[1;32mif\u001b[0m \u001b[0m_nlv\u001b[0m \u001b[1;33m<\u001b[0m \u001b[0mVersion\u001b[0m\u001b[1;33m(\u001b[0m\u001b[0m_min_numpy_ver\u001b[0m\u001b[1;33m)\u001b[0m\u001b[1;33m:\u001b[0m\u001b[1;33m\u001b[0m\u001b[1;33m\u001b[0m\u001b[0m\n\u001b[1;32m---> 21\u001b[1;33m     raise ImportError(\n\u001b[0m\u001b[0;32m     22\u001b[0m         \u001b[1;34mf\"this version of pandas is incompatible with numpy < {_min_numpy_ver}\\n\"\u001b[0m\u001b[1;33m\u001b[0m\u001b[1;33m\u001b[0m\u001b[0m\n",
      "\u001b[1;31mImportError\u001b[0m: this version of pandas is incompatible with numpy < 1.22.4\nyour numpy version is 1.21.6.\nPlease upgrade numpy to >= 1.22.4 to use this pandas version",
      "\nThe above exception was the direct cause of the following exception:\n",
      "\u001b[1;31mImportError\u001b[0m                               Traceback (most recent call last)",
      "\u001b[1;32m~\\AppData\\Local\\Temp\\ipykernel_6780\\2936438737.py\u001b[0m in \u001b[0;36m<module>\u001b[1;34m\u001b[0m\n\u001b[0;32m      2\u001b[0m \u001b[1;32mimport\u001b[0m \u001b[0mos\u001b[0m\u001b[1;33m\u001b[0m\u001b[1;33m\u001b[0m\u001b[0m\n\u001b[0;32m      3\u001b[0m \u001b[1;32mimport\u001b[0m \u001b[0mzipfile\u001b[0m\u001b[1;33m\u001b[0m\u001b[1;33m\u001b[0m\u001b[0m\n\u001b[1;32m----> 4\u001b[1;33m \u001b[1;32mfrom\u001b[0m \u001b[0mydata_profiling\u001b[0m \u001b[1;32mimport\u001b[0m \u001b[0mProfileReport\u001b[0m\u001b[1;33m\u001b[0m\u001b[1;33m\u001b[0m\u001b[0m\n\u001b[0m\u001b[0;32m      5\u001b[0m \u001b[1;33m\u001b[0m\u001b[0m\n\u001b[0;32m      6\u001b[0m \u001b[1;31m# Get the absolute path of the current notebook\u001b[0m\u001b[1;33m\u001b[0m\u001b[1;33m\u001b[0m\u001b[0m\n",
      "\u001b[1;32mc:\\Users\\Usuario\\anaconda3\\lib\\site-packages\\ydata_profiling\\__init__.py\u001b[0m in \u001b[0;36m<module>\u001b[1;34m\u001b[0m\n\u001b[0;32m     12\u001b[0m \u001b[1;32mimport\u001b[0m \u001b[0mimportlib\u001b[0m\u001b[1;33m.\u001b[0m\u001b[0mutil\u001b[0m  \u001b[1;31m# isort:skip # noqa\u001b[0m\u001b[1;33m\u001b[0m\u001b[1;33m\u001b[0m\u001b[0m\n\u001b[0;32m     13\u001b[0m \u001b[1;33m\u001b[0m\u001b[0m\n\u001b[1;32m---> 14\u001b[1;33m \u001b[1;32mfrom\u001b[0m \u001b[0mydata_profiling\u001b[0m\u001b[1;33m.\u001b[0m\u001b[0mcompare_reports\u001b[0m \u001b[1;32mimport\u001b[0m \u001b[0mcompare\u001b[0m  \u001b[1;31m# isort:skip # noqa\u001b[0m\u001b[1;33m\u001b[0m\u001b[1;33m\u001b[0m\u001b[0m\n\u001b[0m\u001b[0;32m     15\u001b[0m \u001b[1;32mfrom\u001b[0m \u001b[0mydata_profiling\u001b[0m\u001b[1;33m.\u001b[0m\u001b[0mcontroller\u001b[0m \u001b[1;32mimport\u001b[0m \u001b[0mpandas_decorator\u001b[0m  \u001b[1;31m# isort:skip # noqa\u001b[0m\u001b[1;33m\u001b[0m\u001b[1;33m\u001b[0m\u001b[0m\n\u001b[0;32m     16\u001b[0m \u001b[1;32mfrom\u001b[0m \u001b[0mydata_profiling\u001b[0m\u001b[1;33m.\u001b[0m\u001b[0mprofile_report\u001b[0m \u001b[1;32mimport\u001b[0m \u001b[0mProfileReport\u001b[0m  \u001b[1;31m# isort:skip # noqa\u001b[0m\u001b[1;33m\u001b[0m\u001b[1;33m\u001b[0m\u001b[0m\n",
      "\u001b[1;32mc:\\Users\\Usuario\\anaconda3\\lib\\site-packages\\ydata_profiling\\compare_reports.py\u001b[0m in \u001b[0;36m<module>\u001b[1;34m\u001b[0m\n\u001b[0;32m      4\u001b[0m \u001b[1;32mfrom\u001b[0m \u001b[0mtyping\u001b[0m \u001b[1;32mimport\u001b[0m \u001b[0mAny\u001b[0m\u001b[1;33m,\u001b[0m \u001b[0mList\u001b[0m\u001b[1;33m,\u001b[0m \u001b[0mOptional\u001b[0m\u001b[1;33m,\u001b[0m \u001b[0mTuple\u001b[0m\u001b[1;33m,\u001b[0m \u001b[0mUnion\u001b[0m\u001b[1;33m\u001b[0m\u001b[1;33m\u001b[0m\u001b[0m\n\u001b[0;32m      5\u001b[0m \u001b[1;33m\u001b[0m\u001b[0m\n\u001b[1;32m----> 6\u001b[1;33m \u001b[1;32mimport\u001b[0m \u001b[0mpandas\u001b[0m \u001b[1;32mas\u001b[0m \u001b[0mpd\u001b[0m\u001b[1;33m\u001b[0m\u001b[1;33m\u001b[0m\u001b[0m\n\u001b[0m\u001b[0;32m      7\u001b[0m \u001b[1;32mfrom\u001b[0m \u001b[0mdacite\u001b[0m \u001b[1;32mimport\u001b[0m \u001b[0mfrom_dict\u001b[0m\u001b[1;33m\u001b[0m\u001b[1;33m\u001b[0m\u001b[0m\n\u001b[0;32m      8\u001b[0m \u001b[1;33m\u001b[0m\u001b[0m\n",
      "\u001b[1;32mc:\\Users\\Usuario\\anaconda3\\lib\\site-packages\\pandas\\__init__.py\u001b[0m in \u001b[0;36m<module>\u001b[1;34m\u001b[0m\n\u001b[0;32m     60\u001b[0m \u001b[1;32mexcept\u001b[0m \u001b[0mImportError\u001b[0m \u001b[1;32mas\u001b[0m \u001b[0m_err\u001b[0m\u001b[1;33m:\u001b[0m  \u001b[1;31m# pragma: no cover\u001b[0m\u001b[1;33m\u001b[0m\u001b[1;33m\u001b[0m\u001b[0m\n\u001b[0;32m     61\u001b[0m     \u001b[0m_module\u001b[0m \u001b[1;33m=\u001b[0m \u001b[0m_err\u001b[0m\u001b[1;33m.\u001b[0m\u001b[0mname\u001b[0m\u001b[1;33m\u001b[0m\u001b[1;33m\u001b[0m\u001b[0m\n\u001b[1;32m---> 62\u001b[1;33m     raise ImportError(\n\u001b[0m\u001b[0;32m     63\u001b[0m         \u001b[1;34mf\"C extension: {_module} not built. If you want to import \"\u001b[0m\u001b[1;33m\u001b[0m\u001b[1;33m\u001b[0m\u001b[0m\n\u001b[0;32m     64\u001b[0m         \u001b[1;34m\"pandas from the source directory, you may need to run \"\u001b[0m\u001b[1;33m\u001b[0m\u001b[1;33m\u001b[0m\u001b[0m\n",
      "\u001b[1;31mImportError\u001b[0m: C extension: None not built. If you want to import pandas from the source directory, you may need to run 'python setup.py build_ext' to build the C extensions first."
     ]
    }
   ],
   "source": [
    "import sys\n",
    "import os\n",
    "import zipfile\n",
    "from ydata_profiling import ProfileReport\n",
    "\n",
    "# Get the absolute path of the current notebook\n",
    "notebook_path = \".\"\n",
    "print(notebook_path)\n",
    "try:\n",
    "    import google.colab\n",
    "    if not(os.path.exists(\"/content/data-raw/notebooks\")):\n",
    "        !git clone https://github.com/repos-especializacion-UdeA/data-raw.git\n",
    "    %cd /content/data-raw/notebooks   \n",
    "    %pwd\n",
    "    ruta_base = '/content/data-raw/notebooks/'\n",
    "    sys.path.append(ruta_base)\n",
    "except ImportError:\n",
    "    print(\"El notebook no se está ejecutando en Google Colab.\")\n",
    "    ruta_base = './'"
   ]
  },
  {
   "cell_type": "code",
   "execution_count": 9,
   "metadata": {},
   "outputs": [
    {
     "ename": "ImportError",
     "evalue": "C extension: None not built. If you want to import pandas from the source directory, you may need to run 'python setup.py build_ext' to build the C extensions first.",
     "output_type": "error",
     "traceback": [
      "\u001b[1;31m---------------------------------------------------------------------------\u001b[0m",
      "\u001b[1;31mImportError\u001b[0m                               Traceback (most recent call last)",
      "\u001b[1;32mc:\\Users\\Usuario\\anaconda3\\lib\\site-packages\\pandas\\__init__.py\u001b[0m in \u001b[0;36m<module>\u001b[1;34m\u001b[0m\n\u001b[0;32m     56\u001b[0m     \u001b[1;31m# numpy compat\u001b[0m\u001b[1;33m\u001b[0m\u001b[1;33m\u001b[0m\u001b[0m\n\u001b[1;32m---> 57\u001b[1;33m     from pandas.compat import (\n\u001b[0m\u001b[0;32m     58\u001b[0m         \u001b[0mis_numpy_dev\u001b[0m \u001b[1;32mas\u001b[0m \u001b[0m_is_numpy_dev\u001b[0m\u001b[1;33m,\u001b[0m  \u001b[1;31m# pyright: ignore[reportUnusedImport] # noqa: F401\u001b[0m\u001b[1;33m\u001b[0m\u001b[1;33m\u001b[0m\u001b[0m\n",
      "\u001b[1;32mc:\\Users\\Usuario\\anaconda3\\lib\\site-packages\\pandas\\compat\\__init__.py\u001b[0m in \u001b[0;36m<module>\u001b[1;34m\u001b[0m\n\u001b[0;32m     25\u001b[0m \u001b[1;32mimport\u001b[0m \u001b[0mpandas\u001b[0m\u001b[1;33m.\u001b[0m\u001b[0mcompat\u001b[0m\u001b[1;33m.\u001b[0m\u001b[0mcompressors\u001b[0m\u001b[1;33m\u001b[0m\u001b[1;33m\u001b[0m\u001b[0m\n\u001b[1;32m---> 26\u001b[1;33m \u001b[1;32mfrom\u001b[0m \u001b[0mpandas\u001b[0m\u001b[1;33m.\u001b[0m\u001b[0mcompat\u001b[0m\u001b[1;33m.\u001b[0m\u001b[0mnumpy\u001b[0m \u001b[1;32mimport\u001b[0m \u001b[0mis_numpy_dev\u001b[0m\u001b[1;33m\u001b[0m\u001b[1;33m\u001b[0m\u001b[0m\n\u001b[0m\u001b[0;32m     27\u001b[0m from pandas.compat.pyarrow import (\n",
      "\u001b[1;32mc:\\Users\\Usuario\\anaconda3\\lib\\site-packages\\pandas\\compat\\numpy\\__init__.py\u001b[0m in \u001b[0;36m<module>\u001b[1;34m\u001b[0m\n\u001b[0;32m     20\u001b[0m \u001b[1;32mif\u001b[0m \u001b[0m_nlv\u001b[0m \u001b[1;33m<\u001b[0m \u001b[0mVersion\u001b[0m\u001b[1;33m(\u001b[0m\u001b[0m_min_numpy_ver\u001b[0m\u001b[1;33m)\u001b[0m\u001b[1;33m:\u001b[0m\u001b[1;33m\u001b[0m\u001b[1;33m\u001b[0m\u001b[0m\n\u001b[1;32m---> 21\u001b[1;33m     raise ImportError(\n\u001b[0m\u001b[0;32m     22\u001b[0m         \u001b[1;34mf\"this version of pandas is incompatible with numpy < {_min_numpy_ver}\\n\"\u001b[0m\u001b[1;33m\u001b[0m\u001b[1;33m\u001b[0m\u001b[0m\n",
      "\u001b[1;31mImportError\u001b[0m: this version of pandas is incompatible with numpy < 1.22.4\nyour numpy version is 1.21.6.\nPlease upgrade numpy to >= 1.22.4 to use this pandas version",
      "\nThe above exception was the direct cause of the following exception:\n",
      "\u001b[1;31mImportError\u001b[0m                               Traceback (most recent call last)",
      "\u001b[1;32m~\\AppData\\Local\\Temp\\ipykernel_6780\\2709531760.py\u001b[0m in \u001b[0;36m<module>\u001b[1;34m\u001b[0m\n\u001b[0;32m      4\u001b[0m \u001b[1;31m# Tratamiento de datos\u001b[0m\u001b[1;33m\u001b[0m\u001b[1;33m\u001b[0m\u001b[0m\n\u001b[0;32m      5\u001b[0m \u001b[1;31m# ==============================================================================\u001b[0m\u001b[1;33m\u001b[0m\u001b[1;33m\u001b[0m\u001b[0m\n\u001b[1;32m----> 6\u001b[1;33m \u001b[1;32mimport\u001b[0m \u001b[0mpandas\u001b[0m \u001b[1;32mas\u001b[0m \u001b[0mpd\u001b[0m\u001b[1;33m\u001b[0m\u001b[1;33m\u001b[0m\u001b[0m\n\u001b[0m\u001b[0;32m      7\u001b[0m \u001b[1;32mimport\u001b[0m \u001b[0mnumpy\u001b[0m \u001b[1;32mas\u001b[0m \u001b[0mnp\u001b[0m\u001b[1;33m\u001b[0m\u001b[1;33m\u001b[0m\u001b[0m\n\u001b[0;32m      8\u001b[0m \u001b[1;32mimport\u001b[0m \u001b[0mscipy\u001b[0m \u001b[1;32mas\u001b[0m \u001b[0msc\u001b[0m\u001b[1;33m\u001b[0m\u001b[1;33m\u001b[0m\u001b[0m\n",
      "\u001b[1;32mc:\\Users\\Usuario\\anaconda3\\lib\\site-packages\\pandas\\__init__.py\u001b[0m in \u001b[0;36m<module>\u001b[1;34m\u001b[0m\n\u001b[0;32m     60\u001b[0m \u001b[1;32mexcept\u001b[0m \u001b[0mImportError\u001b[0m \u001b[1;32mas\u001b[0m \u001b[0m_err\u001b[0m\u001b[1;33m:\u001b[0m  \u001b[1;31m# pragma: no cover\u001b[0m\u001b[1;33m\u001b[0m\u001b[1;33m\u001b[0m\u001b[0m\n\u001b[0;32m     61\u001b[0m     \u001b[0m_module\u001b[0m \u001b[1;33m=\u001b[0m \u001b[0m_err\u001b[0m\u001b[1;33m.\u001b[0m\u001b[0mname\u001b[0m\u001b[1;33m\u001b[0m\u001b[1;33m\u001b[0m\u001b[0m\n\u001b[1;32m---> 62\u001b[1;33m     raise ImportError(\n\u001b[0m\u001b[0;32m     63\u001b[0m         \u001b[1;34mf\"C extension: {_module} not built. If you want to import \"\u001b[0m\u001b[1;33m\u001b[0m\u001b[1;33m\u001b[0m\u001b[0m\n\u001b[0;32m     64\u001b[0m         \u001b[1;34m\"pandas from the source directory, you may need to run \"\u001b[0m\u001b[1;33m\u001b[0m\u001b[1;33m\u001b[0m\u001b[0m\n",
      "\u001b[1;31mImportError\u001b[0m: C extension: None not built. If you want to import pandas from the source directory, you may need to run 'python setup.py build_ext' to build the C extensions first."
     ]
    }
   ],
   "source": [
    "# command to view figures in Jupyter notebook\n",
    "# %matplotlib inline \n",
    "\n",
    "# Tratamiento de datos\n",
    "# ==============================================================================\n",
    "import pandas as pd\n",
    "import numpy as np\n",
    "import scipy as sc\n",
    "\n",
    "# Almacenar en caché los resultados de funciones en el disco\n",
    "# ==============================================================================\n",
    "import joblib\n",
    "\n",
    "\n",
    "# Gestion de librerias\n",
    "# ==============================================================================\n",
    "from importlib import reload\n",
    "\n",
    "# Matemáticas y estadísticas\n",
    "# ==============================================================================\n",
    "import math\n",
    "\n",
    "# Gráficos\n",
    "# ==============================================================================\n",
    "import matplotlib.pyplot as plt\n",
    "from matplotlib import style\n",
    "import seaborn as sns\n",
    "\n",
    "\n",
    "# Configuración warnings\n",
    "# ==============================================================================\n",
    "import warnings\n",
    "warnings.filterwarnings('ignore')\n",
    "\n",
    "# Formateo y estilo\n",
    "# ==============================================================================\n",
    "from IPython.display import Markdown, display\n",
    "\n",
    "# Biblioteca scipy y componentes\n",
    "# ==============================================================================\n",
    "import scipy.io\n",
    "from scipy import signal\n"
   ]
  },
  {
   "cell_type": "markdown",
   "metadata": {},
   "source": [
    "## 2. Funciones"
   ]
  },
  {
   "cell_type": "code",
   "execution_count": null,
   "metadata": {},
   "outputs": [],
   "source": [
    "# Funciones externas\n",
    "# ==============================================================================\n",
    "# from utils.funciones1 import multiple_plot\n",
    "# from utils.funciones2 import test_hola, graficar_medida, graficar_medida2, filter_signal, \\\n",
    "#                             segmentar_data_base, aplanar_data_base, aplanar_ventana"
   ]
  },
  {
   "cell_type": "code",
   "execution_count": null,
   "metadata": {},
   "outputs": [],
   "source": [
    "# test_hola()"
   ]
  },
  {
   "cell_type": "markdown",
   "metadata": {},
   "source": [
    "## 3. Carga del dataset"
   ]
  },
  {
   "cell_type": "markdown",
   "metadata": {},
   "source": [
    "Inicialmente se verifica que el archivo csv este disponible."
   ]
  },
  {
   "cell_type": "code",
   "execution_count": null,
   "metadata": {},
   "outputs": [],
   "source": [
    "# Verificando que se encuentre el archivo\n",
    "\n",
    "DATASETS_PATH = \"./datasets/\"\n",
    "dataset_zip = \"raw_dataset.zip\"\n",
    "dataset_csv = \"raw_dataset.csv\"\n",
    "\n",
    "if not(os.path.exists(DATASETS_PATH + dataset_zip)):\n",
    "    # Descoprimir dataset\n",
    "    with zipfile.ZipFile(DATASETS_PATH + dataset_zip, 'r') as zip_ref:\n",
    "        zip_ref.extractall(\".\")\n",
    "else:\n",
    "    print(\"El dataset existe\")\n",
    "    "
   ]
  },
  {
   "cell_type": "markdown",
   "metadata": {},
   "source": [
    "A continuación se realiza la carga del dataset completo"
   ]
  },
  {
   "cell_type": "code",
   "execution_count": null,
   "metadata": {},
   "outputs": [],
   "source": [
    "# Carga del dataset\n",
    "df = pd.read_csv(DATASETS_PATH + dataset_csv)"
   ]
  },
  {
   "cell_type": "markdown",
   "metadata": {},
   "source": [
    "A continuación se verifica la carga del dataset:"
   ]
  },
  {
   "cell_type": "code",
   "execution_count": null,
   "metadata": {},
   "outputs": [],
   "source": [
    "# Mostrar las primeras filas del DataFrame\n",
    "df.head()"
   ]
  },
  {
   "cell_type": "code",
   "execution_count": null,
   "metadata": {},
   "outputs": [],
   "source": [
    "df.info()"
   ]
  },
  {
   "cell_type": "markdown",
   "metadata": {},
   "source": [
    "Hay un total de 13 columnas y ninguna tiene registros faltantes (missing values). Debido a esto, no nos tendremos que preocupar por realizar una imputación de datos.\n",
    "\n",
    "Es importante aclarar que las columnas `s` (sujeto), `rep` (repeticion) y `label` (postura) estan relacionadas con datos categoricos por lo que vamos a proceder a realizar la transformación de estos."
   ]
  },
  {
   "cell_type": "code",
   "execution_count": null,
   "metadata": {},
   "outputs": [],
   "source": [
    "# Convertir a categorico\n",
    "df['s'] = pd.Categorical(df['s'])\n",
    "df['rep'] = pd.Categorical(df['rep'])\n",
    "df['label'] = pd.Categorical(df['label'])"
   ]
  },
  {
   "cell_type": "markdown",
   "metadata": {},
   "source": [
    "Se verifica que los cambios en el dataframe se hayan efectuado."
   ]
  },
  {
   "cell_type": "code",
   "execution_count": null,
   "metadata": {},
   "outputs": [],
   "source": [
    "#Lista de variables categóricas\n",
    "catCols = df.select_dtypes(include = ['object', 'category']).columns.tolist()\n",
    "print(f\"Variables categoricas: {catCols}\")\n",
    "numCols = df.select_dtypes(include = ['float64','int32','int64']).columns.tolist()\n",
    "print(f\"Variables categoricas: {numCols}\")"
   ]
  },
  {
   "cell_type": "markdown",
   "metadata": {},
   "source": [
    "## Contextualización de los datos"
   ]
  },
  {
   "cell_type": "markdown",
   "metadata": {},
   "source": [
    "Antes de seguir, como los datos a trabajar son señales se va a proceder a realizar unas graficas temporales de la señal para poner en contexto al lector. \n",
    "\n",
    "Es importante tener en cuenta que la frecuencia de muestro de la señal es de 100 Hz"
   ]
  },
  {
   "cell_type": "code",
   "execution_count": null,
   "metadata": {},
   "outputs": [],
   "source": [
    "sample_freq = 100"
   ]
  },
  {
   "cell_type": "markdown",
   "metadata": {},
   "source": [
    "Vamos a agregar una columna asociada al tiempo en segundos en la que se hace la muestra:"
   ]
  },
  {
   "cell_type": "code",
   "execution_count": null,
   "metadata": {},
   "outputs": [],
   "source": [
    "# Columna del tiempo\n",
    "df['t'] = (1/sample_freq)*df.index"
   ]
  },
  {
   "cell_type": "code",
   "execution_count": null,
   "metadata": {},
   "outputs": [],
   "source": [
    "df.head()"
   ]
  },
  {
   "cell_type": "markdown",
   "metadata": {},
   "source": [
    "Tomemos las muestras asociadas al sujeto 1:"
   ]
  },
  {
   "cell_type": "code",
   "execution_count": null,
   "metadata": {},
   "outputs": [],
   "source": [
    "df_s1 = df[df['s'] == 1]"
   ]
  },
  {
   "cell_type": "markdown",
   "metadata": {},
   "source": [
    "Graficando la señales asociadas a los sensores sEMG"
   ]
  },
  {
   "cell_type": "code",
   "execution_count": null,
   "metadata": {},
   "outputs": [],
   "source": [
    "emg_signals_s1 = df_s1.iloc[:,1:11].values\n",
    "timeEMG_s1 = df_s1['t']\n",
    "repeticiones_s1 = df_s1['rep']\n",
    "posturas_s1 = df_s1['label']"
   ]
  },
  {
   "cell_type": "code",
   "execution_count": null,
   "metadata": {},
   "outputs": [],
   "source": [
    "# Crear la figura y subgráficos\n",
    "fig, ax = plt.subplots(figsize=(15, 5))\n",
    "# print(emg_signals_s1)\n",
    "\n",
    "for i in range(emg_signals_s1.shape[1]):\n",
    "    ax.plot(timeEMG_s1, emg_signals_s1[:,i], label='sEMG ' + str(i+1))\n",
    "\n",
    "# Agregar etiquetas de los ejes y título del gráfico\n",
    "ax.set_xlabel('Tiempo (s)', fontsize=12)\n",
    "ax.set_ylabel('Amplitud', fontsize=12)\n",
    "# Configurar la cuadrícula con estilo personalizado\n",
    "ax.grid(color='gray', linestyle='--', linewidth=0.5, alpha=0.7)\n",
    "\n",
    "# Mostrar la leyenda para identificar cada serie de datos\n",
    "ax.legend(loc='upper right')\n",
    "\n",
    "# Mostrar la leyenda de líneas adicionales\n",
    "ax.legend()\n",
    "\n",
    "# Agregar una cuadrícula\n",
    "ax.grid(True)\n",
    "\n",
    "# Mostrar el gráfico\n",
    "plt.xlim(min(timeEMG_s1),max(timeEMG_s1))\n",
    "plt.show()"
   ]
  },
  {
   "cell_type": "markdown",
   "metadata": {},
   "source": [
    "La siguiente grafica muestra no solo las señales emg sino tambien las repeticiones y las posturas para dar mas contexto:"
   ]
  },
  {
   "cell_type": "code",
   "execution_count": null,
   "metadata": {},
   "outputs": [],
   "source": [
    "# Crear la figura y la cuadrícula de subplots (2 filas, 2 columnas)\n",
    "fig, axs = plt.subplots(3, 1, figsize=(10, 9))\n",
    "\n",
    "# Gráfico 1: Seno\n",
    "for i in range(emg_signals_s1.shape[1]):\n",
    "    axs[0].plot(timeEMG_s1, emg_signals_s1[:,i])\n",
    "axs[0].set_title('Señales sEMG', fontsize=14)\n",
    "axs[0].set_xlabel('Tiempo (s)', fontsize=12)\n",
    "axs[0].set_ylabel('Amplitud', fontsize=12)\n",
    "axs[0].grid(color='gray', linestyle='--', linewidth=0.5, alpha=0.7)\n",
    "axs[0].set_xlim(min(timeEMG_s1),max(timeEMG_s1))\n",
    "\n",
    "\n",
    "# Gráfico 2: Postura\n",
    "axs[1].plot(timeEMG_s1, posturas_s1, color='orange')\n",
    "axs[1].set_title('Posturas', fontsize=14)\n",
    "axs[1].set_xlabel('Tiempo (s)', fontsize=12)\n",
    "axs[1].set_ylabel('Postura', fontsize=12)\n",
    "axs[1].grid(color='gray', linestyle='--', linewidth=0.5, alpha=0.7)\n",
    "axs[1].set_xlim(min(timeEMG_s1),max(timeEMG_s1))\n",
    "\n",
    "# Gráfico 3: Repeticion\n",
    "axs[2].plot(timeEMG_s1, repeticiones_s1, color='green')\n",
    "axs[2].set_title('Repeticiones', fontsize=14)\n",
    "axs[2].set_xlabel('Tiempo (s)', fontsize=12)\n",
    "axs[2].set_ylabel('Repeticion', fontsize=12)\n",
    "axs[2].grid(color='gray', linestyle='--', linewidth=0.5, alpha=0.7)\n",
    "axs[2].set_xlim(min(timeEMG_s1),max(timeEMG_s1))\n",
    "\n",
    "# Ajustar el espacio entre los subplots\n",
    "plt.tight_layout()\n",
    "\n",
    "# Mostrar el gráfico con subplots\n",
    "plt.show()"
   ]
  },
  {
   "cell_type": "markdown",
   "metadata": {},
   "source": [
    "Es importante notar, que la captura mostrada tiene todos los ejercicios y todas las repeticiones. En la siguiente figura se muestra la grafica resaltando el caso en el cual se lleva solamente los ejercicios asociados a la repetición 2."
   ]
  },
  {
   "cell_type": "code",
   "execution_count": null,
   "metadata": {},
   "outputs": [],
   "source": [
    "# Numero del estimulo\n",
    "def indice_postura(estimulo_data, num):\n",
    "  if isinstance(estimulo_data, pd.DataFrame):\n",
    "    # Nota: Cuadrar aca...\n",
    "    return (estimulo_data.index[estimulo_data == num][0],estimulo_data.index[estimulo_data == num][-1])\n",
    "  else:\n",
    "    index_cambios = np.where(estimulo_data == num)[0]\n",
    "    if num == 1:      \n",
    "      return (0,index_cambios[-1])\n",
    "    else:\n",
    "      index_cambios_anterior = np.where(estimulo_data == num - 1)[0]\n",
    "      return (index_cambios_anterior[-1] + 1,index_cambios[-1])"
   ]
  },
  {
   "cell_type": "code",
   "execution_count": null,
   "metadata": {},
   "outputs": [],
   "source": [
    "# Crear la figura y subgráficos\n",
    "ind_post2 = indice_postura(posturas_s1,2)\n",
    "start_index_post2 = ind_post2[0]\n",
    "end_index_post2 = ind_post2[1]\n",
    "\n",
    "timeEMG_post2 = timeEMG_s1[start_index_post2:end_index_post2 + 1] \n",
    "emgs_s1_post2 = emg_signals_s1[start_index_post2:end_index_post2 + 1,:]\n",
    "label_s1_post2 = posturas_s1[start_index_post2:end_index_post2 + 1]\n",
    "\n",
    "# Crear la figura y la cuadrícula de subplots (2 filas, 2 columnas)\n",
    "fig, axs = plt.subplots(2, 1, figsize=(10, 9))\n",
    "\n",
    "# Gráfico 1: Seno\n",
    "for i in range(emgs_s1_post2.shape[1]):\n",
    "    axs[0].plot(timeEMG_post2, emgs_s1_post2[:,i], label='sEMG ' + str(i+1))\n",
    "axs[0].set_title('Señales sEMG', fontsize=14)\n",
    "axs[0].set_xlabel('Tiempo (s)', fontsize=12)\n",
    "axs[0].set_ylabel('Amplitud', fontsize=12)\n",
    "axs[0].grid(color='gray', linestyle='--', linewidth=0.5, alpha=0.7)\n",
    "#plt.xlim(min(timeEMG_post1),max(timeEMG_post1))\n",
    "\n",
    "\n",
    "# Gráfico 2: Postura\n",
    "axs[1].plot(timeEMG_post2, label_s1_post2, color='orange')\n",
    "axs[1].set_title('Posturas', fontsize=14)\n",
    "axs[1].set_xlabel('Tiempo (s)', fontsize=12)\n",
    "axs[1].set_ylabel('Postura', fontsize=12)\n",
    "axs[1].grid(color='gray', linestyle='--', linewidth=0.5, alpha=0.7)\n",
    "#plt.xlim(min(timeEMG_post1),max(timeEMG_post1))\n",
    "\n",
    "# Ajustar el espacio entre los subplots\n",
    "plt.tight_layout()\n",
    "\n",
    "# Mostrar el gráfico con subplots\n",
    "\n",
    "plt.show()"
   ]
  },
  {
   "cell_type": "markdown",
   "metadata": {},
   "source": [
    "## Filtrado"
   ]
  },
  {
   "cell_type": "markdown",
   "metadata": {},
   "source": [
    "En la figura anterior se pueden apreciar las 10 repeticiones realizadas para la postura 2. Es importante notar que la señal esta muy ruidosa por lo que es necesario realizar un Filtrado."
   ]
  },
  {
   "cell_type": "code",
   "execution_count": null,
   "metadata": {},
   "outputs": [],
   "source": [
    "# perform 2-order 1Hz low-pass filter\n",
    "cutoff_freq = 1\n",
    "nyquist = sample_freq/2\n",
    "filter_order = 2\n",
    "filter_type = 'lowpass'\n",
    "normal_cutoff = cutoff_freq / nyquist\n",
    "b, a = signal.butter(N = filter_order, \n",
    "                     Wn = normal_cutoff, \n",
    "                     btype = filter_type)"
   ]
  },
  {
   "cell_type": "code",
   "execution_count": null,
   "metadata": {},
   "outputs": [],
   "source": [
    "emgs_s1_post2_filter = signal.filtfilt(b, a, emgs_s1_post2, axis=0)"
   ]
  },
  {
   "cell_type": "code",
   "execution_count": null,
   "metadata": {},
   "outputs": [],
   "source": [
    "# Crear la figura y subgráficos\n",
    "\n",
    "# Crear la figura y la cuadrícula de subplots (2 filas, 2 columnas)\n",
    "fig, axs = plt.subplots(2, 1, figsize=(10, 9))\n",
    "\n",
    "# Gráfico 1: sEMG\n",
    "for i in range(emgs_s1_post2_filter.shape[1]):\n",
    "    axs[0].plot(timeEMG_post2, emgs_s1_post2_filter[:,i], label='sEMG ' + str(i+1))\n",
    "axs[0].set_title('Señales sEMG', fontsize=14)\n",
    "axs[0].set_xlabel('Tiempo (s)', fontsize=12)\n",
    "axs[0].set_ylabel('Amplitud', fontsize=12)\n",
    "axs[0].grid(color='gray', linestyle='--', linewidth=0.5, alpha=0.7)\n",
    "# plt.xlim(min(timeEMG_post2),max(timeEMG_post2))\n",
    "\n",
    "\n",
    "# Gráfico 2: Postura\n",
    "axs[1].plot(timeEMG_post2, label_s1_post2, color='orange')\n",
    "axs[1].set_title('Posturas', fontsize=14)\n",
    "axs[1].set_xlabel('Tiempo (s)', fontsize=12)\n",
    "axs[1].set_ylabel('Postura', fontsize=12)\n",
    "axs[1].grid(color='gray', linestyle='--', linewidth=0.5, alpha=0.7)\n",
    "# plt.xlim(min(timeEMG_post2),max(timeEMG_post2))\n",
    "\n",
    "# Ajustar el espacio entre los subplots\n",
    "plt.tight_layout()\n",
    "\n",
    "# Mostrar el gráfico con subplots\n",
    "\n",
    "plt.show()"
   ]
  },
  {
   "cell_type": "markdown",
   "metadata": {},
   "source": [
    "Teniendo en cuenta lo anterior, es necesario aplicarle todo el filtrado a los datos completos. A continuación se muestran las primeras filas del dataframe sin filtrar:"
   ]
  },
  {
   "cell_type": "code",
   "execution_count": null,
   "metadata": {},
   "outputs": [],
   "source": [
    "df.head()"
   ]
  },
  {
   "cell_type": "markdown",
   "metadata": {},
   "source": [
    "Ahora se procede a filtrar cada una de las columnas de los valores de los sensores sEMG."
   ]
  },
  {
   "cell_type": "code",
   "execution_count": null,
   "metadata": {},
   "outputs": [],
   "source": [
    "# Aplicando el filtrado en cada columna se tiene\n",
    "for col in numCols:\n",
    "    df[col] = signal.filtfilt(b, a, df[col], axis=0)"
   ]
  },
  {
   "cell_type": "markdown",
   "metadata": {},
   "source": [
    "Los resultados del dataframe filtrado se muestra a continuación:"
   ]
  },
  {
   "cell_type": "code",
   "execution_count": null,
   "metadata": {},
   "outputs": [],
   "source": [
    "df.head()"
   ]
  },
  {
   "cell_type": "markdown",
   "metadata": {},
   "source": [
    "## Exploración basica del dataset"
   ]
  },
  {
   "cell_type": "markdown",
   "metadata": {},
   "source": [
    "Inicialmente se explorara el dataset para ver como luce:\n",
    "\n"
   ]
  },
  {
   "cell_type": "code",
   "execution_count": null,
   "metadata": {},
   "outputs": [],
   "source": [
    "df.info()"
   ]
  },
  {
   "cell_type": "code",
   "execution_count": null,
   "metadata": {},
   "outputs": [],
   "source": [
    "# Sujetos\n",
    "df['s'].value_counts().sort_index()"
   ]
  },
  {
   "cell_type": "markdown",
   "metadata": {},
   "source": [
    "Vemos que el numero de muestras por sujeto es aproximadamente el mismo como se puede corroborar en el siguiente grafico de barras"
   ]
  },
  {
   "cell_type": "code",
   "execution_count": null,
   "metadata": {},
   "outputs": [],
   "source": [
    "fig, ax = plt.subplots(1, 1, figsize=(10, 4))\n",
    "sns.countplot(x='s', data=df)\n",
    "ax.set_title('Muestras por sujeto', fontsize=14)\n",
    "ax.set_xlabel('Sujeto', fontsize=12)\n",
    "ax.set_ylabel('Muestras', fontsize=12)\n",
    "plt.show()"
   ]
  },
  {
   "cell_type": "markdown",
   "metadata": {},
   "source": [
    "En lo que respecta a la cantidad de repeticiones tenemos:"
   ]
  },
  {
   "cell_type": "code",
   "execution_count": null,
   "metadata": {},
   "outputs": [],
   "source": [
    "df['rep'].value_counts().sort_index()"
   ]
  },
  {
   "cell_type": "markdown",
   "metadata": {},
   "source": [
    "Hay un total de 10 repeticiones (1 - 10); sin embargo, cuando el sujeto tiene la postura en la posición de descanso, el numero asociado a esta es 0. "
   ]
  },
  {
   "cell_type": "code",
   "execution_count": null,
   "metadata": {},
   "outputs": [],
   "source": [
    "fig, ax = plt.subplots(1, 1, figsize=(10, 4))\n",
    "sns.countplot(x='rep', data=df)\n",
    "ax.set_title('Repeticiones', fontsize=14)\n",
    "ax.set_xlabel('Repeticion', fontsize=12)\n",
    "ax.set_ylabel('Muestras', fontsize=12)\n",
    "plt.show()"
   ]
  },
  {
   "cell_type": "markdown",
   "metadata": {},
   "source": [
    "Tal y como se muestra en la grafica anterior, la cantidad de muestras en la posición de descanso es dominante respecto a las muestras asociadas a las repeticiones.\n",
    "\n",
    "Ahora veamos la cantidad de muestras asociadas a una postura, siendo 0 la postura asociada a la posición de descanso:"
   ]
  },
  {
   "cell_type": "code",
   "execution_count": null,
   "metadata": {},
   "outputs": [],
   "source": [
    "df['label'].value_counts().sort_index()"
   ]
  },
  {
   "cell_type": "code",
   "execution_count": null,
   "metadata": {},
   "outputs": [],
   "source": [
    "fig, ax = plt.subplots(1, 1, figsize=(10, 4))\n",
    "sns.countplot(x='label', data=df)\n",
    "ax.set_title('Posturas', fontsize=14)\n",
    "ax.set_xlabel('Postura', fontsize=12)\n",
    "ax.set_ylabel('Muestras', fontsize=12)\n",
    "plt.show()"
   ]
  },
  {
   "cell_type": "markdown",
   "metadata": {},
   "source": [
    "Vemos que la mayor cantidad de muestras se da para la pocisión de descanso (0) por lo cual esta es una postura dominante"
   ]
  },
  {
   "cell_type": "markdown",
   "metadata": {},
   "source": [
    "### Basic information about the dataset and data types"
   ]
  },
  {
   "cell_type": "code",
   "execution_count": null,
   "metadata": {},
   "outputs": [],
   "source": [
    "df.info()"
   ]
  },
  {
   "cell_type": "code",
   "execution_count": null,
   "metadata": {},
   "outputs": [],
   "source": [
    "# Convertir a categorico\n",
    "df['s'] = pd.Categorical(df['s'])\n",
    "df['rep'] = pd.Categorical(df['rep'])\n",
    "df['label'] = pd.Categorical(df['label'])"
   ]
  },
  {
   "cell_type": "code",
   "execution_count": null,
   "metadata": {},
   "outputs": [],
   "source": [
    "df.info()"
   ]
  },
  {
   "cell_type": "code",
   "execution_count": null,
   "metadata": {},
   "outputs": [],
   "source": [
    "df.columns"
   ]
  },
  {
   "cell_type": "code",
   "execution_count": null,
   "metadata": {},
   "outputs": [],
   "source": [
    "# Completitud\n",
    "df.isna().sum()"
   ]
  },
  {
   "cell_type": "code",
   "execution_count": null,
   "metadata": {},
   "outputs": [],
   "source": [
    "display(df.nunique())\n",
    "display(df['s'].unique())\n",
    "display(df['rep'].unique())\n",
    "display(df['label'].unique())"
   ]
  },
  {
   "cell_type": "markdown",
   "metadata": {},
   "source": [
    "### Analisis univariado"
   ]
  },
  {
   "cell_type": "code",
   "execution_count": null,
   "metadata": {},
   "outputs": [],
   "source": [
    "# Display in normal notation instead of scientific\n",
    "with pd.option_context('float_format', '{:f}'.format):\n",
    "    display(df.iloc[:,:-2].describe())\n"
   ]
  },
  {
   "cell_type": "code",
   "execution_count": null,
   "metadata": {},
   "outputs": [],
   "source": [
    "df.columns[1:11]"
   ]
  },
  {
   "cell_type": "code",
   "execution_count": null,
   "metadata": {},
   "outputs": [],
   "source": [
    "# Iterate through each column and plot on a separate subplot\n",
    "plt.figure(figsize=(15, 10))\n",
    "i = 1\n",
    "for column in df.columns[1:3]:\n",
    "    plt.subplot(3, 2, i)\n",
    "    sns.histplot(df[column], kde=True)\n",
    "    plt.title(f'Distribution of {column}')\n",
    "    plt.xticks(rotation=45)\n",
    "    i += 1\n"
   ]
  },
  {
   "cell_type": "markdown",
   "metadata": {},
   "source": [
    "Para obtener la correlacion vamos a volver el label numerico (de nuevo)"
   ]
  },
  {
   "cell_type": "code",
   "execution_count": null,
   "metadata": {},
   "outputs": [],
   "source": [
    "\n",
    "df['label'] = df['label'].astype('uint8')\n",
    "# Calculate the correlation matrix\n",
    "correlation_matrix = df.iloc[:,:-1].corr()\n",
    "\n",
    "# Print the correlation matrix\n",
    "print(\"Correlation Matrix:\")\n",
    "correlation_matrix"
   ]
  },
  {
   "cell_type": "code",
   "execution_count": null,
   "metadata": {},
   "outputs": [],
   "source": [
    "# Create a heatmap\n",
    "plt.figure(figsize=(10, 8))\n",
    "sns.heatmap(correlation_matrix, annot=True, cmap='coolwarm', fmt=\".2f\", linewidths=0.5)\n",
    "plt.title('Correlation Heatmap')\n",
    "plt.show()"
   ]
  },
  {
   "cell_type": "markdown",
   "metadata": {},
   "source": [
    "### Distribution"
   ]
  },
  {
   "cell_type": "code",
   "execution_count": null,
   "metadata": {},
   "outputs": [],
   "source": [
    "plt.figure(figsize=(15, 10))\n",
    "\n",
    "# Iterate through each channel and plot on a separate subplot\n",
    "for i, column in enumerate(df.columns):\n",
    "    plt.subplot(3, 2, i+1)\n",
    "    sns.histplot(df[column], kde=True)\n",
    "    plt.title(f'Distribution of {column}')\n",
    "    plt.xticks(rotation=45)\n",
    "\n",
    "# Adjust layout and show the plot\n",
    "plt.tight_layout()\n",
    "plt.show()"
   ]
  },
  {
   "cell_type": "code",
   "execution_count": null,
   "metadata": {},
   "outputs": [],
   "source": [
    "print(data_base_filter.shape)\n",
    "print(data_base_filter.isna().sum())"
   ]
  },
  {
   "cell_type": "code",
   "execution_count": null,
   "metadata": {},
   "outputs": [],
   "source": [
    "# Exportamos el dataframe a un archivo CSV\n",
    "# data_base_filter.to_csv('./datasets/dataset.csv', index=False)"
   ]
  },
  {
   "cell_type": "markdown",
   "metadata": {},
   "source": [
    "Hasta aqui queda la base de datos estructurada. La siguiente parte consiste en meterla al modelo y rezar para que de."
   ]
  },
  {
   "cell_type": "markdown",
   "metadata": {},
   "source": [
    "Aqui no se van a eliminar outlines para evitar la perdida de continuidad de la señal."
   ]
  },
  {
   "cell_type": "markdown",
   "metadata": {
    "id": "Rx51nv4B3Cs7"
   },
   "source": [
    "## Referencias\n",
    "\n",
    "* https://github.com/chuawt/eda-starter\n",
    "* https://www.kaggle.com/code/bextuychiev/my-6-part-powerful-eda-template\n",
    "* https://community.ibm.com/community/user/ai-datascience/blogs/shivam-solanki1/2020/02/19/eda-exploratory-data-analysis-with-example-in-jupy\n",
    "* https://github.com/Saba-Gul/Exploratory-Data-Analysis-and-Statistical-Analysis-Notebooks\n",
    "* https://www.datacamp.com/es/tutorial/pandas-profiling-ydata-profiling-in-python-guide\n",
    "* https://docs.profiling.ydata.ai/latest/\n",
    "* https://github.com/Saba-Gul/Exploratory-Data-Analysis-and-Statistical-Analysis-Notebooks/blob/main/Statistics_for_ML.ipynb\n",
    "* https://github.com/Saba-Gul/Exploratory-Data-Analysis-and-Statistical-Analysis-Notebooks/blob/main/Online_Ed_Adaptability.ipynb\n",
    "* https://github.com/Saba-Gul/Exploratory-Data-Analysis-and-Statistical-Analysis-Notebooks/blob/main/Heart_Failure_Survival_Classification.ipynb\n",
    "* https://github.com/akueisara/audio-signal-processing/blob/master/week%204/A4/A4Part2.py"
   ]
  },
  {
   "cell_type": "markdown",
   "metadata": {},
   "source": []
  }
 ],
 "metadata": {
  "colab": {
   "provenance": [],
   "toc_visible": true
  },
  "kernelspec": {
   "display_name": "Python 3",
   "name": "python3"
  },
  "language_info": {
   "codemirror_mode": {
    "name": "ipython",
    "version": 3
   },
   "file_extension": ".py",
   "mimetype": "text/x-python",
   "name": "python",
   "nbconvert_exporter": "python",
   "pygments_lexer": "ipython3",
   "version": "3.9.13"
  }
 },
 "nbformat": 4,
 "nbformat_minor": 0
}
