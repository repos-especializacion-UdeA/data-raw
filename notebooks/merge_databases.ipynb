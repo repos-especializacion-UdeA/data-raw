{
 "cells": [
  {
   "cell_type": "markdown",
   "metadata": {},
   "source": [
    "[![Open in Colab](https://colab.research.google.com/assets/colab-badge.svg)](https://colab.research.google.com/github/repos-especializacion-UdeA/data-raw/blob/main/notebooks/merge_databases.ipynb)"
   ]
  },
  {
   "cell_type": "markdown",
   "metadata": {
    "id": "pcTBB7Xloswp"
   },
   "source": [
    "# Combinación de todas las bases de datos"
   ]
  },
  {
   "cell_type": "markdown",
   "metadata": {},
   "source": [
    "> ### Objetivo\n",
    "> Combinar las bases de datos de los sujetos en una sola."
   ]
  },
  {
   "cell_type": "code",
   "execution_count": 1,
   "metadata": {},
   "outputs": [],
   "source": [
    "try:\n",
    "    import scipy.io\n",
    "except ImportError:\n",
    "    !pip install scipy"
   ]
  },
  {
   "cell_type": "markdown",
   "metadata": {},
   "source": [
    "## 1. Librerias y configuraciones previas"
   ]
  },
  {
   "cell_type": "code",
   "execution_count": 79,
   "metadata": {},
   "outputs": [
    {
     "name": "stdout",
     "output_type": "stream",
     "text": [
      ".\n",
      "El notebook no se está ejecutando en Google Colab.\n"
     ]
    }
   ],
   "source": [
    "import sys\n",
    "import os\n",
    "import zipfile\n",
    "\n",
    "# Get the absolute path of the current notebook\n",
    "notebook_path = \".\"\n",
    "print(notebook_path)\n",
    "try:\n",
    "    import google.colab\n",
    "    !git clone https://github.com/repos-especializacion-UdeA/data-raw.git\n",
    "    %cd /content/data-raw/notebooks   \n",
    "    %pwd\n",
    "    ruta_base = '/content/data-raw/notebooks/'\n",
    "    sys.path.append(ruta_base)\n",
    "except ImportError:\n",
    "    print(\"El notebook no se está ejecutando en Google Colab.\")\n",
    "    ruta_base = './'"
   ]
  },
  {
   "cell_type": "code",
   "execution_count": 3,
   "metadata": {},
   "outputs": [],
   "source": [
    "# command to view figures in Jupyter notebook\n",
    "%matplotlib inline \n",
    "\n",
    "# Tratamiento de datos\n",
    "# ==============================================================================\n",
    "import pandas as pd\n",
    "import numpy as np\n",
    "import scipy as sc\n",
    "\n",
    "# Almacenar en caché los resultados de funciones en el disco\n",
    "# ==============================================================================\n",
    "import joblib\n",
    "\n",
    "\n",
    "# Gestion de librerias\n",
    "# ==============================================================================\n",
    "from importlib import reload\n",
    "\n",
    "# Matemáticas y estadísticas\n",
    "# ==============================================================================\n",
    "import math\n",
    "\n",
    "# Gráficos\n",
    "# ==============================================================================\n",
    "import matplotlib.pyplot as plt\n",
    "from matplotlib import style\n",
    "import seaborn as sns\n",
    "\n",
    "\n",
    "# Configuración warnings\n",
    "# ==============================================================================\n",
    "import warnings\n",
    "warnings.filterwarnings('ignore')\n",
    "\n",
    "# Formateo y estilo\n",
    "# ==============================================================================\n",
    "from IPython.display import Markdown, display\n",
    "\n",
    "# Biblioteca scipy y componentes\n",
    "# ==============================================================================\n",
    "import scipy.io\n",
    "from scipy import signal\n"
   ]
  },
  {
   "cell_type": "markdown",
   "metadata": {},
   "source": [
    "## 2. Carga del dataset"
   ]
  },
  {
   "cell_type": "markdown",
   "metadata": {},
   "source": [
    "A continuación, se muestran los archivos seleccionados (forma `Sx_A1_E1.mat`) elegidos de la base de datos DB1 de Ninapro para el tratamiento posterior.\n",
    "\n",
    "Como los datasets estan "
   ]
  },
  {
   "cell_type": "code",
   "execution_count": 50,
   "metadata": {},
   "outputs": [],
   "source": [
    "DATASETS_PATH = \"./raw_datasets/\"\n",
    "\n",
    "archivos_mat = ['S1_A1_E1.mat', \n",
    "         'S2_A1_E1.mat', \n",
    "         'S3_A1_E1.mat', \n",
    "         'S4_A1_E1.mat', \n",
    "         'S5_A1_E1.mat', \n",
    "         'S6_A1_E1.mat', \n",
    "         'S7_A1_E1.mat', \n",
    "         'S8_A1_E1.mat', \n",
    "         'S9_A1_E1.mat', \n",
    "         'S10_A1_E1.mat', \n",
    "         'S11_A1_E1.mat', \n",
    "         'S12_A1_E1.mat', \n",
    "         'S13_A1_E1.mat', \n",
    "         'S14_A1_E1.mat', \n",
    "         'S15_A1_E1.mat', \n",
    "         'S16_A1_E1.mat', \n",
    "         'S17_A1_E1.mat', \n",
    "         'S18_A1_E1.mat', \n",
    "         'S19_A1_E1.mat', \n",
    "         'S20_A1_E1.mat', \n",
    "         'S21_A1_E1.mat', \n",
    "         'S22_A1_E1.mat', \n",
    "         'S23_A1_E1.mat', \n",
    "         'S24_A1_E1.mat', \n",
    "         'S25_A1_E1.mat', \n",
    "         'S26_A1_E1.mat',\n",
    "         'S27_A1_E1.mat']"
   ]
  },
  {
   "cell_type": "markdown",
   "metadata": {},
   "source": [
    "Visualización de las caracteristicas del archivo MAT cargado. Se toma una muestra del primer archivo solamente"
   ]
  },
  {
   "cell_type": "code",
   "execution_count": 51,
   "metadata": {},
   "outputs": [
    {
     "name": "stdout",
     "output_type": "stream",
     "text": [
      "dict_keys(['__header__', '__version__', '__globals__', 'emg', 'stimulus', 'glove', 'subject', 'exercise', 'repetition', 'restimulus', 'rerepetition'])\n"
     ]
    }
   ],
   "source": [
    "archivo_mat = scipy.io.loadmat(DATASETS_PATH + archivos_mat[0])\n",
    "# print(type(archivo_mat))\n",
    "print(archivo_mat.keys())"
   ]
  },
  {
   "cell_type": "markdown",
   "metadata": {},
   "source": [
    "#### Metadatos"
   ]
  },
  {
   "cell_type": "code",
   "execution_count": 52,
   "metadata": {},
   "outputs": [
    {
     "name": "stdout",
     "output_type": "stream",
     "text": [
      "Metadatos del archivo\n",
      "__header__: b'MATLAB 5.0 MAT-file, Platform: MACI64, Created on: Mon Jul 28 11:54:15 2014' | tipo:<class 'bytes'>\n",
      "__version__: 1.0 | tipo:<class 'str'>\n",
      "__globals__: [] | tipo:<class 'list'>\n"
     ]
    }
   ],
   "source": [
    "# Metadatos\n",
    "print(\"Metadatos del archivo\")\n",
    "for key in list(archivo_mat.keys())[:3]:\n",
    "    # print(key,\": \",archivo_mat[key],sep = \"\")\n",
    "    print(f\"{key}: {archivo_mat[key]} | tipo:{type(archivo_mat[key])}\")"
   ]
  },
  {
   "cell_type": "markdown",
   "metadata": {},
   "source": [
    "#### Informacion de los sensores"
   ]
  },
  {
   "cell_type": "code",
   "execution_count": 53,
   "metadata": {},
   "outputs": [
    {
     "name": "stdout",
     "output_type": "stream",
     "text": [
      "Sensores\n",
      "emg: F: 101014; C: 10 | tipo:<class 'numpy.ndarray'>\n",
      "glove: F: 101014; C: 22 | tipo:<class 'numpy.ndarray'>\n"
     ]
    }
   ],
   "source": [
    "# Informacion de los sensores\n",
    "print(\"Sensores\")\n",
    "for key in ['emg','glove']:\n",
    "    f, c = archivo_mat[key].shape\n",
    "    print(f\"{key}: F: {f}; C: {c} | tipo:{type(archivo_mat[key])}\")"
   ]
  },
  {
   "cell_type": "markdown",
   "metadata": {},
   "source": [
    "#### Informacion sobre el ejercicio"
   ]
  },
  {
   "cell_type": "code",
   "execution_count": 54,
   "metadata": {},
   "outputs": [
    {
     "name": "stdout",
     "output_type": "stream",
     "text": [
      "subject: 1 | tipo:<class 'numpy.ndarray'>\n",
      "exercise: 1 | tipo:<class 'numpy.ndarray'>\n"
     ]
    }
   ],
   "source": [
    "## Carga de la base de datos\n",
    "for key in ['subject', 'exercise']:\n",
    "    f, c = archivo_mat[key].shape\n",
    "    print(f\"{key}: {archivo_mat[key][0,0]} | tipo:{type(archivo_mat[key])}\")"
   ]
  },
  {
   "cell_type": "markdown",
   "metadata": {},
   "source": [
    "#### Estimulos"
   ]
  },
  {
   "cell_type": "code",
   "execution_count": 55,
   "metadata": {},
   "outputs": [
    {
     "name": "stdout",
     "output_type": "stream",
     "text": [
      "stimulus: F: 101014; C: 1 | tipo:<class 'numpy.ndarray'>\n",
      "repetition: F: 101014; C: 1 | tipo:<class 'numpy.ndarray'>\n",
      "restimulus: F: 101014; C: 1 | tipo:<class 'numpy.ndarray'>\n",
      "rerepetition: F: 101014; C: 1 | tipo:<class 'numpy.ndarray'>\n"
     ]
    }
   ],
   "source": [
    "## Carga de la base de datos\n",
    "for key in ['stimulus', 'repetition', 'restimulus', 'rerepetition']:\n",
    "    f, c = archivo_mat[key].shape\n",
    "    print(f\"{key}: F: {f}; C: {c} | tipo:{type(archivo_mat[key])}\")"
   ]
  },
  {
   "cell_type": "markdown",
   "metadata": {},
   "source": [
    "Carga de cada una de las bases de datos asociadas a los sugetos y combinación en una sola."
   ]
  },
  {
   "cell_type": "code",
   "execution_count": 62,
   "metadata": {
    "colab": {
     "base_uri": "https://localhost:8080/"
    },
    "id": "cvOUYvL4qmNX",
    "outputId": "b203dc2d-3dce-4e06-b100-24af396866f1"
   },
   "outputs": [
    {
     "name": "stdout",
     "output_type": "stream",
     "text": [
      "101014 muestras ['sujeto','emg','rerepetition','restimulus'] sujeto 1 agregadas\n",
      "100686 muestras ['sujeto','emg','rerepetition','restimulus'] sujeto 2 agregadas\n",
      "100720 muestras ['sujeto','emg','rerepetition','restimulus'] sujeto 3 agregadas\n",
      "100835 muestras ['sujeto','emg','rerepetition','restimulus'] sujeto 4 agregadas\n",
      "100894 muestras ['sujeto','emg','rerepetition','restimulus'] sujeto 5 agregadas\n",
      "101083 muestras ['sujeto','emg','rerepetition','restimulus'] sujeto 6 agregadas\n",
      "100817 muestras ['sujeto','emg','rerepetition','restimulus'] sujeto 7 agregadas\n",
      "100854 muestras ['sujeto','emg','rerepetition','restimulus'] sujeto 8 agregadas\n",
      "100925 muestras ['sujeto','emg','rerepetition','restimulus'] sujeto 9 agregadas\n",
      "100778 muestras ['sujeto','emg','rerepetition','restimulus'] sujeto 10 agregadas\n",
      "100899 muestras ['sujeto','emg','rerepetition','restimulus'] sujeto 11 agregadas\n",
      "100920 muestras ['sujeto','emg','rerepetition','restimulus'] sujeto 12 agregadas\n",
      "100948 muestras ['sujeto','emg','rerepetition','restimulus'] sujeto 13 agregadas\n",
      "100785 muestras ['sujeto','emg','rerepetition','restimulus'] sujeto 14 agregadas\n",
      "101508 muestras ['sujeto','emg','rerepetition','restimulus'] sujeto 15 agregadas\n",
      "101191 muestras ['sujeto','emg','rerepetition','restimulus'] sujeto 16 agregadas\n",
      "101675 muestras ['sujeto','emg','rerepetition','restimulus'] sujeto 17 agregadas\n",
      "101323 muestras ['sujeto','emg','rerepetition','restimulus'] sujeto 18 agregadas\n",
      "101299 muestras ['sujeto','emg','rerepetition','restimulus'] sujeto 19 agregadas\n",
      "101565 muestras ['sujeto','emg','rerepetition','restimulus'] sujeto 20 agregadas\n",
      "101732 muestras ['sujeto','emg','rerepetition','restimulus'] sujeto 21 agregadas\n",
      "101884 muestras ['sujeto','emg','rerepetition','restimulus'] sujeto 22 agregadas\n",
      "101221 muestras ['sujeto','emg','rerepetition','restimulus'] sujeto 23 agregadas\n",
      "101698 muestras ['sujeto','emg','rerepetition','restimulus'] sujeto 24 agregadas\n",
      "101549 muestras ['sujeto','emg','rerepetition','restimulus'] sujeto 25 agregadas\n",
      "101642 muestras ['sujeto','emg','rerepetition','restimulus'] sujeto 26 agregadas\n",
      "100948 muestras ['sujeto','emg','rerepetition','restimulus'] sujeto 27 agregadas\n"
     ]
    }
   ],
   "source": [
    "## Carga de la base de datos\n",
    "data_base = pd.DataFrame()\n",
    "for i in range(len(archivos_mat)):\n",
    "    ruta_archivo_mat = DATASETS_PATH + archivos_mat[i]\n",
    "    archivo_mat = scipy.io.loadmat(ruta_archivo_mat)\n",
    "    # Obtencion y renombrado de las columnas de interes\n",
    "    df_emg = pd.DataFrame(archivo_mat['emg'])\n",
    "    df_emg.columns = ['emg_' + str(col + 1) for col in df_emg.columns]\n",
    "    df_restimulus = pd.DataFrame(archivo_mat['restimulus'])\n",
    "    df_restimulus.rename(columns={0: 'label'}, inplace= True)\n",
    "    df_repetition = pd.DataFrame(archivo_mat['rerepetition'])\n",
    "    df_repetition.rename(columns={0: 'rep'},inplace= True)\n",
    "    df_subject = pd.DataFrame({'s': [i + 1] * df_repetition.shape[0]}, dtype='int8')\n",
    "    df_subject =  pd.concat([df_subject, df_emg, df_repetition, df_restimulus], axis=1)\n",
    "    print(f\"{df_subject.shape[0]} muestras ['sujeto','emg','rerepetition','restimulus'] sujeto {i + 1} agregadas\")\n",
    "    data_base = pd.concat([data_base, df_subject], ignore_index=True)"
   ]
  },
  {
   "cell_type": "markdown",
   "metadata": {},
   "source": [
    "## Informacion de la base de datos"
   ]
  },
  {
   "cell_type": "code",
   "execution_count": 63,
   "metadata": {},
   "outputs": [
    {
     "name": "stdout",
     "output_type": "stream",
     "text": [
      "<class 'pandas.core.frame.DataFrame'>\n",
      "RangeIndex: 2731393 entries, 0 to 2731392\n",
      "Data columns (total 13 columns):\n",
      " #   Column  Dtype  \n",
      "---  ------  -----  \n",
      " 0   s       int8   \n",
      " 1   emg_1   float64\n",
      " 2   emg_2   float64\n",
      " 3   emg_3   float64\n",
      " 4   emg_4   float64\n",
      " 5   emg_5   float64\n",
      " 6   emg_6   float64\n",
      " 7   emg_7   float64\n",
      " 8   emg_8   float64\n",
      " 9   emg_9   float64\n",
      " 10  emg_10  float64\n",
      " 11  rep     uint8  \n",
      " 12  label   uint8  \n",
      "dtypes: float64(10), int8(1), uint8(2)\n",
      "memory usage: 216.2 MB\n"
     ]
    }
   ],
   "source": [
    "data_base.info()"
   ]
  },
  {
   "cell_type": "markdown",
   "metadata": {},
   "source": [
    "### Contenido de los primeros registros del dataframe"
   ]
  },
  {
   "cell_type": "markdown",
   "metadata": {},
   "source": [
    "A continuación se realiza una vista preliminar del dataframe resultante."
   ]
  },
  {
   "cell_type": "code",
   "execution_count": 65,
   "metadata": {},
   "outputs": [
    {
     "data": {
      "text/html": [
       "<div>\n",
       "<style scoped>\n",
       "    .dataframe tbody tr th:only-of-type {\n",
       "        vertical-align: middle;\n",
       "    }\n",
       "\n",
       "    .dataframe tbody tr th {\n",
       "        vertical-align: top;\n",
       "    }\n",
       "\n",
       "    .dataframe thead th {\n",
       "        text-align: right;\n",
       "    }\n",
       "</style>\n",
       "<table border=\"1\" class=\"dataframe\">\n",
       "  <thead>\n",
       "    <tr style=\"text-align: right;\">\n",
       "      <th></th>\n",
       "      <th>s</th>\n",
       "      <th>emg_1</th>\n",
       "      <th>emg_2</th>\n",
       "      <th>emg_3</th>\n",
       "      <th>emg_4</th>\n",
       "      <th>emg_5</th>\n",
       "      <th>emg_6</th>\n",
       "      <th>emg_7</th>\n",
       "      <th>emg_8</th>\n",
       "      <th>emg_9</th>\n",
       "      <th>emg_10</th>\n",
       "      <th>rep</th>\n",
       "      <th>label</th>\n",
       "    </tr>\n",
       "  </thead>\n",
       "  <tbody>\n",
       "    <tr>\n",
       "      <th>0</th>\n",
       "      <td>1</td>\n",
       "      <td>0.0684</td>\n",
       "      <td>0.0024</td>\n",
       "      <td>0.0024</td>\n",
       "      <td>0.0024</td>\n",
       "      <td>0.0024</td>\n",
       "      <td>0.0098</td>\n",
       "      <td>0.0024</td>\n",
       "      <td>0.0488</td>\n",
       "      <td>0.0024</td>\n",
       "      <td>0.0342</td>\n",
       "      <td>0</td>\n",
       "      <td>0</td>\n",
       "    </tr>\n",
       "    <tr>\n",
       "      <th>1</th>\n",
       "      <td>1</td>\n",
       "      <td>0.0586</td>\n",
       "      <td>0.0024</td>\n",
       "      <td>0.0024</td>\n",
       "      <td>0.0024</td>\n",
       "      <td>0.0024</td>\n",
       "      <td>0.0049</td>\n",
       "      <td>0.0024</td>\n",
       "      <td>0.0415</td>\n",
       "      <td>0.0024</td>\n",
       "      <td>0.0293</td>\n",
       "      <td>0</td>\n",
       "      <td>0</td>\n",
       "    </tr>\n",
       "    <tr>\n",
       "      <th>2</th>\n",
       "      <td>1</td>\n",
       "      <td>0.0562</td>\n",
       "      <td>0.0024</td>\n",
       "      <td>0.0024</td>\n",
       "      <td>0.0024</td>\n",
       "      <td>0.0024</td>\n",
       "      <td>0.0049</td>\n",
       "      <td>0.0024</td>\n",
       "      <td>0.0391</td>\n",
       "      <td>0.0024</td>\n",
       "      <td>0.0244</td>\n",
       "      <td>0</td>\n",
       "      <td>0</td>\n",
       "    </tr>\n",
       "  </tbody>\n",
       "</table>\n",
       "</div>"
      ],
      "text/plain": [
       "   s   emg_1   emg_2   emg_3   emg_4   emg_5   emg_6   emg_7   emg_8   emg_9  \\\n",
       "0  1  0.0684  0.0024  0.0024  0.0024  0.0024  0.0098  0.0024  0.0488  0.0024   \n",
       "1  1  0.0586  0.0024  0.0024  0.0024  0.0024  0.0049  0.0024  0.0415  0.0024   \n",
       "2  1  0.0562  0.0024  0.0024  0.0024  0.0024  0.0049  0.0024  0.0391  0.0024   \n",
       "\n",
       "   emg_10  rep  label  \n",
       "0  0.0342    0      0  \n",
       "1  0.0293    0      0  \n",
       "2  0.0244    0      0  "
      ]
     },
     "execution_count": 65,
     "metadata": {},
     "output_type": "execute_result"
    }
   ],
   "source": [
    "# Primeros registros\n",
    "data_base.head(3)"
   ]
  },
  {
   "cell_type": "code",
   "execution_count": 67,
   "metadata": {},
   "outputs": [
    {
     "data": {
      "text/html": [
       "<div>\n",
       "<style scoped>\n",
       "    .dataframe tbody tr th:only-of-type {\n",
       "        vertical-align: middle;\n",
       "    }\n",
       "\n",
       "    .dataframe tbody tr th {\n",
       "        vertical-align: top;\n",
       "    }\n",
       "\n",
       "    .dataframe thead th {\n",
       "        text-align: right;\n",
       "    }\n",
       "</style>\n",
       "<table border=\"1\" class=\"dataframe\">\n",
       "  <thead>\n",
       "    <tr style=\"text-align: right;\">\n",
       "      <th></th>\n",
       "      <th>s</th>\n",
       "      <th>emg_1</th>\n",
       "      <th>emg_2</th>\n",
       "      <th>emg_3</th>\n",
       "      <th>emg_4</th>\n",
       "      <th>emg_5</th>\n",
       "      <th>emg_6</th>\n",
       "      <th>emg_7</th>\n",
       "      <th>emg_8</th>\n",
       "      <th>emg_9</th>\n",
       "      <th>emg_10</th>\n",
       "      <th>rep</th>\n",
       "      <th>label</th>\n",
       "    </tr>\n",
       "  </thead>\n",
       "  <tbody>\n",
       "    <tr>\n",
       "      <th>2731390</th>\n",
       "      <td>27</td>\n",
       "      <td>0.0684</td>\n",
       "      <td>0.0049</td>\n",
       "      <td>0.0049</td>\n",
       "      <td>0.0024</td>\n",
       "      <td>0.0049</td>\n",
       "      <td>0.0024</td>\n",
       "      <td>0.0049</td>\n",
       "      <td>0.1416</td>\n",
       "      <td>0.0024</td>\n",
       "      <td>0.0024</td>\n",
       "      <td>0</td>\n",
       "      <td>0</td>\n",
       "    </tr>\n",
       "    <tr>\n",
       "      <th>2731391</th>\n",
       "      <td>27</td>\n",
       "      <td>0.0781</td>\n",
       "      <td>0.0024</td>\n",
       "      <td>0.0049</td>\n",
       "      <td>0.0049</td>\n",
       "      <td>0.0049</td>\n",
       "      <td>0.0024</td>\n",
       "      <td>0.0049</td>\n",
       "      <td>0.1538</td>\n",
       "      <td>0.0049</td>\n",
       "      <td>0.0024</td>\n",
       "      <td>0</td>\n",
       "      <td>0</td>\n",
       "    </tr>\n",
       "    <tr>\n",
       "      <th>2731392</th>\n",
       "      <td>27</td>\n",
       "      <td>0.0830</td>\n",
       "      <td>0.0024</td>\n",
       "      <td>0.0024</td>\n",
       "      <td>0.0049</td>\n",
       "      <td>0.0049</td>\n",
       "      <td>0.0049</td>\n",
       "      <td>0.0049</td>\n",
       "      <td>0.1611</td>\n",
       "      <td>0.0049</td>\n",
       "      <td>0.0049</td>\n",
       "      <td>0</td>\n",
       "      <td>0</td>\n",
       "    </tr>\n",
       "  </tbody>\n",
       "</table>\n",
       "</div>"
      ],
      "text/plain": [
       "          s   emg_1   emg_2   emg_3   emg_4   emg_5   emg_6   emg_7   emg_8  \\\n",
       "2731390  27  0.0684  0.0049  0.0049  0.0024  0.0049  0.0024  0.0049  0.1416   \n",
       "2731391  27  0.0781  0.0024  0.0049  0.0049  0.0049  0.0024  0.0049  0.1538   \n",
       "2731392  27  0.0830  0.0024  0.0024  0.0049  0.0049  0.0049  0.0049  0.1611   \n",
       "\n",
       "          emg_9  emg_10  rep  label  \n",
       "2731390  0.0024  0.0024    0      0  \n",
       "2731391  0.0049  0.0024    0      0  \n",
       "2731392  0.0049  0.0049    0      0  "
      ]
     },
     "execution_count": 67,
     "metadata": {},
     "output_type": "execute_result"
    }
   ],
   "source": [
    "# Ultimos registros\n",
    "data_base.tail(3)"
   ]
  },
  {
   "cell_type": "markdown",
   "metadata": {},
   "source": [
    "#### Informacion basica del archivo"
   ]
  },
  {
   "cell_type": "code",
   "execution_count": 68,
   "metadata": {},
   "outputs": [
    {
     "name": "stdout",
     "output_type": "stream",
     "text": [
      "(2731393, 13)\n",
      "s         0\n",
      "emg_1     0\n",
      "emg_2     0\n",
      "emg_3     0\n",
      "emg_4     0\n",
      "emg_5     0\n",
      "emg_6     0\n",
      "emg_7     0\n",
      "emg_8     0\n",
      "emg_9     0\n",
      "emg_10    0\n",
      "rep       0\n",
      "label     0\n",
      "dtype: int64\n"
     ]
    }
   ],
   "source": [
    "print(data_base.shape)\n",
    "print(data_base.isna().sum())"
   ]
  },
  {
   "cell_type": "code",
   "execution_count": 94,
   "metadata": {},
   "outputs": [
    {
     "name": "stdout",
     "output_type": "stream",
     "text": [
      "Generando archivo raw_dataset.csv\n",
      "Tamaño del dataset raw_dataset.csv: 201.359450340271 MB\n",
      "Archivo raw_dataset.zip generado\n",
      "Archivo raw_dataset.csv eliminado\n"
     ]
    }
   ],
   "source": [
    "raw_dataset_name = \"raw_dataset\"\n",
    "raw_dataset_csv = raw_dataset_name + \".csv\"\n",
    "dest_zip = raw_dataset_name + \".zip\"\n",
    "dest_dir_datasets = \"./datasets/\"\n",
    "if not(os.path.exists(dest_dir_datasets + dest_zip)):\n",
    "    # Archivo no existe\n",
    "    # Se exporta el dataframe a un archivo CSV\n",
    "    print(f\"Generando archivo {raw_dataset_csv}\")\n",
    "    data_base.to_csv(dest_dir_datasets + raw_dataset_csv, index=False)\n",
    "    stat_dataset = os.stat(dest_dir_datasets + raw_dataset_csv)\n",
    "    print(f\"Tamaño del dataset {raw_dataset_csv}: {stat_dataset.st_size/((1024 * 1024))} MB\")\n",
    "    # Creacion del archivo comprimido\n",
    "    with zipfile.ZipFile(dest_dir_datasets + dest_zip, 'w', zipfile.ZIP_DEFLATED) as zipf:\n",
    "        print(f\"Archivo {dest_zip} generado\")\n",
    "        zipf.write(dest_dir_datasets + raw_dataset_csv)\n",
    "        os.remove(dest_dir_datasets + raw_dataset_csv)\n",
    "        print(f\"Archivo {raw_dataset_csv} eliminado\")\n",
    "else:\n",
    "   print(\"No se hace nada el archivo o  existe\")"
   ]
  },
  {
   "cell_type": "markdown",
   "metadata": {
    "id": "Rx51nv4B3Cs7"
   },
   "source": [
    "## Referencias\n",
    "\n",
    "* https://github.com/parasgulati8/NinaPro-Helper-Library\n",
    "* https://github.com/Lif3line/nina_helper_package_mk2\n",
    "* https://github.com/cnzero/NinaproCNN/tree/master\n",
    "* https://github.com/sebastiankmiec/NinaTools\n",
    "* https://github.com/sun2009ban/divide_NinaPro_database_5\n",
    "* https://github.com/tsagkas/sEMG-HandGestureRecognition \n",
    "* https://repositorio.unbosque.edu.co/items/61d39597-5a61-491c-909a-849e53efe8ad\n",
    "* https://github.com/parasgulati8/NinaPro-Helper-Library/blob/master/\n",
    "* https://pmc.ncbi.nlm.nih.gov/articles/PMC1455479/#sec2\n",
    "* https://github.com/emckiernan/electrophys\n",
    "* https://github.com/emckiernan/electrophys/blob/master/EMG/EMGbasics/code/EMGvisualization.ipynb\n",
    "* https://gist.github.com/emckiernan/005e971b29a4a0532ee804869470f426\n",
    "* https://electrophys.wordpress.com/\n",
    "* https://electrophys.wordpress.com/home/dataanalysis/extraccion-y-visualizacion-datos/\n",
    "* https://electrophys.wordpress.com/home/electromyography/graphing-and-exploring-emg-data/\n",
    "* https://electrophys.wordpress.com/home/electromyography/filtering-and-analyzing-emg-data/"
   ]
  },
  {
   "cell_type": "markdown",
   "metadata": {},
   "source": []
  }
 ],
 "metadata": {
  "colab": {
   "provenance": [],
   "toc_visible": true
  },
  "kernelspec": {
   "display_name": "Python 3",
   "name": "python3"
  },
  "language_info": {
   "codemirror_mode": {
    "name": "ipython",
    "version": 3
   },
   "file_extension": ".py",
   "mimetype": "text/x-python",
   "name": "python",
   "nbconvert_exporter": "python",
   "pygments_lexer": "ipython3",
   "version": "3.9.13"
  }
 },
 "nbformat": 4,
 "nbformat_minor": 0
}
