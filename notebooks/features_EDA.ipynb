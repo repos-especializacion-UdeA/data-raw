{
 "cells": [
  {
   "cell_type": "markdown",
   "metadata": {},
   "source": [
    "[![Open in Colab](https://colab.research.google.com/assets/colab-badge.svg)](https://colab.research.google.com/github/repos-especializacion-UdeA/data-raw/blob/main/notebooks/features_extraction.ipynb)"
   ]
  },
  {
   "cell_type": "markdown",
   "metadata": {
    "id": "pcTBB7Xloswp"
   },
   "source": [
    "# Extracción de caracteristicas\n",
    "\n",
    "El siguiente notebook explora de manera sencilla un archivo de matlab donde se guarda la información de un sensor."
   ]
  },
  {
   "cell_type": "code",
   "execution_count": null,
   "metadata": {},
   "outputs": [
    {
     "name": "stdout",
     "output_type": "stream",
     "text": [
      "Requirement already satisfied: ydata-profiling[notebook] in c:\\users\\usuario\\anaconda3\\lib\\site-packages (4.12.0)\n",
      "Requirement already satisfied: numba<1,>=0.56.0 in c:\\users\\usuario\\anaconda3\\lib\\site-packages (from ydata-profiling[notebook]) (0.56.4)\n",
      "Requirement already satisfied: phik<0.13,>=0.11.1 in c:\\users\\usuario\\anaconda3\\lib\\site-packages (from ydata-profiling[notebook]) (0.12.4)\n",
      "Requirement already satisfied: numpy<2.2,>=1.16.0 in c:\\users\\usuario\\anaconda3\\lib\\site-packages (from ydata-profiling[notebook]) (1.23.5)\n",
      "Requirement already satisfied: wordcloud>=1.9.3 in c:\\users\\usuario\\anaconda3\\lib\\site-packages (from ydata-profiling[notebook]) (1.9.3)\n",
      "Requirement already satisfied: typeguard<5,>=3 in c:\\users\\usuario\\anaconda3\\lib\\site-packages (from ydata-profiling[notebook]) (4.4.1)\n",
      "Requirement already satisfied: jinja2<3.2,>=2.11.1 in c:\\users\\usuario\\anaconda3\\lib\\site-packages (from ydata-profiling[notebook]) (3.1.2)\n",
      "Requirement already satisfied: pandas!=1.4.0,<3,>1.1 in c:\\users\\usuario\\anaconda3\\lib\\site-packages (from ydata-profiling[notebook]) (2.2.3)\n",
      "Requirement already satisfied: PyYAML<6.1,>=5.0.0 in c:\\users\\usuario\\anaconda3\\lib\\site-packages (from ydata-profiling[notebook]) (6.0)\n",
      "Requirement already satisfied: visions[type_image_path]<0.7.7,>=0.7.5 in c:\\users\\usuario\\anaconda3\\lib\\site-packages (from ydata-profiling[notebook]) (0.7.6)\n",
      "Requirement already satisfied: htmlmin==0.1.12 in c:\\users\\usuario\\anaconda3\\lib\\site-packages (from ydata-profiling[notebook]) (0.1.12)\n",
      "Requirement already satisfied: multimethod<2,>=1.4 in c:\\users\\usuario\\anaconda3\\lib\\site-packages (from ydata-profiling[notebook]) (1.12)\n",
      "Requirement already satisfied: pydantic>=2 in c:\\users\\usuario\\anaconda3\\lib\\site-packages (from ydata-profiling[notebook]) (2.5.2)\n",
      "Requirement already satisfied: tqdm<5,>=4.48.2 in c:\\users\\usuario\\anaconda3\\lib\\site-packages (from ydata-profiling[notebook]) (4.64.1)\n",
      "Requirement already satisfied: seaborn<0.14,>=0.10.1 in c:\\users\\usuario\\anaconda3\\lib\\site-packages (from ydata-profiling[notebook]) (0.12.1)\n",
      "Requirement already satisfied: imagehash==4.3.1 in c:\\users\\usuario\\anaconda3\\lib\\site-packages (from ydata-profiling[notebook]) (4.3.1)\n",
      "Requirement already satisfied: scipy<1.14,>=1.4.1 in c:\\users\\usuario\\anaconda3\\lib\\site-packages (from ydata-profiling[notebook]) (1.9.3)\n",
      "Requirement already satisfied: dacite>=1.8 in c:\\users\\usuario\\anaconda3\\lib\\site-packages (from ydata-profiling[notebook]) (1.8.1)\n",
      "Requirement already satisfied: requests<3,>=2.24.0 in c:\\users\\usuario\\anaconda3\\lib\\site-packages (from ydata-profiling[notebook]) (2.28.1)\n",
      "Requirement already satisfied: matplotlib<3.10,>=3.5 in c:\\users\\usuario\\anaconda3\\lib\\site-packages (from ydata-profiling[notebook]) (3.6.2)\n",
      "Requirement already satisfied: statsmodels<1,>=0.13.2 in c:\\users\\usuario\\anaconda3\\lib\\site-packages (from ydata-profiling[notebook]) (0.13.2)\n",
      "Requirement already satisfied: ipywidgets>=7.5.1 in c:\\users\\usuario\\anaconda3\\lib\\site-packages (from ydata-profiling[notebook]) (7.6.5)\n",
      "Requirement already satisfied: jupyter>=1.0.0 in c:\\users\\usuario\\anaconda3\\lib\\site-packages (from ydata-profiling[notebook]) (1.0.0)\n",
      "Requirement already satisfied: pillow in c:\\users\\usuario\\anaconda3\\lib\\site-packages (from imagehash==4.3.1->ydata-profiling[notebook]) (9.3.0)\n",
      "Requirement already satisfied: PyWavelets in c:\\users\\usuario\\anaconda3\\lib\\site-packages (from imagehash==4.3.1->ydata-profiling[notebook]) (1.4.1)\n",
      "Requirement already satisfied: jupyterlab-widgets>=1.0.0 in c:\\users\\usuario\\anaconda3\\lib\\site-packages (from ipywidgets>=7.5.1->ydata-profiling[notebook]) (1.0.0)\n",
      "Requirement already satisfied: widgetsnbextension~=3.5.0 in c:\\users\\usuario\\anaconda3\\lib\\site-packages (from ipywidgets>=7.5.1->ydata-profiling[notebook]) (3.5.2)\n",
      "Requirement already satisfied: ipython-genutils~=0.2.0 in c:\\users\\usuario\\anaconda3\\lib\\site-packages (from ipywidgets>=7.5.1->ydata-profiling[notebook]) (0.2.0)\n",
      "Requirement already satisfied: ipython>=4.0.0 in c:\\users\\usuario\\anaconda3\\lib\\site-packages (from ipywidgets>=7.5.1->ydata-profiling[notebook]) (7.31.1)\n",
      "Requirement already satisfied: nbformat>=4.2.0 in c:\\users\\usuario\\anaconda3\\lib\\site-packages (from ipywidgets>=7.5.1->ydata-profiling[notebook]) (5.7.0)\n",
      "Requirement already satisfied: traitlets>=4.3.1 in c:\\users\\usuario\\anaconda3\\lib\\site-packages (from ipywidgets>=7.5.1->ydata-profiling[notebook]) (5.7.1)\n",
      "Requirement already satisfied: ipykernel>=4.5.1 in c:\\users\\usuario\\anaconda3\\lib\\site-packages (from ipywidgets>=7.5.1->ydata-profiling[notebook]) (6.19.2)\n",
      "Requirement already satisfied: MarkupSafe>=2.0 in c:\\users\\usuario\\anaconda3\\lib\\site-packages (from jinja2<3.2,>=2.11.1->ydata-profiling[notebook]) (2.1.3)\n",
      "Requirement already satisfied: nbconvert in c:\\users\\usuario\\anaconda3\\lib\\site-packages (from jupyter>=1.0.0->ydata-profiling[notebook]) (6.4.4)\n",
      "Requirement already satisfied: qtconsole in c:\\users\\usuario\\anaconda3\\lib\\site-packages (from jupyter>=1.0.0->ydata-profiling[notebook]) (5.2.2)\n",
      "Requirement already satisfied: jupyter-console in c:\\users\\usuario\\anaconda3\\lib\\site-packages (from jupyter>=1.0.0->ydata-profiling[notebook]) (6.4.4)\n",
      "Requirement already satisfied: notebook in c:\\users\\usuario\\anaconda3\\lib\\site-packages (from jupyter>=1.0.0->ydata-profiling[notebook]) (6.5.2)\n",
      "Requirement already satisfied: packaging>=20.0 in c:\\users\\usuario\\anaconda3\\lib\\site-packages (from matplotlib<3.10,>=3.5->ydata-profiling[notebook]) (22.0)\n",
      "Requirement already satisfied: python-dateutil>=2.7 in c:\\users\\usuario\\anaconda3\\lib\\site-packages (from matplotlib<3.10,>=3.5->ydata-profiling[notebook]) (2.8.2)\n",
      "Requirement already satisfied: fonttools>=4.22.0 in c:\\users\\usuario\\anaconda3\\lib\\site-packages (from matplotlib<3.10,>=3.5->ydata-profiling[notebook]) (4.25.0)\n",
      "Requirement already satisfied: kiwisolver>=1.0.1 in c:\\users\\usuario\\anaconda3\\lib\\site-packages (from matplotlib<3.10,>=3.5->ydata-profiling[notebook]) (1.4.4)\n",
      "Requirement already satisfied: contourpy>=1.0.1 in c:\\users\\usuario\\anaconda3\\lib\\site-packages (from matplotlib<3.10,>=3.5->ydata-profiling[notebook]) (1.0.5)\n",
      "Requirement already satisfied: pyparsing>=2.2.1 in c:\\users\\usuario\\anaconda3\\lib\\site-packages (from matplotlib<3.10,>=3.5->ydata-profiling[notebook]) (3.0.9)\n",
      "Requirement already satisfied: cycler>=0.10 in c:\\users\\usuario\\anaconda3\\lib\\site-packages (from matplotlib<3.10,>=3.5->ydata-profiling[notebook]) (0.11.0)\n",
      "Requirement already satisfied: llvmlite<0.40,>=0.39.0dev0 in c:\\users\\usuario\\anaconda3\\lib\\site-packages (from numba<1,>=0.56.0->ydata-profiling[notebook]) (0.39.1)\n",
      "Requirement already satisfied: setuptools in c:\\users\\usuario\\anaconda3\\lib\\site-packages (from numba<1,>=0.56.0->ydata-profiling[notebook]) (65.6.3)\n",
      "Requirement already satisfied: pytz>=2020.1 in c:\\users\\usuario\\anaconda3\\lib\\site-packages (from pandas!=1.4.0,<3,>1.1->ydata-profiling[notebook]) (2022.7)\n",
      "Requirement already satisfied: tzdata>=2022.7 in c:\\users\\usuario\\anaconda3\\lib\\site-packages (from pandas!=1.4.0,<3,>1.1->ydata-profiling[notebook]) (2023.3)\n",
      "Requirement already satisfied: joblib>=0.14.1 in c:\\users\\usuario\\anaconda3\\lib\\site-packages (from phik<0.13,>=0.11.1->ydata-profiling[notebook]) (1.1.1)\n",
      "Requirement already satisfied: typing-extensions>=4.6.1 in c:\\users\\usuario\\anaconda3\\lib\\site-packages (from pydantic>=2->ydata-profiling[notebook]) (4.12.2)\n",
      "Requirement already satisfied: pydantic-core==2.14.5 in c:\\users\\usuario\\anaconda3\\lib\\site-packages (from pydantic>=2->ydata-profiling[notebook]) (2.14.5)\n",
      "Requirement already satisfied: annotated-types>=0.4.0 in c:\\users\\usuario\\anaconda3\\lib\\site-packages (from pydantic>=2->ydata-profiling[notebook]) (0.6.0)\n",
      "Requirement already satisfied: charset-normalizer<3,>=2 in c:\\users\\usuario\\anaconda3\\lib\\site-packages (from requests<3,>=2.24.0->ydata-profiling[notebook]) (2.0.4)\n",
      "Requirement already satisfied: urllib3<1.27,>=1.21.1 in c:\\users\\usuario\\anaconda3\\lib\\site-packages (from requests<3,>=2.24.0->ydata-profiling[notebook]) (1.26.13)\n",
      "Requirement already satisfied: certifi>=2017.4.17 in c:\\users\\usuario\\anaconda3\\lib\\site-packages (from requests<3,>=2.24.0->ydata-profiling[notebook]) (2023.11.17)\n",
      "Requirement already satisfied: idna<4,>=2.5 in c:\\users\\usuario\\anaconda3\\lib\\site-packages (from requests<3,>=2.24.0->ydata-profiling[notebook]) (3.4)\n",
      "Requirement already satisfied: patsy>=0.5.2 in c:\\users\\usuario\\anaconda3\\lib\\site-packages (from statsmodels<1,>=0.13.2->ydata-profiling[notebook]) (0.5.2)\n",
      "Requirement already satisfied: colorama in c:\\users\\usuario\\anaconda3\\lib\\site-packages (from tqdm<5,>=4.48.2->ydata-profiling[notebook]) (0.4.6)\n",
      "Requirement already satisfied: importlib-metadata>=3.6 in c:\\users\\usuario\\anaconda3\\lib\\site-packages (from typeguard<5,>=3->ydata-profiling[notebook]) (4.11.3)\n",
      "Requirement already satisfied: attrs>=19.3.0 in c:\\users\\usuario\\anaconda3\\lib\\site-packages (from visions[type_image_path]<0.7.7,>=0.7.5->ydata-profiling[notebook]) (21.4.0)\n",
      "Requirement already satisfied: networkx>=2.4 in c:\\users\\usuario\\anaconda3\\lib\\site-packages (from visions[type_image_path]<0.7.7,>=0.7.5->ydata-profiling[notebook]) (2.8.4)\n",
      "Requirement already satisfied: zipp>=0.5 in c:\\users\\usuario\\anaconda3\\lib\\site-packages (from importlib-metadata>=3.6->typeguard<5,>=3->ydata-profiling[notebook]) (3.11.0)\n",
      "Requirement already satisfied: jupyter-client>=6.1.12 in c:\\users\\usuario\\anaconda3\\lib\\site-packages (from ipykernel>=4.5.1->ipywidgets>=7.5.1->ydata-profiling[notebook]) (7.4.8)\n",
      "Requirement already satisfied: tornado>=6.1 in c:\\users\\usuario\\anaconda3\\lib\\site-packages (from ipykernel>=4.5.1->ipywidgets>=7.5.1->ydata-profiling[notebook]) (6.2)\n",
      "Requirement already satisfied: debugpy>=1.0 in c:\\users\\usuario\\anaconda3\\lib\\site-packages (from ipykernel>=4.5.1->ipywidgets>=7.5.1->ydata-profiling[notebook]) (1.5.1)\n",
      "Requirement already satisfied: comm>=0.1.1 in c:\\users\\usuario\\anaconda3\\lib\\site-packages (from ipykernel>=4.5.1->ipywidgets>=7.5.1->ydata-profiling[notebook]) (0.1.2)\n",
      "Requirement already satisfied: nest-asyncio in c:\\users\\usuario\\anaconda3\\lib\\site-packages (from ipykernel>=4.5.1->ipywidgets>=7.5.1->ydata-profiling[notebook]) (1.5.6)\n",
      "Requirement already satisfied: matplotlib-inline>=0.1 in c:\\users\\usuario\\anaconda3\\lib\\site-packages (from ipykernel>=4.5.1->ipywidgets>=7.5.1->ydata-profiling[notebook]) (0.1.6)\n",
      "Requirement already satisfied: psutil in c:\\users\\usuario\\anaconda3\\lib\\site-packages (from ipykernel>=4.5.1->ipywidgets>=7.5.1->ydata-profiling[notebook]) (5.9.0)\n",
      "Requirement already satisfied: pyzmq>=17 in c:\\users\\usuario\\anaconda3\\lib\\site-packages (from ipykernel>=4.5.1->ipywidgets>=7.5.1->ydata-profiling[notebook]) (23.2.0)\n",
      "Requirement already satisfied: decorator in c:\\users\\usuario\\anaconda3\\lib\\site-packages (from ipython>=4.0.0->ipywidgets>=7.5.1->ydata-profiling[notebook]) (5.1.1)\n",
      "Requirement already satisfied: pickleshare in c:\\users\\usuario\\anaconda3\\lib\\site-packages (from ipython>=4.0.0->ipywidgets>=7.5.1->ydata-profiling[notebook]) (0.7.5)\n",
      "Requirement already satisfied: pygments in c:\\users\\usuario\\anaconda3\\lib\\site-packages (from ipython>=4.0.0->ipywidgets>=7.5.1->ydata-profiling[notebook]) (2.11.2)\n",
      "Requirement already satisfied: backcall in c:\\users\\usuario\\anaconda3\\lib\\site-packages (from ipython>=4.0.0->ipywidgets>=7.5.1->ydata-profiling[notebook]) (0.2.0)\n",
      "Requirement already satisfied: prompt-toolkit!=3.0.0,!=3.0.1,<3.1.0,>=2.0.0 in c:\\users\\usuario\\anaconda3\\lib\\site-packages (from ipython>=4.0.0->ipywidgets>=7.5.1->ydata-profiling[notebook]) (3.0.36)\n",
      "Requirement already satisfied: jedi>=0.16 in c:\\users\\usuario\\anaconda3\\lib\\site-packages (from ipython>=4.0.0->ipywidgets>=7.5.1->ydata-profiling[notebook]) (0.18.1)\n",
      "Requirement already satisfied: jsonschema>=2.6 in c:\\users\\usuario\\anaconda3\\lib\\site-packages (from nbformat>=4.2.0->ipywidgets>=7.5.1->ydata-profiling[notebook]) (3.2.0)\n",
      "Requirement already satisfied: jupyter-core in c:\\users\\usuario\\anaconda3\\lib\\site-packages (from nbformat>=4.2.0->ipywidgets>=7.5.1->ydata-profiling[notebook]) (5.1.1)\n",
      "Requirement already satisfied: fastjsonschema in c:\\users\\usuario\\anaconda3\\lib\\site-packages (from nbformat>=4.2.0->ipywidgets>=7.5.1->ydata-profiling[notebook]) (2.16.2)\n",
      "Requirement already satisfied: six in c:\\users\\usuario\\anaconda3\\lib\\site-packages (from patsy>=0.5.2->statsmodels<1,>=0.13.2->ydata-profiling[notebook]) (1.16.0)\n",
      "Requirement already satisfied: prometheus-client in c:\\users\\usuario\\anaconda3\\lib\\site-packages (from notebook->jupyter>=1.0.0->ydata-profiling[notebook]) (0.14.1)\n",
      "Requirement already satisfied: nbclassic>=0.4.7 in c:\\users\\usuario\\anaconda3\\lib\\site-packages (from notebook->jupyter>=1.0.0->ydata-profiling[notebook]) (0.4.8)\n",
      "Requirement already satisfied: argon2-cffi in c:\\users\\usuario\\anaconda3\\lib\\site-packages (from notebook->jupyter>=1.0.0->ydata-profiling[notebook]) (21.3.0)\n",
      "Requirement already satisfied: terminado>=0.8.3 in c:\\users\\usuario\\anaconda3\\lib\\site-packages (from notebook->jupyter>=1.0.0->ydata-profiling[notebook]) (0.17.1)\n",
      "Requirement already satisfied: Send2Trash>=1.8.0 in c:\\users\\usuario\\anaconda3\\lib\\site-packages (from notebook->jupyter>=1.0.0->ydata-profiling[notebook]) (1.8.0)\n",
      "Requirement already satisfied: pandocfilters>=1.4.1 in c:\\users\\usuario\\anaconda3\\lib\\site-packages (from nbconvert->jupyter>=1.0.0->ydata-profiling[notebook]) (1.5.0)\n",
      "Requirement already satisfied: testpath in c:\\users\\usuario\\anaconda3\\lib\\site-packages (from nbconvert->jupyter>=1.0.0->ydata-profiling[notebook]) (0.6.0)\n",
      "Requirement already satisfied: nbclient<0.6.0,>=0.5.0 in c:\\users\\usuario\\anaconda3\\lib\\site-packages (from nbconvert->jupyter>=1.0.0->ydata-profiling[notebook]) (0.5.13)\n",
      "Requirement already satisfied: entrypoints>=0.2.2 in c:\\users\\usuario\\anaconda3\\lib\\site-packages (from nbconvert->jupyter>=1.0.0->ydata-profiling[notebook]) (0.4)\n",
      "Requirement already satisfied: defusedxml in c:\\users\\usuario\\anaconda3\\lib\\site-packages (from nbconvert->jupyter>=1.0.0->ydata-profiling[notebook]) (0.7.1)\n",
      "Requirement already satisfied: beautifulsoup4 in c:\\users\\usuario\\anaconda3\\lib\\site-packages (from nbconvert->jupyter>=1.0.0->ydata-profiling[notebook]) (4.11.1)\n",
      "Requirement already satisfied: bleach in c:\\users\\usuario\\anaconda3\\lib\\site-packages (from nbconvert->jupyter>=1.0.0->ydata-profiling[notebook]) (4.1.0)\n",
      "Requirement already satisfied: jupyterlab-pygments in c:\\users\\usuario\\anaconda3\\lib\\site-packages (from nbconvert->jupyter>=1.0.0->ydata-profiling[notebook]) (0.1.2)\n",
      "Requirement already satisfied: mistune<2,>=0.8.1 in c:\\users\\usuario\\anaconda3\\lib\\site-packages (from nbconvert->jupyter>=1.0.0->ydata-profiling[notebook]) (0.8.4)\n",
      "Requirement already satisfied: qtpy in c:\\users\\usuario\\anaconda3\\lib\\site-packages (from qtconsole->jupyter>=1.0.0->ydata-profiling[notebook]) (2.2.0)\n",
      "Requirement already satisfied: parso<0.9.0,>=0.8.0 in c:\\users\\usuario\\anaconda3\\lib\\site-packages (from jedi>=0.16->ipython>=4.0.0->ipywidgets>=7.5.1->ydata-profiling[notebook]) (0.8.3)\n",
      "Requirement already satisfied: pyrsistent>=0.14.0 in c:\\users\\usuario\\anaconda3\\lib\\site-packages (from jsonschema>=2.6->nbformat>=4.2.0->ipywidgets>=7.5.1->ydata-profiling[notebook]) (0.18.0)\n",
      "Requirement already satisfied: platformdirs>=2.5 in c:\\users\\usuario\\anaconda3\\lib\\site-packages (from jupyter-core->nbformat>=4.2.0->ipywidgets>=7.5.1->ydata-profiling[notebook]) (2.5.2)\n",
      "Requirement already satisfied: pywin32>=1.0 in c:\\users\\usuario\\anaconda3\\lib\\site-packages (from jupyter-core->nbformat>=4.2.0->ipywidgets>=7.5.1->ydata-profiling[notebook]) (305.1)\n",
      "Requirement already satisfied: jupyter-server>=1.8 in c:\\users\\usuario\\anaconda3\\lib\\site-packages (from nbclassic>=0.4.7->notebook->jupyter>=1.0.0->ydata-profiling[notebook]) (1.23.4)\n",
      "Requirement already satisfied: notebook-shim>=0.1.0 in c:\\users\\usuario\\anaconda3\\lib\\site-packages (from nbclassic>=0.4.7->notebook->jupyter>=1.0.0->ydata-profiling[notebook]) (0.2.2)\n",
      "Requirement already satisfied: wcwidth in c:\\users\\usuario\\anaconda3\\lib\\site-packages (from prompt-toolkit!=3.0.0,!=3.0.1,<3.1.0,>=2.0.0->ipython>=4.0.0->ipywidgets>=7.5.1->ydata-profiling[notebook]) (0.2.5)\n",
      "Requirement already satisfied: pywinpty>=1.1.0 in c:\\users\\usuario\\anaconda3\\lib\\site-packages (from terminado>=0.8.3->notebook->jupyter>=1.0.0->ydata-profiling[notebook]) (2.0.2)\n",
      "Requirement already satisfied: argon2-cffi-bindings in c:\\users\\usuario\\anaconda3\\lib\\site-packages (from argon2-cffi->notebook->jupyter>=1.0.0->ydata-profiling[notebook]) (21.2.0)\n",
      "Requirement already satisfied: soupsieve>1.2 in c:\\users\\usuario\\anaconda3\\lib\\site-packages (from beautifulsoup4->nbconvert->jupyter>=1.0.0->ydata-profiling[notebook]) (2.3.2.post1)\n",
      "Requirement already satisfied: webencodings in c:\\users\\usuario\\anaconda3\\lib\\site-packages (from bleach->nbconvert->jupyter>=1.0.0->ydata-profiling[notebook]) (0.5.1)\n",
      "Requirement already satisfied: anyio<4,>=3.1.0 in c:\\users\\usuario\\anaconda3\\lib\\site-packages (from jupyter-server>=1.8->nbclassic>=0.4.7->notebook->jupyter>=1.0.0->ydata-profiling[notebook]) (3.5.0)\n",
      "Requirement already satisfied: websocket-client in c:\\users\\usuario\\anaconda3\\lib\\site-packages (from jupyter-server>=1.8->nbclassic>=0.4.7->notebook->jupyter>=1.0.0->ydata-profiling[notebook]) (0.58.0)\n",
      "Requirement already satisfied: cffi>=1.0.1 in c:\\users\\usuario\\anaconda3\\lib\\site-packages (from argon2-cffi-bindings->argon2-cffi->notebook->jupyter>=1.0.0->ydata-profiling[notebook]) (1.15.1)\n",
      "Requirement already satisfied: sniffio>=1.1 in c:\\users\\usuario\\anaconda3\\lib\\site-packages (from anyio<4,>=3.1.0->jupyter-server>=1.8->nbclassic>=0.4.7->notebook->jupyter>=1.0.0->ydata-profiling[notebook]) (1.2.0)\n",
      "Requirement already satisfied: pycparser in c:\\users\\usuario\\anaconda3\\lib\\site-packages (from cffi>=1.0.1->argon2-cffi-bindings->argon2-cffi->notebook->jupyter>=1.0.0->ydata-profiling[notebook]) (2.21)\n"
     ]
    },
    {
     "name": "stderr",
     "output_type": "stream",
     "text": [
      "WARNING: Ignoring invalid distribution -umpy (c:\\users\\usuario\\anaconda3\\lib\\site-packages)\n",
      "WARNING: Ignoring invalid distribution -umpy (c:\\users\\usuario\\anaconda3\\lib\\site-packages)\n",
      "WARNING: Ignoring invalid distribution -umpy (c:\\users\\usuario\\anaconda3\\lib\\site-packages)\n",
      "WARNING: Ignoring invalid distribution -umpy (c:\\users\\usuario\\anaconda3\\lib\\site-packages)\n",
      "WARNING: Ignoring invalid distribution -umpy (c:\\users\\usuario\\anaconda3\\lib\\site-packages)\n",
      "WARNING: Ignoring invalid distribution -umpy (c:\\users\\usuario\\anaconda3\\lib\\site-packages)\n"
     ]
    },
    {
     "name": "stdout",
     "output_type": "stream",
     "text": [
      "Collecting jupyter-contrib-nbextensions\n",
      "  Downloading jupyter_contrib_nbextensions-0.7.0.tar.gz (23.5 MB)\n",
      "     ---------------------------------------- 23.5/23.5 MB 6.4 MB/s eta 0:00:00\n",
      "  Preparing metadata (setup.py): started\n",
      "  Preparing metadata (setup.py): finished with status 'done'\n",
      "Requirement already satisfied: ipython_genutils in c:\\users\\usuario\\anaconda3\\lib\\site-packages (from jupyter-contrib-nbextensions) (0.2.0)\n",
      "Collecting jupyter_contrib_core>=0.3.3\n",
      "  Downloading jupyter_contrib_core-0.4.2.tar.gz (17 kB)\n",
      "  Preparing metadata (setup.py): started\n",
      "  Preparing metadata (setup.py): finished with status 'done'\n",
      "Requirement already satisfied: jupyter_core in c:\\users\\usuario\\anaconda3\\lib\\site-packages (from jupyter-contrib-nbextensions) (5.1.1)\n",
      "Collecting jupyter_highlight_selected_word>=0.1.1\n",
      "  Downloading jupyter_highlight_selected_word-0.2.0-py2.py3-none-any.whl (11 kB)\n",
      "Collecting jupyter_nbextensions_configurator>=0.4.0\n",
      "  Downloading jupyter_nbextensions_configurator-0.6.4-py2.py3-none-any.whl (466 kB)\n",
      "     -------------------------------------- 466.9/466.9 kB 5.9 MB/s eta 0:00:00\n",
      "Requirement already satisfied: nbconvert>=6.0 in c:\\users\\usuario\\anaconda3\\lib\\site-packages (from jupyter-contrib-nbextensions) (6.4.4)\n",
      "Requirement already satisfied: notebook>=6.0 in c:\\users\\usuario\\anaconda3\\lib\\site-packages (from jupyter-contrib-nbextensions) (6.5.2)\n",
      "Requirement already satisfied: tornado in c:\\users\\usuario\\anaconda3\\lib\\site-packages (from jupyter-contrib-nbextensions) (6.2)\n",
      "Requirement already satisfied: traitlets>=4.1 in c:\\users\\usuario\\anaconda3\\lib\\site-packages (from jupyter-contrib-nbextensions) (5.7.1)\n",
      "Requirement already satisfied: lxml in c:\\users\\usuario\\anaconda3\\lib\\site-packages (from jupyter-contrib-nbextensions) (4.9.1)\n",
      "Requirement already satisfied: setuptools in c:\\users\\usuario\\anaconda3\\lib\\site-packages (from jupyter_contrib_core>=0.3.3->jupyter-contrib-nbextensions) (65.6.3)\n",
      "Requirement already satisfied: pyyaml in c:\\users\\usuario\\anaconda3\\lib\\site-packages (from jupyter_nbextensions_configurator>=0.4.0->jupyter-contrib-nbextensions) (6.0)\n",
      "Requirement already satisfied: jupyter-server in c:\\users\\usuario\\anaconda3\\lib\\site-packages (from jupyter_nbextensions_configurator>=0.4.0->jupyter-contrib-nbextensions) (1.23.4)\n",
      "Requirement already satisfied: entrypoints>=0.2.2 in c:\\users\\usuario\\anaconda3\\lib\\site-packages (from nbconvert>=6.0->jupyter-contrib-nbextensions) (0.4)\n",
      "Requirement already satisfied: testpath in c:\\users\\usuario\\anaconda3\\lib\\site-packages (from nbconvert>=6.0->jupyter-contrib-nbextensions) (0.6.0)\n",
      "Requirement already satisfied: jinja2>=2.4 in c:\\users\\usuario\\anaconda3\\lib\\site-packages (from nbconvert>=6.0->jupyter-contrib-nbextensions) (3.1.2)\n",
      "Requirement already satisfied: nbformat>=4.4 in c:\\users\\usuario\\anaconda3\\lib\\site-packages (from nbconvert>=6.0->jupyter-contrib-nbextensions) (5.7.0)\n",
      "Requirement already satisfied: nbclient<0.6.0,>=0.5.0 in c:\\users\\usuario\\anaconda3\\lib\\site-packages (from nbconvert>=6.0->jupyter-contrib-nbextensions) (0.5.13)\n",
      "Requirement already satisfied: bleach in c:\\users\\usuario\\anaconda3\\lib\\site-packages (from nbconvert>=6.0->jupyter-contrib-nbextensions) (4.1.0)\n",
      "Requirement already satisfied: pandocfilters>=1.4.1 in c:\\users\\usuario\\anaconda3\\lib\\site-packages (from nbconvert>=6.0->jupyter-contrib-nbextensions) (1.5.0)\n",
      "Requirement already satisfied: defusedxml in c:\\users\\usuario\\anaconda3\\lib\\site-packages (from nbconvert>=6.0->jupyter-contrib-nbextensions) (0.7.1)\n",
      "Requirement already satisfied: pygments>=2.4.1 in c:\\users\\usuario\\anaconda3\\lib\\site-packages (from nbconvert>=6.0->jupyter-contrib-nbextensions) (2.11.2)\n",
      "Requirement already satisfied: beautifulsoup4 in c:\\users\\usuario\\anaconda3\\lib\\site-packages (from nbconvert>=6.0->jupyter-contrib-nbextensions) (4.11.1)\n",
      "Requirement already satisfied: jupyterlab-pygments in c:\\users\\usuario\\anaconda3\\lib\\site-packages (from nbconvert>=6.0->jupyter-contrib-nbextensions) (0.1.2)\n",
      "Requirement already satisfied: mistune<2,>=0.8.1 in c:\\users\\usuario\\anaconda3\\lib\\site-packages (from nbconvert>=6.0->jupyter-contrib-nbextensions) (0.8.4)\n",
      "Requirement already satisfied: pyzmq>=17 in c:\\users\\usuario\\anaconda3\\lib\\site-packages (from notebook>=6.0->jupyter-contrib-nbextensions) (23.2.0)\n",
      "Requirement already satisfied: ipykernel in c:\\users\\usuario\\anaconda3\\lib\\site-packages (from notebook>=6.0->jupyter-contrib-nbextensions) (6.19.2)\n",
      "Requirement already satisfied: terminado>=0.8.3 in c:\\users\\usuario\\anaconda3\\lib\\site-packages (from notebook>=6.0->jupyter-contrib-nbextensions) (0.17.1)\n",
      "Requirement already satisfied: nest-asyncio>=1.5 in c:\\users\\usuario\\anaconda3\\lib\\site-packages (from notebook>=6.0->jupyter-contrib-nbextensions) (1.5.6)\n",
      "Requirement already satisfied: nbclassic>=0.4.7 in c:\\users\\usuario\\anaconda3\\lib\\site-packages (from notebook>=6.0->jupyter-contrib-nbextensions) (0.4.8)\n",
      "Requirement already satisfied: prometheus-client in c:\\users\\usuario\\anaconda3\\lib\\site-packages (from notebook>=6.0->jupyter-contrib-nbextensions) (0.14.1)\n",
      "Requirement already satisfied: argon2-cffi in c:\\users\\usuario\\anaconda3\\lib\\site-packages (from notebook>=6.0->jupyter-contrib-nbextensions) (21.3.0)\n",
      "Requirement already satisfied: Send2Trash>=1.8.0 in c:\\users\\usuario\\anaconda3\\lib\\site-packages (from notebook>=6.0->jupyter-contrib-nbextensions) (1.8.0)\n",
      "Requirement already satisfied: jupyter-client>=5.3.4 in c:\\users\\usuario\\anaconda3\\lib\\site-packages (from notebook>=6.0->jupyter-contrib-nbextensions) (7.4.8)\n",
      "Requirement already satisfied: platformdirs>=2.5 in c:\\users\\usuario\\anaconda3\\lib\\site-packages (from jupyter_core->jupyter-contrib-nbextensions) (2.5.2)\n",
      "Requirement already satisfied: pywin32>=1.0 in c:\\users\\usuario\\anaconda3\\lib\\site-packages (from jupyter_core->jupyter-contrib-nbextensions) (305.1)\n",
      "Requirement already satisfied: MarkupSafe>=2.0 in c:\\users\\usuario\\anaconda3\\lib\\site-packages (from jinja2>=2.4->nbconvert>=6.0->jupyter-contrib-nbextensions) (2.1.3)\n",
      "Requirement already satisfied: python-dateutil>=2.8.2 in c:\\users\\usuario\\anaconda3\\lib\\site-packages (from jupyter-client>=5.3.4->notebook>=6.0->jupyter-contrib-nbextensions) (2.8.2)\n",
      "Requirement already satisfied: notebook-shim>=0.1.0 in c:\\users\\usuario\\anaconda3\\lib\\site-packages (from nbclassic>=0.4.7->notebook>=6.0->jupyter-contrib-nbextensions) (0.2.2)\n",
      "Requirement already satisfied: anyio<4,>=3.1.0 in c:\\users\\usuario\\anaconda3\\lib\\site-packages (from jupyter-server->jupyter_nbextensions_configurator>=0.4.0->jupyter-contrib-nbextensions) (3.5.0)\n",
      "Requirement already satisfied: pywinpty in c:\\users\\usuario\\anaconda3\\lib\\site-packages (from jupyter-server->jupyter_nbextensions_configurator>=0.4.0->jupyter-contrib-nbextensions) (2.0.2)\n",
      "Requirement already satisfied: websocket-client in c:\\users\\usuario\\anaconda3\\lib\\site-packages (from jupyter-server->jupyter_nbextensions_configurator>=0.4.0->jupyter-contrib-nbextensions) (0.58.0)\n",
      "Requirement already satisfied: packaging in c:\\users\\usuario\\anaconda3\\lib\\site-packages (from jupyter-server->jupyter_nbextensions_configurator>=0.4.0->jupyter-contrib-nbextensions) (22.0)\n",
      "Requirement already satisfied: jsonschema>=2.6 in c:\\users\\usuario\\anaconda3\\lib\\site-packages (from nbformat>=4.4->nbconvert>=6.0->jupyter-contrib-nbextensions) (3.2.0)\n",
      "Requirement already satisfied: fastjsonschema in c:\\users\\usuario\\anaconda3\\lib\\site-packages (from nbformat>=4.4->nbconvert>=6.0->jupyter-contrib-nbextensions) (2.16.2)\n",
      "Requirement already satisfied: argon2-cffi-bindings in c:\\users\\usuario\\anaconda3\\lib\\site-packages (from argon2-cffi->notebook>=6.0->jupyter-contrib-nbextensions) (21.2.0)\n",
      "Requirement already satisfied: soupsieve>1.2 in c:\\users\\usuario\\anaconda3\\lib\\site-packages (from beautifulsoup4->nbconvert>=6.0->jupyter-contrib-nbextensions) (2.3.2.post1)\n",
      "Requirement already satisfied: webencodings in c:\\users\\usuario\\anaconda3\\lib\\site-packages (from bleach->nbconvert>=6.0->jupyter-contrib-nbextensions) (0.5.1)\n",
      "Requirement already satisfied: six>=1.9.0 in c:\\users\\usuario\\anaconda3\\lib\\site-packages (from bleach->nbconvert>=6.0->jupyter-contrib-nbextensions) (1.16.0)\n",
      "Requirement already satisfied: matplotlib-inline>=0.1 in c:\\users\\usuario\\anaconda3\\lib\\site-packages (from ipykernel->notebook>=6.0->jupyter-contrib-nbextensions) (0.1.6)\n",
      "Requirement already satisfied: ipython>=7.23.1 in c:\\users\\usuario\\anaconda3\\lib\\site-packages (from ipykernel->notebook>=6.0->jupyter-contrib-nbextensions) (7.31.1)\n",
      "Requirement already satisfied: debugpy>=1.0 in c:\\users\\usuario\\anaconda3\\lib\\site-packages (from ipykernel->notebook>=6.0->jupyter-contrib-nbextensions) (1.5.1)\n",
      "Requirement already satisfied: psutil in c:\\users\\usuario\\anaconda3\\lib\\site-packages (from ipykernel->notebook>=6.0->jupyter-contrib-nbextensions) (5.9.0)\n",
      "Requirement already satisfied: comm>=0.1.1 in c:\\users\\usuario\\anaconda3\\lib\\site-packages (from ipykernel->notebook>=6.0->jupyter-contrib-nbextensions) (0.1.2)\n",
      "Requirement already satisfied: sniffio>=1.1 in c:\\users\\usuario\\anaconda3\\lib\\site-packages (from anyio<4,>=3.1.0->jupyter-server->jupyter_nbextensions_configurator>=0.4.0->jupyter-contrib-nbextensions) (1.2.0)\n",
      "Requirement already satisfied: idna>=2.8 in c:\\users\\usuario\\anaconda3\\lib\\site-packages (from anyio<4,>=3.1.0->jupyter-server->jupyter_nbextensions_configurator>=0.4.0->jupyter-contrib-nbextensions) (3.4)\n",
      "Requirement already satisfied: pickleshare in c:\\users\\usuario\\anaconda3\\lib\\site-packages (from ipython>=7.23.1->ipykernel->notebook>=6.0->jupyter-contrib-nbextensions) (0.7.5)\n",
      "Requirement already satisfied: jedi>=0.16 in c:\\users\\usuario\\anaconda3\\lib\\site-packages (from ipython>=7.23.1->ipykernel->notebook>=6.0->jupyter-contrib-nbextensions) (0.18.1)\n",
      "Requirement already satisfied: prompt-toolkit!=3.0.0,!=3.0.1,<3.1.0,>=2.0.0 in c:\\users\\usuario\\anaconda3\\lib\\site-packages (from ipython>=7.23.1->ipykernel->notebook>=6.0->jupyter-contrib-nbextensions) (3.0.36)\n",
      "Requirement already satisfied: backcall in c:\\users\\usuario\\anaconda3\\lib\\site-packages (from ipython>=7.23.1->ipykernel->notebook>=6.0->jupyter-contrib-nbextensions) (0.2.0)\n",
      "Requirement already satisfied: decorator in c:\\users\\usuario\\anaconda3\\lib\\site-packages (from ipython>=7.23.1->ipykernel->notebook>=6.0->jupyter-contrib-nbextensions) (5.1.1)\n",
      "Requirement already satisfied: colorama in c:\\users\\usuario\\anaconda3\\lib\\site-packages (from ipython>=7.23.1->ipykernel->notebook>=6.0->jupyter-contrib-nbextensions) (0.4.6)\n",
      "Requirement already satisfied: pyrsistent>=0.14.0 in c:\\users\\usuario\\anaconda3\\lib\\site-packages (from jsonschema>=2.6->nbformat>=4.4->nbconvert>=6.0->jupyter-contrib-nbextensions) (0.18.0)\n",
      "Requirement already satisfied: attrs>=17.4.0 in c:\\users\\usuario\\anaconda3\\lib\\site-packages (from jsonschema>=2.6->nbformat>=4.4->nbconvert>=6.0->jupyter-contrib-nbextensions) (21.4.0)\n",
      "Requirement already satisfied: cffi>=1.0.1 in c:\\users\\usuario\\anaconda3\\lib\\site-packages (from argon2-cffi-bindings->argon2-cffi->notebook>=6.0->jupyter-contrib-nbextensions) (1.15.1)\n",
      "Requirement already satisfied: pycparser in c:\\users\\usuario\\anaconda3\\lib\\site-packages (from cffi>=1.0.1->argon2-cffi-bindings->argon2-cffi->notebook>=6.0->jupyter-contrib-nbextensions) (2.21)\n",
      "Requirement already satisfied: parso<0.9.0,>=0.8.0 in c:\\users\\usuario\\anaconda3\\lib\\site-packages (from jedi>=0.16->ipython>=7.23.1->ipykernel->notebook>=6.0->jupyter-contrib-nbextensions) (0.8.3)\n",
      "Requirement already satisfied: wcwidth in c:\\users\\usuario\\anaconda3\\lib\\site-packages (from prompt-toolkit!=3.0.0,!=3.0.1,<3.1.0,>=2.0.0->ipython>=7.23.1->ipykernel->notebook>=6.0->jupyter-contrib-nbextensions) (0.2.5)\n",
      "Building wheels for collected packages: jupyter-contrib-nbextensions, jupyter_contrib_core\n",
      "  Building wheel for jupyter-contrib-nbextensions (setup.py): started\n",
      "  Building wheel for jupyter-contrib-nbextensions (setup.py): finished with status 'done'\n",
      "  Created wheel for jupyter-contrib-nbextensions: filename=jupyter_contrib_nbextensions-0.7.0-py2.py3-none-any.whl size=23428784 sha256=0642dcc6af007e26c710817554770d29a487fa2f308b1c01e1070a99851c00fe\n",
      "  Stored in directory: c:\\users\\usuario\\appdata\\local\\pip\\cache\\wheels\\88\\a0\\bc\\cc7955eb4114404f871d149598d2f37104b0d0692d5357cc41\n",
      "  Building wheel for jupyter_contrib_core (setup.py): started\n",
      "  Building wheel for jupyter_contrib_core (setup.py): finished with status 'done'\n",
      "  Created wheel for jupyter_contrib_core: filename=jupyter_contrib_core-0.4.2-py2.py3-none-any.whl size=17484 sha256=922e53f4e634b3758c6dfbcc5514468c10a4441c83fdb54e62af4c6d941123df\n",
      "  Stored in directory: c:\\users\\usuario\\appdata\\local\\pip\\cache\\wheels\\5d\\cb\\01\\6ca958afff664f8e22ebed60e1bcba6248f3d002f3c5842e25\n",
      "Successfully built jupyter-contrib-nbextensions jupyter_contrib_core\n",
      "Installing collected packages: jupyter_highlight_selected_word, jupyter_contrib_core, jupyter_nbextensions_configurator, jupyter-contrib-nbextensions\n",
      "Successfully installed jupyter-contrib-nbextensions-0.7.0 jupyter_contrib_core-0.4.2 jupyter_highlight_selected_word-0.2.0 jupyter_nbextensions_configurator-0.6.4\n"
     ]
    },
    {
     "name": "stderr",
     "output_type": "stream",
     "text": [
      "WARNING: Ignoring invalid distribution -umpy (c:\\users\\usuario\\anaconda3\\lib\\site-packages)\n",
      "WARNING: Ignoring invalid distribution -umpy (c:\\users\\usuario\\anaconda3\\lib\\site-packages)\n",
      "WARNING: Ignoring invalid distribution -umpy (c:\\users\\usuario\\anaconda3\\lib\\site-packages)\n",
      "WARNING: Ignoring invalid distribution -umpy (c:\\users\\usuario\\anaconda3\\lib\\site-packages)\n",
      "WARNING: Ignoring invalid distribution -umpy (c:\\users\\usuario\\anaconda3\\lib\\site-packages)\n",
      "WARNING: Ignoring invalid distribution -umpy (c:\\users\\usuario\\anaconda3\\lib\\site-packages)\n",
      "WARNING: Ignoring invalid distribution -umpy (c:\\users\\usuario\\anaconda3\\lib\\site-packages)\n",
      "WARNING: Ignoring invalid distribution -umpy (c:\\users\\usuario\\anaconda3\\lib\\site-packages)\n",
      "WARNING: Ignoring invalid distribution -umpy (c:\\users\\usuario\\anaconda3\\lib\\site-packages)\n",
      "WARNING: Ignoring invalid distribution -umpy (c:\\users\\usuario\\anaconda3\\lib\\site-packages)\n"
     ]
    }
   ],
   "source": [
    "# Solo ejecutelo la primera vez si no tiene esto instalado\n",
    "import sys\n",
    "!{sys.executable} -m pip install -U ydata-profiling[notebook]\n",
    "!pip install jupyter-contrib-nbextensions"
   ]
  },
  {
   "cell_type": "code",
   "execution_count": 3,
   "metadata": {},
   "outputs": [
    {
     "name": "stderr",
     "output_type": "stream",
     "text": [
      "Enabling notebook extension jupyter-js-widgets/extension...\n",
      "      - Validating: ok\n"
     ]
    }
   ],
   "source": [
    "!jupyter nbextension enable --py widgetsnbextension"
   ]
  },
  {
   "cell_type": "markdown",
   "metadata": {},
   "source": [
    "## 1. Librerias y configuraciones previas"
   ]
  },
  {
   "cell_type": "code",
   "execution_count": 4,
   "metadata": {},
   "outputs": [],
   "source": [
    "import sys\n",
    "import os\n",
    "import zipfile\n",
    "\n",
    "# Get the absolute path of the current notebook\n",
    "data_set = \"./datasets/features_data_set.csv\"\n",
    "url_data_set = 'https://raw.githubusercontent.com/repos-especializacion-UdeA/data-raw/refs/heads/main/notebooks/datasets/features_data_set.csv'\n",
    "try:\n",
    "    import google.colab\n",
    "    try:\n",
    "        import scipy.io\n",
    "    except ImportError:\n",
    "        !pip install scipy\n",
    "    data_set = url_data_set   \n",
    "except ImportError:\n",
    "    ruta_base = './'\n"
   ]
  },
  {
   "cell_type": "code",
   "execution_count": 14,
   "metadata": {},
   "outputs": [],
   "source": [
    "# command to view figures in Jupyter notebook\n",
    "# %matplotlib inline \n",
    "\n",
    "# Tratamiento de datos\n",
    "# ==============================================================================\n",
    "import pandas as pd\n",
    "import numpy as np\n",
    "import scipy as sc\n",
    "from ydata_profiling import ProfileReport\n",
    "\n",
    "# Almacenar en caché los resultados de funciones en el disco\n",
    "# ==============================================================================\n",
    "import joblib\n",
    "\n",
    "\n",
    "# Gestion de librerias\n",
    "# ==============================================================================\n",
    "from importlib import reload\n",
    "\n",
    "# Matemáticas y estadísticas\n",
    "# ==============================================================================\n",
    "import math\n",
    "\n",
    "# Gráficos\n",
    "# ==============================================================================\n",
    "import matplotlib.pyplot as plt\n",
    "from matplotlib import style\n",
    "import seaborn as sns\n",
    "\n",
    "\n",
    "# Configuración warnings\n",
    "# ==============================================================================\n",
    "import warnings\n",
    "warnings.filterwarnings('ignore')\n",
    "\n",
    "# Formateo y estilo\n",
    "# ==============================================================================\n",
    "from IPython.display import Markdown, display\n",
    "\n",
    "# Biblioteca scipy y componentes\n",
    "# ==============================================================================\n",
    "import scipy.io\n",
    "from scipy import signal\n"
   ]
  },
  {
   "cell_type": "markdown",
   "metadata": {},
   "source": [
    "## 2. Funciones"
   ]
  },
  {
   "cell_type": "code",
   "execution_count": 6,
   "metadata": {},
   "outputs": [],
   "source": [
    "# Funciones de utilidad\n",
    "# ==============================================================================\n",
    "\n",
    "# To Do...\n"
   ]
  },
  {
   "cell_type": "markdown",
   "metadata": {},
   "source": [
    "## 3. Carga del dataset"
   ]
  },
  {
   "cell_type": "markdown",
   "metadata": {},
   "source": [
    "A continuación se realiza la carga del dataset completo"
   ]
  },
  {
   "cell_type": "code",
   "execution_count": 7,
   "metadata": {},
   "outputs": [],
   "source": [
    "# Carga del dataset\n",
    "df = pd.read_csv(data_set)"
   ]
  },
  {
   "cell_type": "markdown",
   "metadata": {},
   "source": [
    "A continuación se verifica la carga del dataset:"
   ]
  },
  {
   "cell_type": "code",
   "execution_count": 9,
   "metadata": {},
   "outputs": [
    {
     "data": {
      "text/html": [
       "<div>\n",
       "<style scoped>\n",
       "    .dataframe tbody tr th:only-of-type {\n",
       "        vertical-align: middle;\n",
       "    }\n",
       "\n",
       "    .dataframe tbody tr th {\n",
       "        vertical-align: top;\n",
       "    }\n",
       "\n",
       "    .dataframe thead th {\n",
       "        text-align: right;\n",
       "    }\n",
       "</style>\n",
       "<table border=\"1\" class=\"dataframe\">\n",
       "  <thead>\n",
       "    <tr style=\"text-align: right;\">\n",
       "      <th></th>\n",
       "      <th>s</th>\n",
       "      <th>emg_1</th>\n",
       "      <th>emg_2</th>\n",
       "      <th>emg_3</th>\n",
       "      <th>emg_4</th>\n",
       "      <th>emg_5</th>\n",
       "      <th>emg_6</th>\n",
       "      <th>emg_7</th>\n",
       "      <th>emg_8</th>\n",
       "      <th>emg_9</th>\n",
       "      <th>emg_10</th>\n",
       "      <th>rep</th>\n",
       "      <th>label</th>\n",
       "    </tr>\n",
       "  </thead>\n",
       "  <tbody>\n",
       "    <tr>\n",
       "      <th>0</th>\n",
       "      <td>1</td>\n",
       "      <td>0.052510</td>\n",
       "      <td>0.002414</td>\n",
       "      <td>0.002445</td>\n",
       "      <td>0.002417</td>\n",
       "      <td>0.002400</td>\n",
       "      <td>0.006204</td>\n",
       "      <td>0.0024</td>\n",
       "      <td>0.041218</td>\n",
       "      <td>0.0024</td>\n",
       "      <td>0.019526</td>\n",
       "      <td>0</td>\n",
       "      <td>0</td>\n",
       "    </tr>\n",
       "    <tr>\n",
       "      <th>1</th>\n",
       "      <td>1</td>\n",
       "      <td>0.038543</td>\n",
       "      <td>0.002440</td>\n",
       "      <td>0.002513</td>\n",
       "      <td>0.002443</td>\n",
       "      <td>0.002426</td>\n",
       "      <td>0.002803</td>\n",
       "      <td>0.0024</td>\n",
       "      <td>0.029789</td>\n",
       "      <td>0.0024</td>\n",
       "      <td>0.005035</td>\n",
       "      <td>0</td>\n",
       "      <td>0</td>\n",
       "    </tr>\n",
       "    <tr>\n",
       "      <th>2</th>\n",
       "      <td>1</td>\n",
       "      <td>0.035662</td>\n",
       "      <td>0.002448</td>\n",
       "      <td>0.002564</td>\n",
       "      <td>0.002446</td>\n",
       "      <td>0.002478</td>\n",
       "      <td>0.001975</td>\n",
       "      <td>0.0024</td>\n",
       "      <td>0.025287</td>\n",
       "      <td>0.0024</td>\n",
       "      <td>0.000813</td>\n",
       "      <td>0</td>\n",
       "      <td>0</td>\n",
       "    </tr>\n",
       "    <tr>\n",
       "      <th>3</th>\n",
       "      <td>1</td>\n",
       "      <td>0.037038</td>\n",
       "      <td>0.002425</td>\n",
       "      <td>0.002542</td>\n",
       "      <td>0.002420</td>\n",
       "      <td>0.002526</td>\n",
       "      <td>0.002129</td>\n",
       "      <td>0.0024</td>\n",
       "      <td>0.026216</td>\n",
       "      <td>0.0024</td>\n",
       "      <td>0.001485</td>\n",
       "      <td>0</td>\n",
       "      <td>0</td>\n",
       "    </tr>\n",
       "    <tr>\n",
       "      <th>4</th>\n",
       "      <td>1</td>\n",
       "      <td>0.035718</td>\n",
       "      <td>0.002404</td>\n",
       "      <td>0.002478</td>\n",
       "      <td>0.002401</td>\n",
       "      <td>0.002542</td>\n",
       "      <td>0.002346</td>\n",
       "      <td>0.0024</td>\n",
       "      <td>0.026433</td>\n",
       "      <td>0.0024</td>\n",
       "      <td>0.002234</td>\n",
       "      <td>0</td>\n",
       "      <td>0</td>\n",
       "    </tr>\n",
       "  </tbody>\n",
       "</table>\n",
       "</div>"
      ],
      "text/plain": [
       "   s     emg_1     emg_2     emg_3     emg_4     emg_5     emg_6   emg_7  \\\n",
       "0  1  0.052510  0.002414  0.002445  0.002417  0.002400  0.006204  0.0024   \n",
       "1  1  0.038543  0.002440  0.002513  0.002443  0.002426  0.002803  0.0024   \n",
       "2  1  0.035662  0.002448  0.002564  0.002446  0.002478  0.001975  0.0024   \n",
       "3  1  0.037038  0.002425  0.002542  0.002420  0.002526  0.002129  0.0024   \n",
       "4  1  0.035718  0.002404  0.002478  0.002401  0.002542  0.002346  0.0024   \n",
       "\n",
       "      emg_8   emg_9    emg_10  rep  label  \n",
       "0  0.041218  0.0024  0.019526    0      0  \n",
       "1  0.029789  0.0024  0.005035    0      0  \n",
       "2  0.025287  0.0024  0.000813    0      0  \n",
       "3  0.026216  0.0024  0.001485    0      0  \n",
       "4  0.026433  0.0024  0.002234    0      0  "
      ]
     },
     "execution_count": 9,
     "metadata": {},
     "output_type": "execute_result"
    }
   ],
   "source": [
    "df.head()"
   ]
  },
  {
   "cell_type": "code",
   "execution_count": 25,
   "metadata": {},
   "outputs": [
    {
     "name": "stdout",
     "output_type": "stream",
     "text": [
      "<class 'pandas.core.frame.DataFrame'>\n",
      "RangeIndex: 2731393 entries, 0 to 2731392\n",
      "Data columns (total 13 columns):\n",
      " #   Column  Dtype  \n",
      "---  ------  -----  \n",
      " 0   s       int64  \n",
      " 1   emg_1   float64\n",
      " 2   emg_2   float64\n",
      " 3   emg_3   float64\n",
      " 4   emg_4   float64\n",
      " 5   emg_5   float64\n",
      " 6   emg_6   float64\n",
      " 7   emg_7   float64\n",
      " 8   emg_8   float64\n",
      " 9   emg_9   float64\n",
      " 10  emg_10  float64\n",
      " 11  rep     int64  \n",
      " 12  label   int64  \n",
      "dtypes: float64(10), int64(3)\n",
      "memory usage: 270.9 MB\n"
     ]
    }
   ],
   "source": [
    "df.info()"
   ]
  },
  {
   "cell_type": "markdown",
   "metadata": {},
   "source": [
    "Hay un total de 13 columnas y ninguna tiene registros faltantes (missing values). Debido a esto, no nos tendremos que preocupar por realizar una imputación de datos. Pero hay muchos datos."
   ]
  },
  {
   "cell_type": "code",
   "execution_count": 10,
   "metadata": {},
   "outputs": [
    {
     "data": {
      "text/plain": [
       "13"
      ]
     },
     "execution_count": 10,
     "metadata": {},
     "output_type": "execute_result"
    }
   ],
   "source": [
    "len(df.columns)"
   ]
  },
  {
   "cell_type": "code",
   "execution_count": 11,
   "metadata": {},
   "outputs": [],
   "source": [
    "# Convertir a categorico\n",
    "df['s'] = pd.Categorical(df['s'])\n",
    "df['rep'] = pd.Categorical(df['rep'])\n",
    "df['label'] = pd.Categorical(df['label'])"
   ]
  },
  {
   "cell_type": "markdown",
   "metadata": {},
   "source": [
    "Se verifica que los cambios en el dataframe se hayan efectuado."
   ]
  },
  {
   "cell_type": "code",
   "execution_count": 12,
   "metadata": {},
   "outputs": [
    {
     "name": "stdout",
     "output_type": "stream",
     "text": [
      "Variables categoricas: ['s', 'rep', 'label']\n",
      "Variables categoricas: ['emg_1', 'emg_2', 'emg_3', 'emg_4', 'emg_5', 'emg_6', 'emg_7', 'emg_8', 'emg_9', 'emg_10']\n"
     ]
    }
   ],
   "source": [
    "#Lista de variables categóricas\n",
    "catCols = df.select_dtypes(include = ['object', 'category']).columns.tolist()\n",
    "print(f\"Variables categoricas: {catCols}\")\n",
    "numCols = df.select_dtypes(include = ['float64','int32','int64']).columns.tolist()\n",
    "print(f\"Variables categoricas: {numCols}\")"
   ]
  },
  {
   "cell_type": "markdown",
   "metadata": {},
   "source": [
    "## EDA"
   ]
  },
  {
   "cell_type": "code",
   "execution_count": null,
   "metadata": {},
   "outputs": [],
   "source": [
    "profile = ProfileReport(df, title=\"Pandas Profiling Report\")"
   ]
  },
  {
   "cell_type": "code",
   "execution_count": null,
   "metadata": {},
   "outputs": [
    {
     "data": {
      "application/vnd.jupyter.widget-view+json": {
       "model_id": "82da381cd6224912b7a750faab0cdc55",
       "version_major": 2,
       "version_minor": 0
      },
      "text/plain": [
       "Render widgets:   0%|          | 0/1 [00:00<?, ?it/s]"
      ]
     },
     "metadata": {},
     "output_type": "display_data"
    },
    {
     "data": {
      "application/vnd.jupyter.widget-view+json": {
       "model_id": "c27c0267650d4ff994c41792882cc5dc",
       "version_major": 2,
       "version_minor": 0
      },
      "text/plain": [
       "VBox(children=(Tab(children=(Tab(children=(GridBox(children=(VBox(children=(GridspecLayout(children=(HTML(valu…"
      ]
     },
     "metadata": {},
     "output_type": "display_data"
    }
   ],
   "source": [
    "profile.to_notebook_iframe()\n",
    "# profile.to_widgets() # Bloqueo la maquina"
   ]
  },
  {
   "cell_type": "markdown",
   "metadata": {},
   "source": [
    "### Almacenando el EDA"
   ]
  },
  {
   "cell_type": "code",
   "execution_count": null,
   "metadata": {},
   "outputs": [],
   "source": [
    "# Exportando html\n",
    "profile.to_file(\"./html_report/report_EDA.html\")\n",
    "\n",
    "# As a JSON string\n",
    "json_data = profile.to_json()\n",
    "\n",
    "# As a file\n",
    "profile.to_file(\"./json_report/report_EDA.json\")"
   ]
  },
  {
   "cell_type": "markdown",
   "metadata": {
    "id": "Rx51nv4B3Cs7"
   },
   "source": [
    "## Referencias\n",
    "\n",
    "* https://github.com/chuawt/eda-starter\n",
    "* https://www.kaggle.com/code/bextuychiev/my-6-part-powerful-eda-template\n",
    "* https://community.ibm.com/community/user/ai-datascience/blogs/shivam-solanki1/2020/02/19/eda-exploratory-data-analysis-with-example-in-jupy\n",
    "* https://github.com/Saba-Gul/Exploratory-Data-Analysis-and-Statistical-Analysis-Notebooks\n",
    "* https://www.datacamp.com/es/tutorial/pandas-profiling-ydata-profiling-in-python-guide\n",
    "* https://docs.profiling.ydata.ai/latest/\n",
    "* https://github.com/Saba-Gul/Exploratory-Data-Analysis-and-Statistical-Analysis-Notebooks/blob/main/Statistics_for_ML.ipynb\n",
    "* https://github.com/Saba-Gul/Exploratory-Data-Analysis-and-Statistical-Analysis-Notebooks/blob/main/Online_Ed_Adaptability.ipynb\n",
    "* https://github.com/Saba-Gul/Exploratory-Data-Analysis-and-Statistical-Analysis-Notebooks/blob/main/Heart_Failure_Survival_Classification.ipynb\n",
    "* https://github.com/akueisara/audio-signal-processing/blob/master/week%204/A4/A4Part2.py\n",
    "* https://docs.profiling.ydata.ai/latest/"
   ]
  },
  {
   "cell_type": "markdown",
   "metadata": {},
   "source": []
  }
 ],
 "metadata": {
  "colab": {
   "provenance": [],
   "toc_visible": true
  },
  "kernelspec": {
   "display_name": "Python 3",
   "name": "python3"
  },
  "language_info": {
   "codemirror_mode": {
    "name": "ipython",
    "version": 3
   },
   "file_extension": ".py",
   "mimetype": "text/x-python",
   "name": "python",
   "nbconvert_exporter": "python",
   "pygments_lexer": "ipython3",
   "version": "3.9.13"
  }
 },
 "nbformat": 4,
 "nbformat_minor": 0
}
