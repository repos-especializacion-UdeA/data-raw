{
 "cells": [
  {
   "cell_type": "markdown",
   "metadata": {},
   "source": [
    "[![Open in Colab](https://colab.research.google.com/assets/colab-badge.svg)](https://colab.research.google.com/github/repos-especializacion-UdeA/data-raw/blob/main/notebooks/features_extraction.ipynb)"
   ]
  },
  {
   "cell_type": "markdown",
   "metadata": {
    "id": "pcTBB7Xloswp"
   },
   "source": [
    "# Extracción de caracteristicas\n",
    "\n",
    "El siguiente notebook explora de manera sencilla un archivo de matlab donde se guarda la información de un sensor."
   ]
  },
  {
   "cell_type": "code",
   "execution_count": 1,
   "metadata": {},
   "outputs": [],
   "source": [
    "try:\n",
    "    import scipy.io\n",
    "except ImportError:\n",
    "    !pip install scipy"
   ]
  },
  {
   "cell_type": "markdown",
   "metadata": {},
   "source": [
    "## 1. Librerias y configuraciones previas"
   ]
  },
  {
   "cell_type": "code",
   "execution_count": 2,
   "metadata": {},
   "outputs": [
    {
     "name": "stdout",
     "output_type": "stream",
     "text": [
      ".\n",
      "El notebook no se está ejecutando en Google Colab.\n"
     ]
    }
   ],
   "source": [
    "import sys\n",
    "import os\n",
    "import zipfile\n",
    "\n",
    "# Get the absolute path of the current notebook\n",
    "notebook_path = \".\"\n",
    "print(notebook_path)\n",
    "try:\n",
    "    import google.colab\n",
    "    if not(os.path.exists(\"/content/data-raw/notebooks\")):\n",
    "        !git clone https://github.com/repos-especializacion-UdeA/data-raw.git\n",
    "    %cd /content/data-raw/notebooks   \n",
    "    %pwd\n",
    "    ruta_base = '/content/data-raw/notebooks/'\n",
    "    sys.path.append(ruta_base)\n",
    "except ImportError:\n",
    "    print(\"El notebook no se está ejecutando en Google Colab.\")\n",
    "    ruta_base = './'"
   ]
  },
  {
   "cell_type": "code",
   "execution_count": 3,
   "metadata": {},
   "outputs": [],
   "source": [
    "# command to view figures in Jupyter notebook\n",
    "# %matplotlib inline \n",
    "\n",
    "# Tratamiento de datos\n",
    "# ==============================================================================\n",
    "import pandas as pd\n",
    "import numpy as np\n",
    "import scipy as sc\n",
    "\n",
    "# Almacenar en caché los resultados de funciones en el disco\n",
    "# ==============================================================================\n",
    "import joblib\n",
    "\n",
    "\n",
    "# Gestion de librerias\n",
    "# ==============================================================================\n",
    "from importlib import reload\n",
    "\n",
    "# Matemáticas y estadísticas\n",
    "# ==============================================================================\n",
    "import math\n",
    "\n",
    "# Gráficos\n",
    "# ==============================================================================\n",
    "import matplotlib.pyplot as plt\n",
    "from matplotlib import style\n",
    "import seaborn as sns\n",
    "\n",
    "\n",
    "# Configuración warnings\n",
    "# ==============================================================================\n",
    "import warnings\n",
    "warnings.filterwarnings('ignore')\n",
    "\n",
    "# Formateo y estilo\n",
    "# ==============================================================================\n",
    "from IPython.display import Markdown, display\n",
    "\n",
    "# Biblioteca scipy y componentes\n",
    "# ==============================================================================\n",
    "import scipy.io\n",
    "from scipy import signal\n"
   ]
  },
  {
   "cell_type": "markdown",
   "metadata": {},
   "source": [
    "## 2. Funciones"
   ]
  },
  {
   "cell_type": "code",
   "execution_count": null,
   "metadata": {},
   "outputs": [],
   "source": [
    "# Funciones de utilidad\n",
    "# ==============================================================================\n",
    "\n",
    "def segmentar_data_set( data_set, \n",
    "                        window_size = None, \n",
    "                        overlap_size = None):\n",
    "    \n",
    "    sujeto_data = data_set.iloc[:,0]\n",
    "    emg_data = data_set.iloc[:,1:11]\n",
    "    postura_data =  data_set.iloc[:,-1]\n",
    "    repeticion_data = data_set.iloc[:,-2] \n",
    "\n",
    "    ventanas = []\n",
    "    ventana = pd.DataFrame()\n",
    "    step_size = window_size - overlap_size\n",
    "    for i in range(0, len(emg_data) - window_size + 1, step_size):\n",
    "        sujeto_window = sujeto_data.iloc[i:i + window_size]\n",
    "        label_window = postura_data.iloc[i:i + window_size]\n",
    "        rep_window = repeticion_data.iloc[i:i + window_size]\n",
    "        num_unique_labels = label_window.nunique()\n",
    "        if isinstance(num_unique_labels, int) and num_unique_labels == 1: \n",
    "            ventana = pd.concat([sujeto_window.copy().reset_index(drop=True), \n",
    "                                 emg_data.iloc[i:i + window_size].copy().reset_index(drop=True), \n",
    "                                 rep_window.copy().reset_index(drop=True),\n",
    "                                 label_window.copy().reset_index(drop=True)], \n",
    "                                 axis=1)\n",
    "            ventanas.append(ventana)\n",
    "    return ventanas\n"
   ]
  },
  {
   "cell_type": "markdown",
   "metadata": {},
   "source": [
    "**Por hace**:\n",
    "- [ ] Migrar el enventanado usando Window functions del modulo [`scipy.signal.windows`](https://docs.scipy.org/doc/scipy/reference/signal.windows.html) "
   ]
  },
  {
   "cell_type": "markdown",
   "metadata": {},
   "source": [
    "## 3. Carga del dataset"
   ]
  },
  {
   "cell_type": "markdown",
   "metadata": {},
   "source": [
    "Inicialmente se verifica que el archivo csv este disponible."
   ]
  },
  {
   "cell_type": "code",
   "execution_count": 5,
   "metadata": {},
   "outputs": [],
   "source": [
    "# Verificando que se encuentre el archivo\n",
    "\n",
    "DATASETS_PATH = \"./datasets/\"\n",
    "filter_dataset_zip = \"filter_dataset.zip\"\n",
    "filter_dataset_csv = \"filter_dataset.csv\"\n",
    "\n",
    "if os.path.exists(DATASETS_PATH + filter_dataset_zip):\n",
    "    # Descoprimir dataset\n",
    "    with zipfile.ZipFile(DATASETS_PATH + filter_dataset_zip, 'r') as zip_ref:\n",
    "        zip_ref.extractall(\".\")\n",
    "else:\n",
    "    print(\"El dataset no existe - Ejecute el notebook \\\"preprocess_raw_signal.ipynb\\\" antes de seguir\")"
   ]
  },
  {
   "cell_type": "markdown",
   "metadata": {},
   "source": [
    "Si el dataset no ejecute el [`preprocess_raw_signal.ipynb`](preprocess_raw_signal.ipynb) para poder seguir. "
   ]
  },
  {
   "cell_type": "markdown",
   "metadata": {},
   "source": [
    "A continuación se realiza la carga del dataset completo"
   ]
  },
  {
   "cell_type": "code",
   "execution_count": 6,
   "metadata": {},
   "outputs": [],
   "source": [
    "# Carga del dataset\n",
    "df = pd.read_csv(DATASETS_PATH + filter_dataset_csv)"
   ]
  },
  {
   "cell_type": "markdown",
   "metadata": {},
   "source": [
    "A continuación se verifica la carga del dataset:"
   ]
  },
  {
   "cell_type": "code",
   "execution_count": 8,
   "metadata": {},
   "outputs": [
    {
     "data": {
      "text/html": [
       "<div>\n",
       "<style scoped>\n",
       "    .dataframe tbody tr th:only-of-type {\n",
       "        vertical-align: middle;\n",
       "    }\n",
       "\n",
       "    .dataframe tbody tr th {\n",
       "        vertical-align: top;\n",
       "    }\n",
       "\n",
       "    .dataframe thead th {\n",
       "        text-align: right;\n",
       "    }\n",
       "</style>\n",
       "<table border=\"1\" class=\"dataframe\">\n",
       "  <thead>\n",
       "    <tr style=\"text-align: right;\">\n",
       "      <th></th>\n",
       "      <th>s</th>\n",
       "      <th>emg_1</th>\n",
       "      <th>emg_2</th>\n",
       "      <th>emg_3</th>\n",
       "      <th>emg_4</th>\n",
       "      <th>emg_5</th>\n",
       "      <th>emg_6</th>\n",
       "      <th>emg_7</th>\n",
       "      <th>emg_8</th>\n",
       "      <th>emg_9</th>\n",
       "      <th>emg_10</th>\n",
       "      <th>label</th>\n",
       "    </tr>\n",
       "  </thead>\n",
       "  <tbody>\n",
       "    <tr>\n",
       "      <th>0</th>\n",
       "      <td>1</td>\n",
       "      <td>0.067523</td>\n",
       "      <td>0.002402</td>\n",
       "      <td>0.002399</td>\n",
       "      <td>0.002403</td>\n",
       "      <td>0.002395</td>\n",
       "      <td>0.009800</td>\n",
       "      <td>0.0024</td>\n",
       "      <td>0.050357</td>\n",
       "      <td>0.0024</td>\n",
       "      <td>0.034192</td>\n",
       "      <td>0</td>\n",
       "    </tr>\n",
       "    <tr>\n",
       "      <th>1</th>\n",
       "      <td>1</td>\n",
       "      <td>0.066284</td>\n",
       "      <td>0.002402</td>\n",
       "      <td>0.002402</td>\n",
       "      <td>0.002404</td>\n",
       "      <td>0.002395</td>\n",
       "      <td>0.009474</td>\n",
       "      <td>0.0024</td>\n",
       "      <td>0.049707</td>\n",
       "      <td>0.0024</td>\n",
       "      <td>0.032820</td>\n",
       "      <td>0</td>\n",
       "    </tr>\n",
       "    <tr>\n",
       "      <th>2</th>\n",
       "      <td>1</td>\n",
       "      <td>0.065045</td>\n",
       "      <td>0.002403</td>\n",
       "      <td>0.002405</td>\n",
       "      <td>0.002404</td>\n",
       "      <td>0.002395</td>\n",
       "      <td>0.009149</td>\n",
       "      <td>0.0024</td>\n",
       "      <td>0.049050</td>\n",
       "      <td>0.0024</td>\n",
       "      <td>0.031452</td>\n",
       "      <td>0</td>\n",
       "    </tr>\n",
       "    <tr>\n",
       "      <th>3</th>\n",
       "      <td>1</td>\n",
       "      <td>0.063810</td>\n",
       "      <td>0.002403</td>\n",
       "      <td>0.002409</td>\n",
       "      <td>0.002405</td>\n",
       "      <td>0.002395</td>\n",
       "      <td>0.008827</td>\n",
       "      <td>0.0024</td>\n",
       "      <td>0.048390</td>\n",
       "      <td>0.0024</td>\n",
       "      <td>0.030091</td>\n",
       "      <td>0</td>\n",
       "    </tr>\n",
       "    <tr>\n",
       "      <th>4</th>\n",
       "      <td>1</td>\n",
       "      <td>0.062581</td>\n",
       "      <td>0.002404</td>\n",
       "      <td>0.002412</td>\n",
       "      <td>0.002406</td>\n",
       "      <td>0.002395</td>\n",
       "      <td>0.008507</td>\n",
       "      <td>0.0024</td>\n",
       "      <td>0.047726</td>\n",
       "      <td>0.0024</td>\n",
       "      <td>0.028743</td>\n",
       "      <td>0</td>\n",
       "    </tr>\n",
       "  </tbody>\n",
       "</table>\n",
       "</div>"
      ],
      "text/plain": [
       "   s     emg_1     emg_2     emg_3     emg_4     emg_5     emg_6   emg_7  \\\n",
       "0  1  0.067523  0.002402  0.002399  0.002403  0.002395  0.009800  0.0024   \n",
       "1  1  0.066284  0.002402  0.002402  0.002404  0.002395  0.009474  0.0024   \n",
       "2  1  0.065045  0.002403  0.002405  0.002404  0.002395  0.009149  0.0024   \n",
       "3  1  0.063810  0.002403  0.002409  0.002405  0.002395  0.008827  0.0024   \n",
       "4  1  0.062581  0.002404  0.002412  0.002406  0.002395  0.008507  0.0024   \n",
       "\n",
       "      emg_8   emg_9    emg_10  label  \n",
       "0  0.050357  0.0024  0.034192      0  \n",
       "1  0.049707  0.0024  0.032820      0  \n",
       "2  0.049050  0.0024  0.031452      0  \n",
       "3  0.048390  0.0024  0.030091      0  \n",
       "4  0.047726  0.0024  0.028743      0  "
      ]
     },
     "execution_count": 8,
     "metadata": {},
     "output_type": "execute_result"
    }
   ],
   "source": [
    "# Mostrar las primeras filas del DataFrame\n",
    "if 't' in df.columns:\n",
    "    df.drop(columns=['t'], inplace=True)\n",
    "df.head()"
   ]
  },
  {
   "cell_type": "code",
   "execution_count": 9,
   "metadata": {},
   "outputs": [
    {
     "name": "stdout",
     "output_type": "stream",
     "text": [
      "<class 'pandas.core.frame.DataFrame'>\n",
      "RangeIndex: 2731393 entries, 0 to 2731392\n",
      "Data columns (total 12 columns):\n",
      " #   Column  Dtype  \n",
      "---  ------  -----  \n",
      " 0   s       int64  \n",
      " 1   emg_1   float64\n",
      " 2   emg_2   float64\n",
      " 3   emg_3   float64\n",
      " 4   emg_4   float64\n",
      " 5   emg_5   float64\n",
      " 6   emg_6   float64\n",
      " 7   emg_7   float64\n",
      " 8   emg_8   float64\n",
      " 9   emg_9   float64\n",
      " 10  emg_10  float64\n",
      " 11  label   int64  \n",
      "dtypes: float64(10), int64(2)\n",
      "memory usage: 250.1 MB\n"
     ]
    }
   ],
   "source": [
    "df.info()"
   ]
  },
  {
   "cell_type": "markdown",
   "metadata": {},
   "source": [
    "Hay un total de 13 columnas y ninguna tiene registros faltantes (missing values). Debido a esto, no nos tendremos que preocupar por realizar una imputación de datos. Pero hay muchos datos."
   ]
  },
  {
   "cell_type": "code",
   "execution_count": 10,
   "metadata": {},
   "outputs": [],
   "source": [
    "# Convertir a categorico\n",
    "# df['s'] = pd.Categorical(df['s'])\n",
    "# df['rep'] = pd.Categorical(df['rep'])\n",
    "# df['label'] = pd.Categorical(df['label'])"
   ]
  },
  {
   "cell_type": "markdown",
   "metadata": {},
   "source": [
    "Se verifica que los cambios en el dataframe se hayan efectuado."
   ]
  },
  {
   "cell_type": "code",
   "execution_count": 11,
   "metadata": {},
   "outputs": [
    {
     "name": "stdout",
     "output_type": "stream",
     "text": [
      "Variables categoricas: []\n",
      "Variables categoricas: ['s', 'emg_1', 'emg_2', 'emg_3', 'emg_4', 'emg_5', 'emg_6', 'emg_7', 'emg_8', 'emg_9', 'emg_10', 'label']\n"
     ]
    }
   ],
   "source": [
    "#Lista de variables categóricas\n",
    "catCols = df.select_dtypes(include = ['object', 'category']).columns.tolist()\n",
    "print(f\"Variables categoricas: {catCols}\")\n",
    "numCols = df.select_dtypes(include = ['float64','int32','int64']).columns.tolist()\n",
    "print(f\"Variables categoricas: {numCols}\")"
   ]
  },
  {
   "cell_type": "markdown",
   "metadata": {},
   "source": [
    "## Filtrado"
   ]
  },
  {
   "cell_type": "markdown",
   "metadata": {},
   "source": [
    "En la figura anterior se pueden apreciar las 10 repeticiones realizadas para la postura 2. Es importante notar que la señal esta muy ruidosa por lo que es necesario realizar un Filtrado."
   ]
  },
  {
   "cell_type": "code",
   "execution_count": 78,
   "metadata": {},
   "outputs": [],
   "source": [
    "# perform 2-order 1Hz low-pass filter\n",
    "cutoff_freq = 1\n",
    "nyquist = sample_freq/2\n",
    "filter_order = 2\n",
    "filter_type = 'lowpass'\n",
    "normal_cutoff = cutoff_freq / nyquist\n",
    "b, a = signal.butter(N = filter_order, \n",
    "                     Wn = normal_cutoff, \n",
    "                     btype = filter_type)"
   ]
  },
  {
   "cell_type": "markdown",
   "metadata": {},
   "source": [
    "## Extracción de caracteristicas del dataset"
   ]
  },
  {
   "cell_type": "markdown",
   "metadata": {},
   "source": [
    "### Segmentacion de la señal"
   ]
  },
  {
   "cell_type": "markdown",
   "metadata": {},
   "source": [
    "La segmentación consiste en extraer porciones de la señal mediante ventanas de tiempo (que pueden ir sobrelapadas o no) para realizar una analisis local mas focalizado. La siguiente figura resume el procedimiento:\n",
    "\n",
    "![overlap_window](overlap_window.png)"
   ]
  },
  {
   "cell_type": "markdown",
   "metadata": {},
   "source": [
    "### Extracción de caracteristicas"
   ]
  },
  {
   "cell_type": "markdown",
   "metadata": {},
   "source": [
    "Existen diferentes caracteristicas, pero por ahora solo nos centraremos en el valor RMS"
   ]
  },
  {
   "cell_type": "markdown",
   "metadata": {},
   "source": [
    "#### Valor RMS"
   ]
  },
  {
   "cell_type": "markdown",
   "metadata": {},
   "source": [
    "Por ahora la unica caracteristica a emplear es el valor RMS de la señal de cada electrodo aplicado a cada una de las ventanas\n",
    "\n",
    "$$\\text{RMS} = \\sqrt{\\frac{1}{T} \\int_{t_0}^{t_0 + T} x^2(t), dt} $$\n",
    "\n",
    "Donde:\n",
    "* $t_0$: es el instante inicial de la ventana.\n",
    "* $T$: es la duración de la ventana.\n",
    "* $x(t)$: es la señal en el tiempo $t$."
   ]
  },
  {
   "cell_type": "markdown",
   "metadata": {},
   "source": [
    "#### Otras caracteristicas"
   ]
  },
  {
   "cell_type": "markdown",
   "metadata": {},
   "source": [
    "Esta parte queda como trabajo futuro"
   ]
  },
  {
   "cell_type": "markdown",
   "metadata": {},
   "source": [
    "## Exploración basica del dataset"
   ]
  },
  {
   "cell_type": "markdown",
   "metadata": {},
   "source": [
    "Inicialmente se explorara el dataset para ver como luce:\n",
    "\n"
   ]
  },
  {
   "cell_type": "code",
   "execution_count": 84,
   "metadata": {},
   "outputs": [
    {
     "name": "stdout",
     "output_type": "stream",
     "text": [
      "<class 'pandas.core.frame.DataFrame'>\n",
      "RangeIndex: 2731393 entries, 0 to 2731392\n",
      "Data columns (total 14 columns):\n",
      " #   Column  Dtype   \n",
      "---  ------  -----   \n",
      " 0   s       category\n",
      " 1   emg_1   float64 \n",
      " 2   emg_2   float64 \n",
      " 3   emg_3   float64 \n",
      " 4   emg_4   float64 \n",
      " 5   emg_5   float64 \n",
      " 6   emg_6   float64 \n",
      " 7   emg_7   float64 \n",
      " 8   emg_8   float64 \n",
      " 9   emg_9   float64 \n",
      " 10  emg_10  float64 \n",
      " 11  rep     category\n",
      " 12  label   category\n",
      " 13  t       float64 \n",
      "dtypes: category(3), float64(11)\n",
      "memory usage: 237.0 MB\n"
     ]
    }
   ],
   "source": [
    "df.info()"
   ]
  },
  {
   "cell_type": "code",
   "execution_count": 85,
   "metadata": {},
   "outputs": [
    {
     "data": {
      "text/plain": [
       "s\n",
       "1     101014\n",
       "2     100686\n",
       "3     100720\n",
       "4     100835\n",
       "5     100894\n",
       "6     101083\n",
       "7     100817\n",
       "8     100854\n",
       "9     100925\n",
       "10    100778\n",
       "11    100899\n",
       "12    100920\n",
       "13    100948\n",
       "14    100785\n",
       "15    101508\n",
       "16    101191\n",
       "17    101675\n",
       "18    101323\n",
       "19    101299\n",
       "20    101565\n",
       "21    101732\n",
       "22    101884\n",
       "23    101221\n",
       "24    101698\n",
       "25    101549\n",
       "26    101642\n",
       "27    100948\n",
       "Name: count, dtype: int64"
      ]
     },
     "execution_count": 85,
     "metadata": {},
     "output_type": "execute_result"
    }
   ],
   "source": [
    "# Sujetos\n",
    "df['s'].value_counts().sort_index()"
   ]
  },
  {
   "cell_type": "markdown",
   "metadata": {},
   "source": [
    "Vemos que el numero de muestras por sujeto es aproximadamente el mismo como se puede corroborar en el siguiente grafico de barras"
   ]
  },
  {
   "cell_type": "code",
   "execution_count": 86,
   "metadata": {},
   "outputs": [
    {
     "data": {
      "image/png": "[encoded data removed]",
      "text/plain": [
       "<Figure size 1000x400 with 1 Axes>"
      ]
     },
     "metadata": {},
     "output_type": "display_data"
    }
   ],
   "source": [
    "fig, ax = plt.subplots(1, 1, figsize=(10, 4))\n",
    "sns.countplot(x='s', data=df)\n",
    "ax.set_title('Muestras por sujeto', fontsize=14)\n",
    "ax.set_xlabel('Sujeto', fontsize=12)\n",
    "ax.set_ylabel('Muestras', fontsize=12)\n",
    "plt.show()"
   ]
  },
  {
   "cell_type": "markdown",
   "metadata": {},
   "source": [
    "En lo que respecta a la cantidad de repeticiones tenemos:"
   ]
  },
  {
   "cell_type": "code",
   "execution_count": 87,
   "metadata": {},
   "outputs": [
    {
     "data": {
      "text/plain": [
       "rep\n",
       "0     1542153\n",
       "1      122717\n",
       "2      121490\n",
       "3      120834\n",
       "4      117230\n",
       "5      118336\n",
       "6      119118\n",
       "7      116940\n",
       "8      117748\n",
       "9      117007\n",
       "10     117820\n",
       "Name: count, dtype: int64"
      ]
     },
     "execution_count": 87,
     "metadata": {},
     "output_type": "execute_result"
    }
   ],
   "source": [
    "df['rep'].value_counts().sort_index()"
   ]
  },
  {
   "cell_type": "markdown",
   "metadata": {},
   "source": [
    "Hay un total de 10 repeticiones (1 - 10); sin embargo, cuando el sujeto tiene la postura en la posición de descanso, el numero asociado a esta es 0. "
   ]
  },
  {
   "cell_type": "code",
   "execution_count": 88,
   "metadata": {},
   "outputs": [
    {
     "data": {
      "image/png": "[encoded data removed]",
      "text/plain": [
       "<Figure size 1000x400 with 1 Axes>"
      ]
     },
     "metadata": {},
     "output_type": "display_data"
    }
   ],
   "source": [
    "fig, ax = plt.subplots(1, 1, figsize=(10, 4))\n",
    "sns.countplot(x='rep', data=df)\n",
    "ax.set_title('Repeticiones', fontsize=14)\n",
    "ax.set_xlabel('Repeticion', fontsize=12)\n",
    "ax.set_ylabel('Muestras', fontsize=12)\n",
    "plt.show()"
   ]
  },
  {
   "cell_type": "markdown",
   "metadata": {},
   "source": [
    "Tal y como se muestra en la grafica anterior, la cantidad de muestras en la posición de descanso es dominante respecto a las muestras asociadas a las repeticiones.\n",
    "\n",
    "Ahora veamos la cantidad de muestras asociadas a una postura, siendo 0 la postura asociada a la posición de descanso:"
   ]
  },
  {
   "cell_type": "code",
   "execution_count": 89,
   "metadata": {},
   "outputs": [
    {
     "data": {
      "text/plain": [
       "label\n",
       "0     1542153\n",
       "1      102805\n",
       "2      101570\n",
       "3      113696\n",
       "4       95109\n",
       "5       95228\n",
       "6       99451\n",
       "7      100561\n",
       "8      104325\n",
       "9       95952\n",
       "10      92413\n",
       "11      88784\n",
       "12      99346\n",
       "Name: count, dtype: int64"
      ]
     },
     "execution_count": 89,
     "metadata": {},
     "output_type": "execute_result"
    }
   ],
   "source": [
    "df['label'].value_counts().sort_index()"
   ]
  },
  {
   "cell_type": "code",
   "execution_count": 90,
   "metadata": {},
   "outputs": [
    {
     "data": {
      "image/png": "[encoded data removed]",
      "text/plain": [
       "<Figure size 1000x400 with 1 Axes>"
      ]
     },
     "metadata": {},
     "output_type": "display_data"
    }
   ],
   "source": [
    "fig, ax = plt.subplots(1, 1, figsize=(10, 4))\n",
    "sns.countplot(x='label', data=df)\n",
    "ax.set_title('Posturas', fontsize=14)\n",
    "ax.set_xlabel('Postura', fontsize=12)\n",
    "ax.set_ylabel('Muestras', fontsize=12)\n",
    "plt.show()"
   ]
  },
  {
   "cell_type": "markdown",
   "metadata": {},
   "source": [
    "Vemos que la mayor cantidad de muestras se da para la pocisión de descanso (0) por lo cual esta es una postura dominante"
   ]
  },
  {
   "cell_type": "markdown",
   "metadata": {},
   "source": [
    "### Basic information about the dataset and data types"
   ]
  },
  {
   "cell_type": "code",
   "execution_count": 91,
   "metadata": {},
   "outputs": [
    {
     "name": "stdout",
     "output_type": "stream",
     "text": [
      "<class 'pandas.core.frame.DataFrame'>\n",
      "RangeIndex: 2731393 entries, 0 to 2731392\n",
      "Data columns (total 14 columns):\n",
      " #   Column  Dtype   \n",
      "---  ------  -----   \n",
      " 0   s       category\n",
      " 1   emg_1   float64 \n",
      " 2   emg_2   float64 \n",
      " 3   emg_3   float64 \n",
      " 4   emg_4   float64 \n",
      " 5   emg_5   float64 \n",
      " 6   emg_6   float64 \n",
      " 7   emg_7   float64 \n",
      " 8   emg_8   float64 \n",
      " 9   emg_9   float64 \n",
      " 10  emg_10  float64 \n",
      " 11  rep     category\n",
      " 12  label   category\n",
      " 13  t       float64 \n",
      "dtypes: category(3), float64(11)\n",
      "memory usage: 237.0 MB\n"
     ]
    }
   ],
   "source": [
    "df.info()"
   ]
  },
  {
   "cell_type": "code",
   "execution_count": 92,
   "metadata": {},
   "outputs": [],
   "source": [
    "# Convertir a categorico\n",
    "df['s'] = pd.Categorical(df['s'])\n",
    "df['rep'] = pd.Categorical(df['rep'])\n",
    "df['label'] = pd.Categorical(df['label'])"
   ]
  },
  {
   "cell_type": "code",
   "execution_count": 93,
   "metadata": {},
   "outputs": [
    {
     "name": "stdout",
     "output_type": "stream",
     "text": [
      "<class 'pandas.core.frame.DataFrame'>\n",
      "RangeIndex: 2731393 entries, 0 to 2731392\n",
      "Data columns (total 14 columns):\n",
      " #   Column  Dtype   \n",
      "---  ------  -----   \n",
      " 0   s       category\n",
      " 1   emg_1   float64 \n",
      " 2   emg_2   float64 \n",
      " 3   emg_3   float64 \n",
      " 4   emg_4   float64 \n",
      " 5   emg_5   float64 \n",
      " 6   emg_6   float64 \n",
      " 7   emg_7   float64 \n",
      " 8   emg_8   float64 \n",
      " 9   emg_9   float64 \n",
      " 10  emg_10  float64 \n",
      " 11  rep     category\n",
      " 12  label   category\n",
      " 13  t       float64 \n",
      "dtypes: category(3), float64(11)\n",
      "memory usage: 237.0 MB\n"
     ]
    }
   ],
   "source": [
    "df.info()"
   ]
  },
  {
   "cell_type": "code",
   "execution_count": 94,
   "metadata": {},
   "outputs": [
    {
     "data": {
      "text/plain": [
       "Index(['s', 'emg_1', 'emg_2', 'emg_3', 'emg_4', 'emg_5', 'emg_6', 'emg_7',\n",
       "       'emg_8', 'emg_9', 'emg_10', 'rep', 'label', 't'],\n",
       "      dtype='object')"
      ]
     },
     "execution_count": 94,
     "metadata": {},
     "output_type": "execute_result"
    }
   ],
   "source": [
    "df.columns"
   ]
  },
  {
   "cell_type": "code",
   "execution_count": 95,
   "metadata": {},
   "outputs": [
    {
     "data": {
      "text/plain": [
       "s         0\n",
       "emg_1     0\n",
       "emg_2     0\n",
       "emg_3     0\n",
       "emg_4     0\n",
       "emg_5     0\n",
       "emg_6     0\n",
       "emg_7     0\n",
       "emg_8     0\n",
       "emg_9     0\n",
       "emg_10    0\n",
       "rep       0\n",
       "label     0\n",
       "t         0\n",
       "dtype: int64"
      ]
     },
     "execution_count": 95,
     "metadata": {},
     "output_type": "execute_result"
    }
   ],
   "source": [
    "# Completitud\n",
    "df.isna().sum()"
   ]
  },
  {
   "cell_type": "code",
   "execution_count": 96,
   "metadata": {},
   "outputs": [
    {
     "data": {
      "text/plain": [
       "s              27\n",
       "emg_1     2731393\n",
       "emg_2     2731189\n",
       "emg_3     2731393\n",
       "emg_4     2729274\n",
       "emg_5     2731393\n",
       "emg_6     2717121\n",
       "emg_7     2731393\n",
       "emg_8     2731393\n",
       "emg_9     2728796\n",
       "emg_10    2731393\n",
       "rep            11\n",
       "label          13\n",
       "t         2731393\n",
       "dtype: int64"
      ]
     },
     "metadata": {},
     "output_type": "display_data"
    },
    {
     "data": {
      "text/plain": [
       "[1, 2, 3, 4, 5, ..., 23, 24, 25, 26, 27]\n",
       "Length: 27\n",
       "Categories (27, int64): [1, 2, 3, 4, ..., 24, 25, 26, 27]"
      ]
     },
     "metadata": {},
     "output_type": "display_data"
    },
    {
     "data": {
      "text/plain": [
       "[0, 1, 2, 3, 4, ..., 6, 7, 8, 9, 10]\n",
       "Length: 11\n",
       "Categories (11, int64): [0, 1, 2, 3, ..., 7, 8, 9, 10]"
      ]
     },
     "metadata": {},
     "output_type": "display_data"
    },
    {
     "data": {
      "text/plain": [
       "[0, 1, 2, 3, 4, ..., 8, 9, 10, 11, 12]\n",
       "Length: 13\n",
       "Categories (13, int64): [0, 1, 2, 3, ..., 9, 10, 11, 12]"
      ]
     },
     "metadata": {},
     "output_type": "display_data"
    }
   ],
   "source": [
    "display(df.nunique())\n",
    "display(df['s'].unique())\n",
    "display(df['rep'].unique())\n",
    "display(df['label'].unique())"
   ]
  },
  {
   "cell_type": "markdown",
   "metadata": {},
   "source": [
    "### Analisis univariado"
   ]
  },
  {
   "cell_type": "code",
   "execution_count": 97,
   "metadata": {},
   "outputs": [
    {
     "data": {
      "text/html": [
       "<div>\n",
       "<style scoped>\n",
       "    .dataframe tbody tr th:only-of-type {\n",
       "        vertical-align: middle;\n",
       "    }\n",
       "\n",
       "    .dataframe tbody tr th {\n",
       "        vertical-align: top;\n",
       "    }\n",
       "\n",
       "    .dataframe thead th {\n",
       "        text-align: right;\n",
       "    }\n",
       "</style>\n",
       "<table border=\"1\" class=\"dataframe\">\n",
       "  <thead>\n",
       "    <tr style=\"text-align: right;\">\n",
       "      <th></th>\n",
       "      <th>emg_1</th>\n",
       "      <th>emg_2</th>\n",
       "      <th>emg_3</th>\n",
       "      <th>emg_4</th>\n",
       "      <th>emg_5</th>\n",
       "      <th>emg_6</th>\n",
       "      <th>emg_7</th>\n",
       "      <th>emg_8</th>\n",
       "      <th>emg_9</th>\n",
       "      <th>emg_10</th>\n",
       "    </tr>\n",
       "  </thead>\n",
       "  <tbody>\n",
       "    <tr>\n",
       "      <th>count</th>\n",
       "      <td>2731393.000000</td>\n",
       "      <td>2731393.000000</td>\n",
       "      <td>2731393.000000</td>\n",
       "      <td>2731393.000000</td>\n",
       "      <td>2731393.000000</td>\n",
       "      <td>2731393.000000</td>\n",
       "      <td>2731393.000000</td>\n",
       "      <td>2731393.000000</td>\n",
       "      <td>2731393.000000</td>\n",
       "      <td>2731393.000000</td>\n",
       "    </tr>\n",
       "    <tr>\n",
       "      <th>mean</th>\n",
       "      <td>0.195195</td>\n",
       "      <td>0.122251</td>\n",
       "      <td>0.122080</td>\n",
       "      <td>0.042121</td>\n",
       "      <td>0.011902</td>\n",
       "      <td>0.034457</td>\n",
       "      <td>0.303733</td>\n",
       "      <td>0.303680</td>\n",
       "      <td>0.117703</td>\n",
       "      <td>0.234548</td>\n",
       "    </tr>\n",
       "    <tr>\n",
       "      <th>std</th>\n",
       "      <td>0.320324</td>\n",
       "      <td>0.220754</td>\n",
       "      <td>0.302355</td>\n",
       "      <td>0.120017</td>\n",
       "      <td>0.031780</td>\n",
       "      <td>0.089595</td>\n",
       "      <td>0.522617</td>\n",
       "      <td>0.366763</td>\n",
       "      <td>0.288361</td>\n",
       "      <td>0.341319</td>\n",
       "    </tr>\n",
       "    <tr>\n",
       "      <th>min</th>\n",
       "      <td>-0.050024</td>\n",
       "      <td>-0.048130</td>\n",
       "      <td>-0.115533</td>\n",
       "      <td>-0.043199</td>\n",
       "      <td>-0.010148</td>\n",
       "      <td>-0.020428</td>\n",
       "      <td>-0.124056</td>\n",
       "      <td>-0.036300</td>\n",
       "      <td>-0.126998</td>\n",
       "      <td>-0.059506</td>\n",
       "    </tr>\n",
       "    <tr>\n",
       "      <th>25%</th>\n",
       "      <td>0.004995</td>\n",
       "      <td>0.002435</td>\n",
       "      <td>0.002538</td>\n",
       "      <td>0.002400</td>\n",
       "      <td>0.002455</td>\n",
       "      <td>0.002403</td>\n",
       "      <td>0.023524</td>\n",
       "      <td>0.076280</td>\n",
       "      <td>0.002404</td>\n",
       "      <td>0.016688</td>\n",
       "    </tr>\n",
       "    <tr>\n",
       "      <th>50%</th>\n",
       "      <td>0.057786</td>\n",
       "      <td>0.016516</td>\n",
       "      <td>0.008818</td>\n",
       "      <td>0.002550</td>\n",
       "      <td>0.002578</td>\n",
       "      <td>0.003350</td>\n",
       "      <td>0.130650</td>\n",
       "      <td>0.198724</td>\n",
       "      <td>0.006833</td>\n",
       "      <td>0.118852</td>\n",
       "    </tr>\n",
       "    <tr>\n",
       "      <th>75%</th>\n",
       "      <td>0.260736</td>\n",
       "      <td>0.148558</td>\n",
       "      <td>0.118000</td>\n",
       "      <td>0.022031</td>\n",
       "      <td>0.004293</td>\n",
       "      <td>0.022775</td>\n",
       "      <td>0.360370</td>\n",
       "      <td>0.386994</td>\n",
       "      <td>0.099222</td>\n",
       "      <td>0.306058</td>\n",
       "    </tr>\n",
       "    <tr>\n",
       "      <th>max</th>\n",
       "      <td>4.772827</td>\n",
       "      <td>2.992637</td>\n",
       "      <td>4.799877</td>\n",
       "      <td>4.715544</td>\n",
       "      <td>0.869776</td>\n",
       "      <td>1.902337</td>\n",
       "      <td>4.832991</td>\n",
       "      <td>4.480645</td>\n",
       "      <td>4.826315</td>\n",
       "      <td>4.322086</td>\n",
       "    </tr>\n",
       "  </tbody>\n",
       "</table>\n",
       "</div>"
      ],
      "text/plain": [
       "               emg_1          emg_2          emg_3          emg_4  \\\n",
       "count 2731393.000000 2731393.000000 2731393.000000 2731393.000000   \n",
       "mean        0.195195       0.122251       0.122080       0.042121   \n",
       "std         0.320324       0.220754       0.302355       0.120017   \n",
       "min        -0.050024      -0.048130      -0.115533      -0.043199   \n",
       "25%         0.004995       0.002435       0.002538       0.002400   \n",
       "50%         0.057786       0.016516       0.008818       0.002550   \n",
       "75%         0.260736       0.148558       0.118000       0.022031   \n",
       "max         4.772827       2.992637       4.799877       4.715544   \n",
       "\n",
       "               emg_5          emg_6          emg_7          emg_8  \\\n",
       "count 2731393.000000 2731393.000000 2731393.000000 2731393.000000   \n",
       "mean        0.011902       0.034457       0.303733       0.303680   \n",
       "std         0.031780       0.089595       0.522617       0.366763   \n",
       "min        -0.010148      -0.020428      -0.124056      -0.036300   \n",
       "25%         0.002455       0.002403       0.023524       0.076280   \n",
       "50%         0.002578       0.003350       0.130650       0.198724   \n",
       "75%         0.004293       0.022775       0.360370       0.386994   \n",
       "max         0.869776       1.902337       4.832991       4.480645   \n",
       "\n",
       "               emg_9         emg_10  \n",
       "count 2731393.000000 2731393.000000  \n",
       "mean        0.117703       0.234548  \n",
       "std         0.288361       0.341319  \n",
       "min        -0.126998      -0.059506  \n",
       "25%         0.002404       0.016688  \n",
       "50%         0.006833       0.118852  \n",
       "75%         0.099222       0.306058  \n",
       "max         4.826315       4.322086  "
      ]
     },
     "metadata": {},
     "output_type": "display_data"
    }
   ],
   "source": [
    "# Display in normal notation instead of scientific\n",
    "with pd.option_context('float_format', '{:f}'.format):\n",
    "    display(df.iloc[:,:-2].describe())\n"
   ]
  },
  {
   "cell_type": "code",
   "execution_count": 98,
   "metadata": {},
   "outputs": [
    {
     "data": {
      "text/plain": [
       "Index(['emg_1', 'emg_2', 'emg_3', 'emg_4', 'emg_5', 'emg_6', 'emg_7', 'emg_8',\n",
       "       'emg_9', 'emg_10'],\n",
       "      dtype='object')"
      ]
     },
     "execution_count": 98,
     "metadata": {},
     "output_type": "execute_result"
    }
   ],
   "source": [
    "df.columns[1:11]"
   ]
  },
  {
   "cell_type": "markdown",
   "metadata": {},
   "source": [
    "Para obtener la correlacion vamos a volver el label numerico (de nuevo)"
   ]
  },
  {
   "cell_type": "code",
   "execution_count": 99,
   "metadata": {},
   "outputs": [
    {
     "name": "stdout",
     "output_type": "stream",
     "text": [
      "Correlation Matrix:\n"
     ]
    },
    {
     "data": {
      "text/html": [
       "<div>\n",
       "<style scoped>\n",
       "    .dataframe tbody tr th:only-of-type {\n",
       "        vertical-align: middle;\n",
       "    }\n",
       "\n",
       "    .dataframe tbody tr th {\n",
       "        vertical-align: top;\n",
       "    }\n",
       "\n",
       "    .dataframe thead th {\n",
       "        text-align: right;\n",
       "    }\n",
       "</style>\n",
       "<table border=\"1\" class=\"dataframe\">\n",
       "  <thead>\n",
       "    <tr style=\"text-align: right;\">\n",
       "      <th></th>\n",
       "      <th>emg_1</th>\n",
       "      <th>emg_2</th>\n",
       "      <th>emg_3</th>\n",
       "      <th>emg_4</th>\n",
       "      <th>emg_5</th>\n",
       "      <th>emg_6</th>\n",
       "      <th>emg_7</th>\n",
       "      <th>emg_8</th>\n",
       "      <th>emg_9</th>\n",
       "      <th>emg_10</th>\n",
       "      <th>label</th>\n",
       "    </tr>\n",
       "  </thead>\n",
       "  <tbody>\n",
       "    <tr>\n",
       "      <th>emg_1</th>\n",
       "      <td>1.000000</td>\n",
       "      <td>0.453761</td>\n",
       "      <td>0.326322</td>\n",
       "      <td>0.280480</td>\n",
       "      <td>0.382454</td>\n",
       "      <td>0.176835</td>\n",
       "      <td>0.191175</td>\n",
       "      <td>0.340444</td>\n",
       "      <td>0.311100</td>\n",
       "      <td>0.293134</td>\n",
       "      <td>0.297431</td>\n",
       "    </tr>\n",
       "    <tr>\n",
       "      <th>emg_2</th>\n",
       "      <td>0.453761</td>\n",
       "      <td>1.000000</td>\n",
       "      <td>0.451567</td>\n",
       "      <td>0.381319</td>\n",
       "      <td>0.548464</td>\n",
       "      <td>0.419069</td>\n",
       "      <td>0.480181</td>\n",
       "      <td>0.418293</td>\n",
       "      <td>0.496885</td>\n",
       "      <td>0.457090</td>\n",
       "      <td>0.285061</td>\n",
       "    </tr>\n",
       "    <tr>\n",
       "      <th>emg_3</th>\n",
       "      <td>0.326322</td>\n",
       "      <td>0.451567</td>\n",
       "      <td>1.000000</td>\n",
       "      <td>0.510592</td>\n",
       "      <td>0.453392</td>\n",
       "      <td>0.206657</td>\n",
       "      <td>0.307099</td>\n",
       "      <td>0.377289</td>\n",
       "      <td>0.601478</td>\n",
       "      <td>0.405319</td>\n",
       "      <td>0.279396</td>\n",
       "    </tr>\n",
       "    <tr>\n",
       "      <th>emg_4</th>\n",
       "      <td>0.280480</td>\n",
       "      <td>0.381319</td>\n",
       "      <td>0.510592</td>\n",
       "      <td>1.000000</td>\n",
       "      <td>0.670789</td>\n",
       "      <td>0.249064</td>\n",
       "      <td>0.280444</td>\n",
       "      <td>0.381770</td>\n",
       "      <td>0.482089</td>\n",
       "      <td>0.410729</td>\n",
       "      <td>0.269300</td>\n",
       "    </tr>\n",
       "    <tr>\n",
       "      <th>emg_5</th>\n",
       "      <td>0.382454</td>\n",
       "      <td>0.548464</td>\n",
       "      <td>0.453392</td>\n",
       "      <td>0.670789</td>\n",
       "      <td>1.000000</td>\n",
       "      <td>0.641675</td>\n",
       "      <td>0.609626</td>\n",
       "      <td>0.477803</td>\n",
       "      <td>0.476647</td>\n",
       "      <td>0.501956</td>\n",
       "      <td>0.220875</td>\n",
       "    </tr>\n",
       "    <tr>\n",
       "      <th>emg_6</th>\n",
       "      <td>0.176835</td>\n",
       "      <td>0.419069</td>\n",
       "      <td>0.206657</td>\n",
       "      <td>0.249064</td>\n",
       "      <td>0.641675</td>\n",
       "      <td>1.000000</td>\n",
       "      <td>0.681425</td>\n",
       "      <td>0.334104</td>\n",
       "      <td>0.293283</td>\n",
       "      <td>0.450019</td>\n",
       "      <td>0.165580</td>\n",
       "    </tr>\n",
       "    <tr>\n",
       "      <th>emg_7</th>\n",
       "      <td>0.191175</td>\n",
       "      <td>0.480181</td>\n",
       "      <td>0.307099</td>\n",
       "      <td>0.280444</td>\n",
       "      <td>0.609626</td>\n",
       "      <td>0.681425</td>\n",
       "      <td>1.000000</td>\n",
       "      <td>0.446624</td>\n",
       "      <td>0.372298</td>\n",
       "      <td>0.571753</td>\n",
       "      <td>0.166338</td>\n",
       "    </tr>\n",
       "    <tr>\n",
       "      <th>emg_8</th>\n",
       "      <td>0.340444</td>\n",
       "      <td>0.418293</td>\n",
       "      <td>0.377289</td>\n",
       "      <td>0.381770</td>\n",
       "      <td>0.477803</td>\n",
       "      <td>0.334104</td>\n",
       "      <td>0.446624</td>\n",
       "      <td>1.000000</td>\n",
       "      <td>0.318840</td>\n",
       "      <td>0.537299</td>\n",
       "      <td>0.346617</td>\n",
       "    </tr>\n",
       "    <tr>\n",
       "      <th>emg_9</th>\n",
       "      <td>0.311100</td>\n",
       "      <td>0.496885</td>\n",
       "      <td>0.601478</td>\n",
       "      <td>0.482089</td>\n",
       "      <td>0.476647</td>\n",
       "      <td>0.293283</td>\n",
       "      <td>0.372298</td>\n",
       "      <td>0.318840</td>\n",
       "      <td>1.000000</td>\n",
       "      <td>0.388849</td>\n",
       "      <td>0.265918</td>\n",
       "    </tr>\n",
       "    <tr>\n",
       "      <th>emg_10</th>\n",
       "      <td>0.293134</td>\n",
       "      <td>0.457090</td>\n",
       "      <td>0.405319</td>\n",
       "      <td>0.410729</td>\n",
       "      <td>0.501956</td>\n",
       "      <td>0.450019</td>\n",
       "      <td>0.571753</td>\n",
       "      <td>0.537299</td>\n",
       "      <td>0.388849</td>\n",
       "      <td>1.000000</td>\n",
       "      <td>0.287247</td>\n",
       "    </tr>\n",
       "    <tr>\n",
       "      <th>label</th>\n",
       "      <td>0.297431</td>\n",
       "      <td>0.285061</td>\n",
       "      <td>0.279396</td>\n",
       "      <td>0.269300</td>\n",
       "      <td>0.220875</td>\n",
       "      <td>0.165580</td>\n",
       "      <td>0.166338</td>\n",
       "      <td>0.346617</td>\n",
       "      <td>0.265918</td>\n",
       "      <td>0.287247</td>\n",
       "      <td>1.000000</td>\n",
       "    </tr>\n",
       "  </tbody>\n",
       "</table>\n",
       "</div>"
      ],
      "text/plain": [
       "           emg_1     emg_2     emg_3     emg_4     emg_5     emg_6     emg_7  \\\n",
       "emg_1   1.000000  0.453761  0.326322  0.280480  0.382454  0.176835  0.191175   \n",
       "emg_2   0.453761  1.000000  0.451567  0.381319  0.548464  0.419069  0.480181   \n",
       "emg_3   0.326322  0.451567  1.000000  0.510592  0.453392  0.206657  0.307099   \n",
       "emg_4   0.280480  0.381319  0.510592  1.000000  0.670789  0.249064  0.280444   \n",
       "emg_5   0.382454  0.548464  0.453392  0.670789  1.000000  0.641675  0.609626   \n",
       "emg_6   0.176835  0.419069  0.206657  0.249064  0.641675  1.000000  0.681425   \n",
       "emg_7   0.191175  0.480181  0.307099  0.280444  0.609626  0.681425  1.000000   \n",
       "emg_8   0.340444  0.418293  0.377289  0.381770  0.477803  0.334104  0.446624   \n",
       "emg_9   0.311100  0.496885  0.601478  0.482089  0.476647  0.293283  0.372298   \n",
       "emg_10  0.293134  0.457090  0.405319  0.410729  0.501956  0.450019  0.571753   \n",
       "label   0.297431  0.285061  0.279396  0.269300  0.220875  0.165580  0.166338   \n",
       "\n",
       "           emg_8     emg_9    emg_10     label  \n",
       "emg_1   0.340444  0.311100  0.293134  0.297431  \n",
       "emg_2   0.418293  0.496885  0.457090  0.285061  \n",
       "emg_3   0.377289  0.601478  0.405319  0.279396  \n",
       "emg_4   0.381770  0.482089  0.410729  0.269300  \n",
       "emg_5   0.477803  0.476647  0.501956  0.220875  \n",
       "emg_6   0.334104  0.293283  0.450019  0.165580  \n",
       "emg_7   0.446624  0.372298  0.571753  0.166338  \n",
       "emg_8   1.000000  0.318840  0.537299  0.346617  \n",
       "emg_9   0.318840  1.000000  0.388849  0.265918  \n",
       "emg_10  0.537299  0.388849  1.000000  0.287247  \n",
       "label   0.346617  0.265918  0.287247  1.000000  "
      ]
     },
     "execution_count": 99,
     "metadata": {},
     "output_type": "execute_result"
    }
   ],
   "source": [
    "df['label'] = df['label'].astype('uint8')\n",
    "# Calculate the correlation matrix\n",
    "correlation_matrix = df[['emg_1', 'emg_2', 'emg_3', 'emg_4', 'emg_5', 'emg_6', 'emg_7', 'emg_8','emg_9', 'emg_10','label']].corr()\n",
    "\n",
    "# Print the correlation matrix\n",
    "print(\"Correlation Matrix:\")\n",
    "correlation_matrix"
   ]
  },
  {
   "cell_type": "code",
   "execution_count": 100,
   "metadata": {},
   "outputs": [
    {
     "data": {
      "image/png": "[encoded data removed]",
      "text/plain": [
       "<Figure size 1000x800 with 2 Axes>"
      ]
     },
     "metadata": {},
     "output_type": "display_data"
    }
   ],
   "source": [
    "# Create a heatmap\n",
    "plt.figure(figsize=(10, 8))\n",
    "sns.heatmap(correlation_matrix, annot=True, cmap='coolwarm', fmt=\".2f\", linewidths=0.5)\n",
    "plt.title('Correlation Heatmap')\n",
    "plt.show()"
   ]
  },
  {
   "cell_type": "markdown",
   "metadata": {},
   "source": [
    "Eliminemos cosas que no se necesitan"
   ]
  },
  {
   "cell_type": "code",
   "execution_count": 101,
   "metadata": {},
   "outputs": [
    {
     "data": {
      "text/html": [
       "<div>\n",
       "<style scoped>\n",
       "    .dataframe tbody tr th:only-of-type {\n",
       "        vertical-align: middle;\n",
       "    }\n",
       "\n",
       "    .dataframe tbody tr th {\n",
       "        vertical-align: top;\n",
       "    }\n",
       "\n",
       "    .dataframe thead th {\n",
       "        text-align: right;\n",
       "    }\n",
       "</style>\n",
       "<table border=\"1\" class=\"dataframe\">\n",
       "  <thead>\n",
       "    <tr style=\"text-align: right;\">\n",
       "      <th></th>\n",
       "      <th>s</th>\n",
       "      <th>emg_1</th>\n",
       "      <th>emg_2</th>\n",
       "      <th>emg_3</th>\n",
       "      <th>emg_4</th>\n",
       "      <th>emg_5</th>\n",
       "      <th>emg_6</th>\n",
       "      <th>emg_7</th>\n",
       "      <th>emg_8</th>\n",
       "      <th>emg_9</th>\n",
       "      <th>emg_10</th>\n",
       "      <th>label</th>\n",
       "    </tr>\n",
       "  </thead>\n",
       "  <tbody>\n",
       "    <tr>\n",
       "      <th>0</th>\n",
       "      <td>1</td>\n",
       "      <td>0.067523</td>\n",
       "      <td>0.002402</td>\n",
       "      <td>0.002399</td>\n",
       "      <td>0.002403</td>\n",
       "      <td>0.002395</td>\n",
       "      <td>0.009800</td>\n",
       "      <td>0.0024</td>\n",
       "      <td>0.050357</td>\n",
       "      <td>0.0024</td>\n",
       "      <td>0.034192</td>\n",
       "      <td>0</td>\n",
       "    </tr>\n",
       "    <tr>\n",
       "      <th>1</th>\n",
       "      <td>1</td>\n",
       "      <td>0.066284</td>\n",
       "      <td>0.002402</td>\n",
       "      <td>0.002402</td>\n",
       "      <td>0.002404</td>\n",
       "      <td>0.002395</td>\n",
       "      <td>0.009474</td>\n",
       "      <td>0.0024</td>\n",
       "      <td>0.049707</td>\n",
       "      <td>0.0024</td>\n",
       "      <td>0.032820</td>\n",
       "      <td>0</td>\n",
       "    </tr>\n",
       "    <tr>\n",
       "      <th>2</th>\n",
       "      <td>1</td>\n",
       "      <td>0.065045</td>\n",
       "      <td>0.002403</td>\n",
       "      <td>0.002405</td>\n",
       "      <td>0.002404</td>\n",
       "      <td>0.002395</td>\n",
       "      <td>0.009149</td>\n",
       "      <td>0.0024</td>\n",
       "      <td>0.049050</td>\n",
       "      <td>0.0024</td>\n",
       "      <td>0.031452</td>\n",
       "      <td>0</td>\n",
       "    </tr>\n",
       "    <tr>\n",
       "      <th>3</th>\n",
       "      <td>1</td>\n",
       "      <td>0.063810</td>\n",
       "      <td>0.002403</td>\n",
       "      <td>0.002409</td>\n",
       "      <td>0.002405</td>\n",
       "      <td>0.002395</td>\n",
       "      <td>0.008827</td>\n",
       "      <td>0.0024</td>\n",
       "      <td>0.048390</td>\n",
       "      <td>0.0024</td>\n",
       "      <td>0.030091</td>\n",
       "      <td>0</td>\n",
       "    </tr>\n",
       "    <tr>\n",
       "      <th>4</th>\n",
       "      <td>1</td>\n",
       "      <td>0.062581</td>\n",
       "      <td>0.002404</td>\n",
       "      <td>0.002412</td>\n",
       "      <td>0.002406</td>\n",
       "      <td>0.002395</td>\n",
       "      <td>0.008507</td>\n",
       "      <td>0.0024</td>\n",
       "      <td>0.047726</td>\n",
       "      <td>0.0024</td>\n",
       "      <td>0.028743</td>\n",
       "      <td>0</td>\n",
       "    </tr>\n",
       "  </tbody>\n",
       "</table>\n",
       "</div>"
      ],
      "text/plain": [
       "   s     emg_1     emg_2     emg_3     emg_4     emg_5     emg_6   emg_7  \\\n",
       "0  1  0.067523  0.002402  0.002399  0.002403  0.002395  0.009800  0.0024   \n",
       "1  1  0.066284  0.002402  0.002402  0.002404  0.002395  0.009474  0.0024   \n",
       "2  1  0.065045  0.002403  0.002405  0.002404  0.002395  0.009149  0.0024   \n",
       "3  1  0.063810  0.002403  0.002409  0.002405  0.002395  0.008827  0.0024   \n",
       "4  1  0.062581  0.002404  0.002412  0.002406  0.002395  0.008507  0.0024   \n",
       "\n",
       "      emg_8   emg_9    emg_10  label  \n",
       "0  0.050357  0.0024  0.034192      0  \n",
       "1  0.049707  0.0024  0.032820      0  \n",
       "2  0.049050  0.0024  0.031452      0  \n",
       "3  0.048390  0.0024  0.030091      0  \n",
       "4  0.047726  0.0024  0.028743      0  "
      ]
     },
     "execution_count": 101,
     "metadata": {},
     "output_type": "execute_result"
    }
   ],
   "source": [
    "df_filtered = df.drop(['rep', 't'], axis=1)\n",
    "df_filtered.head()"
   ]
  },
  {
   "cell_type": "markdown",
   "metadata": {},
   "source": [
    "### Guardado del archivo"
   ]
  },
  {
   "cell_type": "code",
   "execution_count": 103,
   "metadata": {},
   "outputs": [
    {
     "name": "stdout",
     "output_type": "stream",
     "text": [
      "No se hace nada el archivo ya existe\n"
     ]
    }
   ],
   "source": [
    "filter_dataset_name = \"filter_dataset\"\n",
    "filter_dataset_csv = filter_dataset_name + \".csv\"\n",
    "dest_zip = filter_dataset_name + \".zip\"\n",
    "dest_dir_datasets = \"./datasets/\"\n",
    "if not(os.path.exists(dest_dir_datasets + dest_zip)):\n",
    "    # Archivo no existe\n",
    "    # Se exporta el dataframe a un archivo CSV\n",
    "    print(f\"Generando archivo {filter_dataset_csv}\")\n",
    "    df_filtered.to_csv(dest_dir_datasets + filter_dataset_csv, index=False)\n",
    "    stat_dataset = os.stat(dest_dir_datasets + filter_dataset_csv)\n",
    "    print(f\"Tamaño del dataset {filter_dataset_csv}: {stat_dataset.st_size/((1024 * 1024))} MB\")\n",
    "    # Creacion del archivo comprimido\n",
    "    with zipfile.ZipFile(dest_dir_datasets + dest_zip, 'w', zipfile.ZIP_DEFLATED) as zipf:\n",
    "        print(f\"Archivo {dest_zip} generado\")\n",
    "        zipf.write(dest_dir_datasets + filter_dataset_csv)\n",
    "        os.remove(dest_dir_datasets + filter_dataset_csv)\n",
    "        print(f\"Archivo {filter_dataset_csv} eliminado\")\n",
    "        os.remove(dest_dir_datasets + dataset_csv)\n",
    "        print(f\"Archivo {dataset_csv} eliminado\")        \n",
    "else:\n",
    "   print(\"No se hace nada el archivo ya existe\")"
   ]
  },
  {
   "cell_type": "markdown",
   "metadata": {},
   "source": [
    "Hasta aqui queda la base de datos estructurada. La siguiente parte consiste en meterla al modelo y rezar para que de."
   ]
  },
  {
   "cell_type": "markdown",
   "metadata": {},
   "source": [
    "Aqui no se van a eliminar outlines para evitar la perdida de continuidad de la señal."
   ]
  },
  {
   "cell_type": "markdown",
   "metadata": {
    "id": "Rx51nv4B3Cs7"
   },
   "source": [
    "## Referencias\n",
    "\n",
    "* https://github.com/chuawt/eda-starter\n",
    "* https://www.kaggle.com/code/bextuychiev/my-6-part-powerful-eda-template\n",
    "* https://community.ibm.com/community/user/ai-datascience/blogs/shivam-solanki1/2020/02/19/eda-exploratory-data-analysis-with-example-in-jupy\n",
    "* https://github.com/Saba-Gul/Exploratory-Data-Analysis-and-Statistical-Analysis-Notebooks\n",
    "* https://www.datacamp.com/es/tutorial/pandas-profiling-ydata-profiling-in-python-guide\n",
    "* https://docs.profiling.ydata.ai/latest/\n",
    "* https://github.com/Saba-Gul/Exploratory-Data-Analysis-and-Statistical-Analysis-Notebooks/blob/main/Statistics_for_ML.ipynb\n",
    "* https://github.com/Saba-Gul/Exploratory-Data-Analysis-and-Statistical-Analysis-Notebooks/blob/main/Online_Ed_Adaptability.ipynb\n",
    "* https://github.com/Saba-Gul/Exploratory-Data-Analysis-and-Statistical-Analysis-Notebooks/blob/main/Heart_Failure_Survival_Classification.ipynb\n",
    "* https://github.com/akueisara/audio-signal-processing/blob/master/week%204/A4/A4Part2.py\n",
    "* https://docs.profiling.ydata.ai/latest/"
   ]
  },
  {
   "cell_type": "markdown",
   "metadata": {},
   "source": []
  }
 ],
 "metadata": {
  "colab": {
   "provenance": [],
   "toc_visible": true
  },
  "kernelspec": {
   "display_name": "Python 3",
   "name": "python3"
  },
  "language_info": {
   "codemirror_mode": {
    "name": "ipython",
    "version": 3
   },
   "file_extension": ".py",
   "mimetype": "text/x-python",
   "name": "python",
   "nbconvert_exporter": "python",
   "pygments_lexer": "ipython3",
   "version": "3.9.13"
  }
 },
 "nbformat": 4,
 "nbformat_minor": 0
}
